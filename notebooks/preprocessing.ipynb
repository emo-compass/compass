{
 "cells": [
  {
   "cell_type": "markdown",
   "metadata": {},
   "source": [
    "# Set"
   ]
  },
  {
   "cell_type": "code",
   "execution_count": 1,
   "metadata": {},
   "outputs": [],
   "source": [
    "import re\n",
    "import pandas as pd\n",
    "import numpy as np\n",
    "import seaborn as sns\n",
    "import matplotlib.pyplot as plt\n",
    "import koreanize_matplotlib\n",
    "import platform\n",
    "import warnings\n",
    "warnings.filterwarnings('ignore')\n",
    "import tensorflow as tf\n",
    "\n",
    "from sklearn.feature_extraction.text import CountVectorizer\n",
    "from konlpy.tag import Okt\n",
    "from collections import Counter\n",
    "from PIL import Image\n",
    "from wordcloud import WordCloud\n",
    "from tensorflow.keras.preprocessing.sequence import pad_sequences\n",
    "from tensorflow.keras.preprocessing.text import Tokenizer"
   ]
  },
  {
   "cell_type": "markdown",
   "metadata": {},
   "source": [
    "# Load Data"
   ]
  },
  {
   "cell_type": "code",
   "execution_count": 2,
   "metadata": {},
   "outputs": [
    {
     "data": {
      "text/html": [
       "<div>\n",
       "<style scoped>\n",
       "    .dataframe tbody tr th:only-of-type {\n",
       "        vertical-align: middle;\n",
       "    }\n",
       "\n",
       "    .dataframe tbody tr th {\n",
       "        vertical-align: top;\n",
       "    }\n",
       "\n",
       "    .dataframe thead th {\n",
       "        text-align: right;\n",
       "    }\n",
       "</style>\n",
       "<table border=\"1\" class=\"dataframe\">\n",
       "  <thead>\n",
       "    <tr style=\"text-align: right;\">\n",
       "      <th></th>\n",
       "      <th>Index</th>\n",
       "      <th>RawText</th>\n",
       "      <th>Source</th>\n",
       "      <th>Domain</th>\n",
       "      <th>MainCategory</th>\n",
       "      <th>ProductName</th>\n",
       "      <th>ReviewScore</th>\n",
       "      <th>Syllable</th>\n",
       "      <th>Word</th>\n",
       "      <th>RDate</th>\n",
       "      <th>GeneralPolarity</th>\n",
       "      <th>Aspect</th>\n",
       "      <th>SentimentText</th>\n",
       "      <th>SentimentWord</th>\n",
       "      <th>SentimentPolarity</th>\n",
       "    </tr>\n",
       "  </thead>\n",
       "  <tbody>\n",
       "    <tr>\n",
       "      <th>0</th>\n",
       "      <td>660023</td>\n",
       "      <td>인생템입니다. 겨울이면 맨날 입술 트고 갈라지고 장난아닌데, 올 겨울은 촉촉하게 보...</td>\n",
       "      <td>쇼핑몰</td>\n",
       "      <td>화장품</td>\n",
       "      <td>메이크업/뷰티소품</td>\n",
       "      <td>OO 립 크림 1.5g 1개</td>\n",
       "      <td>5</td>\n",
       "      <td>88</td>\n",
       "      <td>20</td>\n",
       "      <td>20180205</td>\n",
       "      <td>1.0</td>\n",
       "      <td>기능/효과</td>\n",
       "      <td>올 겨울은 촉촉하게 보내고 있어 좋습니다.</td>\n",
       "      <td>6</td>\n",
       "      <td>1</td>\n",
       "    </tr>\n",
       "    <tr>\n",
       "      <th>1</th>\n",
       "      <td>660038</td>\n",
       "      <td>발림성 좋습니다. 지속력 좋네요. 건조해진 입술 살짝 발라줬는데 금방 촉촉해져서 좋...</td>\n",
       "      <td>쇼핑몰</td>\n",
       "      <td>화장품</td>\n",
       "      <td>메이크업/뷰티소품</td>\n",
       "      <td>OO 립 크림 1.5g 1개</td>\n",
       "      <td>5</td>\n",
       "      <td>86</td>\n",
       "      <td>20</td>\n",
       "      <td>20171121</td>\n",
       "      <td>1.0</td>\n",
       "      <td>발림성</td>\n",
       "      <td>발림성 좋습니다.</td>\n",
       "      <td>2</td>\n",
       "      <td>1</td>\n",
       "    </tr>\n",
       "    <tr>\n",
       "      <th>2</th>\n",
       "      <td>660044</td>\n",
       "      <td>양이 작아서 금방 쓰겠어요. 보습력도 별로고요. 배송은 빨랐어요. 재구매는 안 할래요.</td>\n",
       "      <td>쇼핑몰</td>\n",
       "      <td>화장품</td>\n",
       "      <td>메이크업/뷰티소품</td>\n",
       "      <td>OO 립 크림 1.5g 1개</td>\n",
       "      <td>4</td>\n",
       "      <td>48</td>\n",
       "      <td>11</td>\n",
       "      <td>20171110</td>\n",
       "      <td>-1.0</td>\n",
       "      <td>용량/개수</td>\n",
       "      <td>양이 작아서 금방 쓰겠어요.</td>\n",
       "      <td>4</td>\n",
       "      <td>-1</td>\n",
       "    </tr>\n",
       "    <tr>\n",
       "      <th>3</th>\n",
       "      <td>660055</td>\n",
       "      <td>추워지면 늘 입술이 갈라져서 사봤는데 촉촉함이 오래 안가요. 양도 너무 작구요.</td>\n",
       "      <td>쇼핑몰</td>\n",
       "      <td>화장품</td>\n",
       "      <td>메이크업/뷰티소품</td>\n",
       "      <td>OO 립 크림 1.5g 1개</td>\n",
       "      <td>5</td>\n",
       "      <td>44</td>\n",
       "      <td>11</td>\n",
       "      <td>20170911</td>\n",
       "      <td>-1.0</td>\n",
       "      <td>지속력/유지력</td>\n",
       "      <td>촉촉함이 오래 안가요.</td>\n",
       "      <td>3</td>\n",
       "      <td>-1</td>\n",
       "    </tr>\n",
       "    <tr>\n",
       "      <th>4</th>\n",
       "      <td>660060</td>\n",
       "      <td>입소문 듣고 처음 구매해 봤는데 배송이 빨라서 좋았어요. 지금 발라보니 번들거리긴 ...</td>\n",
       "      <td>쇼핑몰</td>\n",
       "      <td>화장품</td>\n",
       "      <td>메이크업/뷰티소품</td>\n",
       "      <td>OO 립 크림 1.5g 1개</td>\n",
       "      <td>4</td>\n",
       "      <td>59</td>\n",
       "      <td>14</td>\n",
       "      <td>20170824</td>\n",
       "      <td>-1.0</td>\n",
       "      <td>흡수력</td>\n",
       "      <td>번들거리긴 합니다.</td>\n",
       "      <td>2</td>\n",
       "      <td>-1</td>\n",
       "    </tr>\n",
       "  </tbody>\n",
       "</table>\n",
       "</div>"
      ],
      "text/plain": [
       "    Index                                            RawText Source Domain  \\\n",
       "0  660023  인생템입니다. 겨울이면 맨날 입술 트고 갈라지고 장난아닌데, 올 겨울은 촉촉하게 보...    쇼핑몰    화장품   \n",
       "1  660038  발림성 좋습니다. 지속력 좋네요. 건조해진 입술 살짝 발라줬는데 금방 촉촉해져서 좋...    쇼핑몰    화장품   \n",
       "2  660044   양이 작아서 금방 쓰겠어요. 보습력도 별로고요. 배송은 빨랐어요. 재구매는 안 할래요.    쇼핑몰    화장품   \n",
       "3  660055       추워지면 늘 입술이 갈라져서 사봤는데 촉촉함이 오래 안가요. 양도 너무 작구요.    쇼핑몰    화장품   \n",
       "4  660060  입소문 듣고 처음 구매해 봤는데 배송이 빨라서 좋았어요. 지금 발라보니 번들거리긴 ...    쇼핑몰    화장품   \n",
       "\n",
       "  MainCategory      ProductName  ReviewScore  Syllable  Word     RDate  \\\n",
       "0    메이크업/뷰티소품  OO 립 크림 1.5g 1개            5        88    20  20180205   \n",
       "1    메이크업/뷰티소품  OO 립 크림 1.5g 1개            5        86    20  20171121   \n",
       "2    메이크업/뷰티소품  OO 립 크림 1.5g 1개            4        48    11  20171110   \n",
       "3    메이크업/뷰티소품  OO 립 크림 1.5g 1개            5        44    11  20170911   \n",
       "4    메이크업/뷰티소품  OO 립 크림 1.5g 1개            4        59    14  20170824   \n",
       "\n",
       "   GeneralPolarity   Aspect             SentimentText  SentimentWord  \\\n",
       "0              1.0    기능/효과  올 겨울은 촉촉하게 보내고 있어 좋습니다.               6   \n",
       "1              1.0      발림성                 발림성 좋습니다.              2   \n",
       "2             -1.0    용량/개수           양이 작아서 금방 쓰겠어요.              4   \n",
       "3             -1.0  지속력/유지력             촉촉함이 오래 안가요.               3   \n",
       "4             -1.0      흡수력               번들거리긴 합니다.               2   \n",
       "\n",
       "   SentimentPolarity  \n",
       "0                  1  \n",
       "1                  1  \n",
       "2                 -1  \n",
       "3                 -1  \n",
       "4                 -1  "
      ]
     },
     "execution_count": 2,
     "metadata": {},
     "output_type": "execute_result"
    }
   ],
   "source": [
    "path = \"../data/general.csv\"\n",
    "df = pd.read_csv(path, sep = ',', encoding = 'utf-8', header = 0)\n",
    "df.head()"
   ]
  },
  {
   "cell_type": "code",
   "execution_count": 3,
   "metadata": {},
   "outputs": [
    {
     "data": {
      "text/html": [
       "<div>\n",
       "<style scoped>\n",
       "    .dataframe tbody tr th:only-of-type {\n",
       "        vertical-align: middle;\n",
       "    }\n",
       "\n",
       "    .dataframe tbody tr th {\n",
       "        vertical-align: top;\n",
       "    }\n",
       "\n",
       "    .dataframe thead th {\n",
       "        text-align: right;\n",
       "    }\n",
       "</style>\n",
       "<table border=\"1\" class=\"dataframe\">\n",
       "  <thead>\n",
       "    <tr style=\"text-align: right;\">\n",
       "      <th></th>\n",
       "      <th>Index</th>\n",
       "      <th>RawText</th>\n",
       "      <th>Source</th>\n",
       "      <th>Domain</th>\n",
       "      <th>MainCategory</th>\n",
       "      <th>ProductName</th>\n",
       "      <th>ReviewScore</th>\n",
       "      <th>Syllable</th>\n",
       "      <th>Word</th>\n",
       "      <th>RDate</th>\n",
       "      <th>GeneralPolarity</th>\n",
       "    </tr>\n",
       "  </thead>\n",
       "  <tbody>\n",
       "    <tr>\n",
       "      <th>0</th>\n",
       "      <td>660023</td>\n",
       "      <td>인생템입니다. 겨울이면 맨날 입술 트고 갈라지고 장난아닌데, 올 겨울은 촉촉하게 보...</td>\n",
       "      <td>쇼핑몰</td>\n",
       "      <td>화장품</td>\n",
       "      <td>메이크업/뷰티소품</td>\n",
       "      <td>OO 립 크림 1.5g 1개</td>\n",
       "      <td>5</td>\n",
       "      <td>88</td>\n",
       "      <td>20</td>\n",
       "      <td>20180205</td>\n",
       "      <td>1.0</td>\n",
       "    </tr>\n",
       "    <tr>\n",
       "      <th>1</th>\n",
       "      <td>660038</td>\n",
       "      <td>발림성 좋습니다. 지속력 좋네요. 건조해진 입술 살짝 발라줬는데 금방 촉촉해져서 좋...</td>\n",
       "      <td>쇼핑몰</td>\n",
       "      <td>화장품</td>\n",
       "      <td>메이크업/뷰티소품</td>\n",
       "      <td>OO 립 크림 1.5g 1개</td>\n",
       "      <td>5</td>\n",
       "      <td>86</td>\n",
       "      <td>20</td>\n",
       "      <td>20171121</td>\n",
       "      <td>1.0</td>\n",
       "    </tr>\n",
       "    <tr>\n",
       "      <th>2</th>\n",
       "      <td>660044</td>\n",
       "      <td>양이 작아서 금방 쓰겠어요. 보습력도 별로고요. 배송은 빨랐어요. 재구매는 안 할래요.</td>\n",
       "      <td>쇼핑몰</td>\n",
       "      <td>화장품</td>\n",
       "      <td>메이크업/뷰티소품</td>\n",
       "      <td>OO 립 크림 1.5g 1개</td>\n",
       "      <td>4</td>\n",
       "      <td>48</td>\n",
       "      <td>11</td>\n",
       "      <td>20171110</td>\n",
       "      <td>-1.0</td>\n",
       "    </tr>\n",
       "    <tr>\n",
       "      <th>3</th>\n",
       "      <td>660055</td>\n",
       "      <td>추워지면 늘 입술이 갈라져서 사봤는데 촉촉함이 오래 안가요. 양도 너무 작구요.</td>\n",
       "      <td>쇼핑몰</td>\n",
       "      <td>화장품</td>\n",
       "      <td>메이크업/뷰티소품</td>\n",
       "      <td>OO 립 크림 1.5g 1개</td>\n",
       "      <td>5</td>\n",
       "      <td>44</td>\n",
       "      <td>11</td>\n",
       "      <td>20170911</td>\n",
       "      <td>-1.0</td>\n",
       "    </tr>\n",
       "    <tr>\n",
       "      <th>4</th>\n",
       "      <td>660060</td>\n",
       "      <td>입소문 듣고 처음 구매해 봤는데 배송이 빨라서 좋았어요. 지금 발라보니 번들거리긴 ...</td>\n",
       "      <td>쇼핑몰</td>\n",
       "      <td>화장품</td>\n",
       "      <td>메이크업/뷰티소품</td>\n",
       "      <td>OO 립 크림 1.5g 1개</td>\n",
       "      <td>4</td>\n",
       "      <td>59</td>\n",
       "      <td>14</td>\n",
       "      <td>20170824</td>\n",
       "      <td>-1.0</td>\n",
       "    </tr>\n",
       "  </tbody>\n",
       "</table>\n",
       "</div>"
      ],
      "text/plain": [
       "    Index                                            RawText Source Domain  \\\n",
       "0  660023  인생템입니다. 겨울이면 맨날 입술 트고 갈라지고 장난아닌데, 올 겨울은 촉촉하게 보...    쇼핑몰    화장품   \n",
       "1  660038  발림성 좋습니다. 지속력 좋네요. 건조해진 입술 살짝 발라줬는데 금방 촉촉해져서 좋...    쇼핑몰    화장품   \n",
       "2  660044   양이 작아서 금방 쓰겠어요. 보습력도 별로고요. 배송은 빨랐어요. 재구매는 안 할래요.    쇼핑몰    화장품   \n",
       "3  660055       추워지면 늘 입술이 갈라져서 사봤는데 촉촉함이 오래 안가요. 양도 너무 작구요.    쇼핑몰    화장품   \n",
       "4  660060  입소문 듣고 처음 구매해 봤는데 배송이 빨라서 좋았어요. 지금 발라보니 번들거리긴 ...    쇼핑몰    화장품   \n",
       "\n",
       "  MainCategory      ProductName  ReviewScore  Syllable  Word     RDate  \\\n",
       "0    메이크업/뷰티소품  OO 립 크림 1.5g 1개            5        88    20  20180205   \n",
       "1    메이크업/뷰티소품  OO 립 크림 1.5g 1개            5        86    20  20171121   \n",
       "2    메이크업/뷰티소품  OO 립 크림 1.5g 1개            4        48    11  20171110   \n",
       "3    메이크업/뷰티소품  OO 립 크림 1.5g 1개            5        44    11  20170911   \n",
       "4    메이크업/뷰티소품  OO 립 크림 1.5g 1개            4        59    14  20170824   \n",
       "\n",
       "   GeneralPolarity  \n",
       "0              1.0  \n",
       "1              1.0  \n",
       "2             -1.0  \n",
       "3             -1.0  \n",
       "4             -1.0  "
      ]
     },
     "execution_count": 3,
     "metadata": {},
     "output_type": "execute_result"
    }
   ],
   "source": [
    "df = df.drop(['Aspect', 'SentimentText', 'SentimentWord', 'SentimentPolarity'], axis=1)\n",
    "df.head()"
   ]
  },
  {
   "cell_type": "code",
   "execution_count": 4,
   "metadata": {},
   "outputs": [
    {
     "name": "stdout",
     "output_type": "stream",
     "text": [
      "<class 'pandas.core.frame.DataFrame'>\n",
      "RangeIndex: 158119 entries, 0 to 158118\n",
      "Data columns (total 11 columns):\n",
      " #   Column           Non-Null Count   Dtype  \n",
      "---  ------           --------------   -----  \n",
      " 0   Index            158119 non-null  int64  \n",
      " 1   RawText          158119 non-null  object \n",
      " 2   Source           158119 non-null  object \n",
      " 3   Domain           158119 non-null  object \n",
      " 4   MainCategory     158119 non-null  object \n",
      " 5   ProductName      158114 non-null  object \n",
      " 6   ReviewScore      158119 non-null  int64  \n",
      " 7   Syllable         158119 non-null  int64  \n",
      " 8   Word             158119 non-null  int64  \n",
      " 9   RDate            158119 non-null  int64  \n",
      " 10  GeneralPolarity  144408 non-null  float64\n",
      "dtypes: float64(1), int64(5), object(5)\n",
      "memory usage: 13.3+ MB\n"
     ]
    }
   ],
   "source": [
    "df.info()"
   ]
  },
  {
   "cell_type": "code",
   "execution_count": 5,
   "metadata": {},
   "outputs": [
    {
     "name": "stdout",
     "output_type": "stream",
     "text": [
      "<class 'pandas.core.frame.DataFrame'>\n",
      "Int64Index: 144408 entries, 0 to 158118\n",
      "Data columns (total 11 columns):\n",
      " #   Column           Non-Null Count   Dtype  \n",
      "---  ------           --------------   -----  \n",
      " 0   Index            144408 non-null  int64  \n",
      " 1   RawText          144408 non-null  object \n",
      " 2   Source           144408 non-null  object \n",
      " 3   Domain           144408 non-null  object \n",
      " 4   MainCategory     144408 non-null  object \n",
      " 5   ProductName      144403 non-null  object \n",
      " 6   ReviewScore      144408 non-null  int64  \n",
      " 7   Syllable         144408 non-null  int64  \n",
      " 8   Word             144408 non-null  int64  \n",
      " 9   RDate            144408 non-null  int64  \n",
      " 10  GeneralPolarity  144408 non-null  float64\n",
      "dtypes: float64(1), int64(5), object(5)\n",
      "memory usage: 13.2+ MB\n"
     ]
    }
   ],
   "source": [
    "# 결측치 삭제\n",
    "df = df[df['GeneralPolarity'].notna()]\n",
    "df.info()"
   ]
  },
  {
   "cell_type": "code",
   "execution_count": 6,
   "metadata": {},
   "outputs": [
    {
     "data": {
      "text/plain": [
       "-1.0    22899\n",
       " 0.0    29723\n",
       " 1.0    91786\n",
       "Name: GeneralPolarity, dtype: int64"
      ]
     },
     "execution_count": 6,
     "metadata": {},
     "output_type": "execute_result"
    }
   ],
   "source": [
    "df['GeneralPolarity'].value_counts().sort_index()"
   ]
  },
  {
   "cell_type": "code",
   "execution_count": 7,
   "metadata": {},
   "outputs": [
    {
     "data": {
      "text/plain": [
       "0         86\n",
       "1        931\n",
       "2        462\n",
       "3       2669\n",
       "4      11232\n",
       "5      71561\n",
       "10       952\n",
       "20      1238\n",
       "30       356\n",
       "40      1187\n",
       "50       896\n",
       "60      3315\n",
       "70      1733\n",
       "80      6488\n",
       "90       781\n",
       "100    40521\n",
       "Name: ReviewScore, dtype: int64"
      ]
     },
     "execution_count": 7,
     "metadata": {},
     "output_type": "execute_result"
    }
   ],
   "source": [
    "df['ReviewScore'].value_counts().sort_index()"
   ]
  },
  {
   "cell_type": "code",
   "execution_count": 8,
   "metadata": {},
   "outputs": [
    {
     "data": {
      "text/plain": [
       "count    144408.000000\n",
       "mean         80.057829\n",
       "std          41.376395\n",
       "min           8.000000\n",
       "25%          53.000000\n",
       "50%          70.000000\n",
       "75%          96.000000\n",
       "max         550.000000\n",
       "Name: Syllable, dtype: float64"
      ]
     },
     "execution_count": 8,
     "metadata": {},
     "output_type": "execute_result"
    }
   ],
   "source": [
    "df['Syllable'].describe()"
   ]
  },
  {
   "cell_type": "code",
   "execution_count": 9,
   "metadata": {},
   "outputs": [
    {
     "data": {
      "text/plain": [
       "count    144408.000000\n",
       "mean         18.172650\n",
       "std           9.791787\n",
       "min           1.000000\n",
       "25%          12.000000\n",
       "50%          16.000000\n",
       "75%          22.000000\n",
       "max         146.000000\n",
       "Name: Word, dtype: float64"
      ]
     },
     "execution_count": 9,
     "metadata": {},
     "output_type": "execute_result"
    }
   ],
   "source": [
    "df['Word'].describe()"
   ]
  },
  {
   "cell_type": "markdown",
   "metadata": {},
   "source": [
    "# X,Y split"
   ]
  },
  {
   "cell_type": "code",
   "execution_count": 10,
   "metadata": {},
   "outputs": [
    {
     "data": {
      "text/plain": [
       "0         1.0\n",
       "1         1.0\n",
       "2        -1.0\n",
       "3        -1.0\n",
       "4        -1.0\n",
       "         ... \n",
       "158114    0.0\n",
       "158115    1.0\n",
       "158116    0.0\n",
       "158117    1.0\n",
       "158118    1.0\n",
       "Name: GeneralPolarity, Length: 144408, dtype: float64"
      ]
     },
     "execution_count": 10,
     "metadata": {},
     "output_type": "execute_result"
    }
   ],
   "source": [
    "from sklearn.model_selection import train_test_split\n",
    "\n",
    "y = df['GeneralPolarity']\n",
    "y"
   ]
  },
  {
   "cell_type": "code",
   "execution_count": 11,
   "metadata": {},
   "outputs": [
    {
     "data": {
      "text/plain": [
       "0         인생템입니다. 겨울이면 맨날 입술 트고 갈라지고 장난아닌데, 올 겨울은 촉촉하게 보...\n",
       "1         발림성 좋습니다. 지속력 좋네요. 건조해진 입술 살짝 발라줬는데 금방 촉촉해져서 좋...\n",
       "2          양이 작아서 금방 쓰겠어요. 보습력도 별로고요. 배송은 빨랐어요. 재구매는 안 할래요.\n",
       "3              추워지면 늘 입술이 갈라져서 사봤는데 촉촉함이 오래 안가요. 양도 너무 작구요.\n",
       "4         입소문 듣고 처음 구매해 봤는데 배송이 빨라서 좋았어요. 지금 발라보니 번들거리긴 ...\n",
       "                                ...                        \n",
       "158114     핑크색상이 매우 예뻐서 만족해요 사이즈가 너무 아담해서 타자치기 살짝 답답해서 아쉽네요\n",
       "158115    화이트샀는데 너무 깔끔하고 좋아요 그리고 컴팩트한 사이지가 너무 귀여워서 좋아요 블...\n",
       "158116             블루투스 페어링이 잘 연결이 안되서 불편해요. 디자인은 깔끔하니 좋아요.\n",
       "158117               무게가 굉장히 가벼워서 좋구요. 이동하면서 사용할 수 있어 편리해요.\n",
       "158118    키보드 자판이 둥글게 생겨서 너무 예뻐요 그리고 자판이 패여서 타자칠때 또각또각 감...\n",
       "Name: RawText, Length: 144408, dtype: object"
      ]
     },
     "execution_count": 11,
     "metadata": {},
     "output_type": "execute_result"
    }
   ],
   "source": [
    "X = df['RawText']\n",
    "X"
   ]
  },
  {
   "cell_type": "code",
   "execution_count": 12,
   "metadata": {},
   "outputs": [],
   "source": [
    "# X_train, X_test, y_train, y_test = train_test_split(X, y, test_size=0.3, random_state=1)"
   ]
  },
  {
   "cell_type": "code",
   "execution_count": null,
   "metadata": {},
   "outputs": [],
   "source": []
  }
 ],
 "metadata": {
  "kernelspec": {
   "display_name": "ds_study",
   "language": "python",
   "name": "python3"
  },
  "language_info": {
   "codemirror_mode": {
    "name": "ipython",
    "version": 3
   },
   "file_extension": ".py",
   "mimetype": "text/x-python",
   "name": "python",
   "nbconvert_exporter": "python",
   "pygments_lexer": "ipython3",
   "version": "3.8.16"
  },
  "orig_nbformat": 4
 },
 "nbformat": 4,
 "nbformat_minor": 2
}
