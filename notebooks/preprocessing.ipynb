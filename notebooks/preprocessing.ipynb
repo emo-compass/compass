{
 "cells": [
  {
   "cell_type": "markdown",
   "metadata": {},
   "source": [
    "# Set"
   ]
  },
  {
   "cell_type": "code",
   "execution_count": 67,
   "metadata": {},
   "outputs": [],
   "source": [
    "import re\n",
    "import pandas as pd\n",
    "import numpy as np\n",
    "import seaborn as sns\n",
    "import matplotlib.pyplot as plt\n",
    "import koreanize_matplotlib\n",
    "import platform\n",
    "import warnings\n",
    "warnings.filterwarnings('ignore')\n",
    "import tensorflow as tf\n",
    "\n",
    "from konlpy.tag import Okt\n",
    "from tensorflow.keras.preprocessing.text import Tokenizer\n",
    "from tensorflow.keras.preprocessing.sequence import pad_sequences\n",
    "from sklearn.metrics import accuracy_score, precision_score, recall_score, f1_score\n",
    "\n",
    "from sklearn.feature_extraction.text import CountVectorizer\n",
    "from collections import Counter\n",
    "from PIL import Image\n",
    "from wordcloud import WordCloud"
   ]
  },
  {
   "cell_type": "markdown",
   "metadata": {},
   "source": [
    "# Load Data"
   ]
  },
  {
   "cell_type": "code",
   "execution_count": 2,
   "metadata": {},
   "outputs": [
    {
     "data": {
      "text/html": [
       "<div>\n",
       "<style scoped>\n",
       "    .dataframe tbody tr th:only-of-type {\n",
       "        vertical-align: middle;\n",
       "    }\n",
       "\n",
       "    .dataframe tbody tr th {\n",
       "        vertical-align: top;\n",
       "    }\n",
       "\n",
       "    .dataframe thead th {\n",
       "        text-align: right;\n",
       "    }\n",
       "</style>\n",
       "<table border=\"1\" class=\"dataframe\">\n",
       "  <thead>\n",
       "    <tr style=\"text-align: right;\">\n",
       "      <th></th>\n",
       "      <th>Index</th>\n",
       "      <th>RawText</th>\n",
       "      <th>Source</th>\n",
       "      <th>Domain</th>\n",
       "      <th>MainCategory</th>\n",
       "      <th>ProductName</th>\n",
       "      <th>ReviewScore</th>\n",
       "      <th>Syllable</th>\n",
       "      <th>Word</th>\n",
       "      <th>RDate</th>\n",
       "      <th>GeneralPolarity</th>\n",
       "      <th>Aspect</th>\n",
       "      <th>SentimentText</th>\n",
       "      <th>SentimentWord</th>\n",
       "      <th>SentimentPolarity</th>\n",
       "    </tr>\n",
       "  </thead>\n",
       "  <tbody>\n",
       "    <tr>\n",
       "      <th>0</th>\n",
       "      <td>660023</td>\n",
       "      <td>인생템입니다. 겨울이면 맨날 입술 트고 갈라지고 장난아닌데, 올 겨울은 촉촉하게 보...</td>\n",
       "      <td>쇼핑몰</td>\n",
       "      <td>화장품</td>\n",
       "      <td>메이크업/뷰티소품</td>\n",
       "      <td>OO 립 크림 1.5g 1개</td>\n",
       "      <td>5</td>\n",
       "      <td>88</td>\n",
       "      <td>20</td>\n",
       "      <td>20180205</td>\n",
       "      <td>1.0</td>\n",
       "      <td>기능/효과</td>\n",
       "      <td>올 겨울은 촉촉하게 보내고 있어 좋습니다.</td>\n",
       "      <td>6</td>\n",
       "      <td>1</td>\n",
       "    </tr>\n",
       "    <tr>\n",
       "      <th>1</th>\n",
       "      <td>660038</td>\n",
       "      <td>발림성 좋습니다. 지속력 좋네요. 건조해진 입술 살짝 발라줬는데 금방 촉촉해져서 좋...</td>\n",
       "      <td>쇼핑몰</td>\n",
       "      <td>화장품</td>\n",
       "      <td>메이크업/뷰티소품</td>\n",
       "      <td>OO 립 크림 1.5g 1개</td>\n",
       "      <td>5</td>\n",
       "      <td>86</td>\n",
       "      <td>20</td>\n",
       "      <td>20171121</td>\n",
       "      <td>1.0</td>\n",
       "      <td>발림성</td>\n",
       "      <td>발림성 좋습니다.</td>\n",
       "      <td>2</td>\n",
       "      <td>1</td>\n",
       "    </tr>\n",
       "    <tr>\n",
       "      <th>2</th>\n",
       "      <td>660044</td>\n",
       "      <td>양이 작아서 금방 쓰겠어요. 보습력도 별로고요. 배송은 빨랐어요. 재구매는 안 할래요.</td>\n",
       "      <td>쇼핑몰</td>\n",
       "      <td>화장품</td>\n",
       "      <td>메이크업/뷰티소품</td>\n",
       "      <td>OO 립 크림 1.5g 1개</td>\n",
       "      <td>4</td>\n",
       "      <td>48</td>\n",
       "      <td>11</td>\n",
       "      <td>20171110</td>\n",
       "      <td>-1.0</td>\n",
       "      <td>용량/개수</td>\n",
       "      <td>양이 작아서 금방 쓰겠어요.</td>\n",
       "      <td>4</td>\n",
       "      <td>-1</td>\n",
       "    </tr>\n",
       "    <tr>\n",
       "      <th>3</th>\n",
       "      <td>660055</td>\n",
       "      <td>추워지면 늘 입술이 갈라져서 사봤는데 촉촉함이 오래 안가요. 양도 너무 작구요.</td>\n",
       "      <td>쇼핑몰</td>\n",
       "      <td>화장품</td>\n",
       "      <td>메이크업/뷰티소품</td>\n",
       "      <td>OO 립 크림 1.5g 1개</td>\n",
       "      <td>5</td>\n",
       "      <td>44</td>\n",
       "      <td>11</td>\n",
       "      <td>20170911</td>\n",
       "      <td>-1.0</td>\n",
       "      <td>지속력/유지력</td>\n",
       "      <td>촉촉함이 오래 안가요.</td>\n",
       "      <td>3</td>\n",
       "      <td>-1</td>\n",
       "    </tr>\n",
       "    <tr>\n",
       "      <th>4</th>\n",
       "      <td>660060</td>\n",
       "      <td>입소문 듣고 처음 구매해 봤는데 배송이 빨라서 좋았어요. 지금 발라보니 번들거리긴 ...</td>\n",
       "      <td>쇼핑몰</td>\n",
       "      <td>화장품</td>\n",
       "      <td>메이크업/뷰티소품</td>\n",
       "      <td>OO 립 크림 1.5g 1개</td>\n",
       "      <td>4</td>\n",
       "      <td>59</td>\n",
       "      <td>14</td>\n",
       "      <td>20170824</td>\n",
       "      <td>-1.0</td>\n",
       "      <td>흡수력</td>\n",
       "      <td>번들거리긴 합니다.</td>\n",
       "      <td>2</td>\n",
       "      <td>-1</td>\n",
       "    </tr>\n",
       "  </tbody>\n",
       "</table>\n",
       "</div>"
      ],
      "text/plain": [
       "    Index                                            RawText Source Domain  \\\n",
       "0  660023  인생템입니다. 겨울이면 맨날 입술 트고 갈라지고 장난아닌데, 올 겨울은 촉촉하게 보...    쇼핑몰    화장품   \n",
       "1  660038  발림성 좋습니다. 지속력 좋네요. 건조해진 입술 살짝 발라줬는데 금방 촉촉해져서 좋...    쇼핑몰    화장품   \n",
       "2  660044   양이 작아서 금방 쓰겠어요. 보습력도 별로고요. 배송은 빨랐어요. 재구매는 안 할래요.    쇼핑몰    화장품   \n",
       "3  660055       추워지면 늘 입술이 갈라져서 사봤는데 촉촉함이 오래 안가요. 양도 너무 작구요.    쇼핑몰    화장품   \n",
       "4  660060  입소문 듣고 처음 구매해 봤는데 배송이 빨라서 좋았어요. 지금 발라보니 번들거리긴 ...    쇼핑몰    화장품   \n",
       "\n",
       "  MainCategory      ProductName  ReviewScore  Syllable  Word     RDate  \\\n",
       "0    메이크업/뷰티소품  OO 립 크림 1.5g 1개            5        88    20  20180205   \n",
       "1    메이크업/뷰티소품  OO 립 크림 1.5g 1개            5        86    20  20171121   \n",
       "2    메이크업/뷰티소품  OO 립 크림 1.5g 1개            4        48    11  20171110   \n",
       "3    메이크업/뷰티소품  OO 립 크림 1.5g 1개            5        44    11  20170911   \n",
       "4    메이크업/뷰티소품  OO 립 크림 1.5g 1개            4        59    14  20170824   \n",
       "\n",
       "   GeneralPolarity   Aspect             SentimentText  SentimentWord  \\\n",
       "0              1.0    기능/효과  올 겨울은 촉촉하게 보내고 있어 좋습니다.               6   \n",
       "1              1.0      발림성                 발림성 좋습니다.              2   \n",
       "2             -1.0    용량/개수           양이 작아서 금방 쓰겠어요.              4   \n",
       "3             -1.0  지속력/유지력             촉촉함이 오래 안가요.               3   \n",
       "4             -1.0      흡수력               번들거리긴 합니다.               2   \n",
       "\n",
       "   SentimentPolarity  \n",
       "0                  1  \n",
       "1                  1  \n",
       "2                 -1  \n",
       "3                 -1  \n",
       "4                 -1  "
      ]
     },
     "execution_count": 2,
     "metadata": {},
     "output_type": "execute_result"
    }
   ],
   "source": [
    "path = \"../data/general.csv\"\n",
    "df = pd.read_csv(path, sep = ',', encoding = 'utf-8', header = 0)\n",
    "df.head()"
   ]
  },
  {
   "cell_type": "code",
   "execution_count": 3,
   "metadata": {},
   "outputs": [
    {
     "data": {
      "text/html": [
       "<div>\n",
       "<style scoped>\n",
       "    .dataframe tbody tr th:only-of-type {\n",
       "        vertical-align: middle;\n",
       "    }\n",
       "\n",
       "    .dataframe tbody tr th {\n",
       "        vertical-align: top;\n",
       "    }\n",
       "\n",
       "    .dataframe thead th {\n",
       "        text-align: right;\n",
       "    }\n",
       "</style>\n",
       "<table border=\"1\" class=\"dataframe\">\n",
       "  <thead>\n",
       "    <tr style=\"text-align: right;\">\n",
       "      <th></th>\n",
       "      <th>Index</th>\n",
       "      <th>RawText</th>\n",
       "      <th>Source</th>\n",
       "      <th>Domain</th>\n",
       "      <th>MainCategory</th>\n",
       "      <th>ProductName</th>\n",
       "      <th>ReviewScore</th>\n",
       "      <th>Syllable</th>\n",
       "      <th>Word</th>\n",
       "      <th>RDate</th>\n",
       "      <th>GeneralPolarity</th>\n",
       "    </tr>\n",
       "  </thead>\n",
       "  <tbody>\n",
       "    <tr>\n",
       "      <th>0</th>\n",
       "      <td>660023</td>\n",
       "      <td>인생템입니다. 겨울이면 맨날 입술 트고 갈라지고 장난아닌데, 올 겨울은 촉촉하게 보...</td>\n",
       "      <td>쇼핑몰</td>\n",
       "      <td>화장품</td>\n",
       "      <td>메이크업/뷰티소품</td>\n",
       "      <td>OO 립 크림 1.5g 1개</td>\n",
       "      <td>5</td>\n",
       "      <td>88</td>\n",
       "      <td>20</td>\n",
       "      <td>20180205</td>\n",
       "      <td>1.0</td>\n",
       "    </tr>\n",
       "    <tr>\n",
       "      <th>1</th>\n",
       "      <td>660038</td>\n",
       "      <td>발림성 좋습니다. 지속력 좋네요. 건조해진 입술 살짝 발라줬는데 금방 촉촉해져서 좋...</td>\n",
       "      <td>쇼핑몰</td>\n",
       "      <td>화장품</td>\n",
       "      <td>메이크업/뷰티소품</td>\n",
       "      <td>OO 립 크림 1.5g 1개</td>\n",
       "      <td>5</td>\n",
       "      <td>86</td>\n",
       "      <td>20</td>\n",
       "      <td>20171121</td>\n",
       "      <td>1.0</td>\n",
       "    </tr>\n",
       "    <tr>\n",
       "      <th>2</th>\n",
       "      <td>660044</td>\n",
       "      <td>양이 작아서 금방 쓰겠어요. 보습력도 별로고요. 배송은 빨랐어요. 재구매는 안 할래요.</td>\n",
       "      <td>쇼핑몰</td>\n",
       "      <td>화장품</td>\n",
       "      <td>메이크업/뷰티소품</td>\n",
       "      <td>OO 립 크림 1.5g 1개</td>\n",
       "      <td>4</td>\n",
       "      <td>48</td>\n",
       "      <td>11</td>\n",
       "      <td>20171110</td>\n",
       "      <td>-1.0</td>\n",
       "    </tr>\n",
       "    <tr>\n",
       "      <th>3</th>\n",
       "      <td>660055</td>\n",
       "      <td>추워지면 늘 입술이 갈라져서 사봤는데 촉촉함이 오래 안가요. 양도 너무 작구요.</td>\n",
       "      <td>쇼핑몰</td>\n",
       "      <td>화장품</td>\n",
       "      <td>메이크업/뷰티소품</td>\n",
       "      <td>OO 립 크림 1.5g 1개</td>\n",
       "      <td>5</td>\n",
       "      <td>44</td>\n",
       "      <td>11</td>\n",
       "      <td>20170911</td>\n",
       "      <td>-1.0</td>\n",
       "    </tr>\n",
       "    <tr>\n",
       "      <th>4</th>\n",
       "      <td>660060</td>\n",
       "      <td>입소문 듣고 처음 구매해 봤는데 배송이 빨라서 좋았어요. 지금 발라보니 번들거리긴 ...</td>\n",
       "      <td>쇼핑몰</td>\n",
       "      <td>화장품</td>\n",
       "      <td>메이크업/뷰티소품</td>\n",
       "      <td>OO 립 크림 1.5g 1개</td>\n",
       "      <td>4</td>\n",
       "      <td>59</td>\n",
       "      <td>14</td>\n",
       "      <td>20170824</td>\n",
       "      <td>-1.0</td>\n",
       "    </tr>\n",
       "  </tbody>\n",
       "</table>\n",
       "</div>"
      ],
      "text/plain": [
       "    Index                                            RawText Source Domain  \\\n",
       "0  660023  인생템입니다. 겨울이면 맨날 입술 트고 갈라지고 장난아닌데, 올 겨울은 촉촉하게 보...    쇼핑몰    화장품   \n",
       "1  660038  발림성 좋습니다. 지속력 좋네요. 건조해진 입술 살짝 발라줬는데 금방 촉촉해져서 좋...    쇼핑몰    화장품   \n",
       "2  660044   양이 작아서 금방 쓰겠어요. 보습력도 별로고요. 배송은 빨랐어요. 재구매는 안 할래요.    쇼핑몰    화장품   \n",
       "3  660055       추워지면 늘 입술이 갈라져서 사봤는데 촉촉함이 오래 안가요. 양도 너무 작구요.    쇼핑몰    화장품   \n",
       "4  660060  입소문 듣고 처음 구매해 봤는데 배송이 빨라서 좋았어요. 지금 발라보니 번들거리긴 ...    쇼핑몰    화장품   \n",
       "\n",
       "  MainCategory      ProductName  ReviewScore  Syllable  Word     RDate  \\\n",
       "0    메이크업/뷰티소품  OO 립 크림 1.5g 1개            5        88    20  20180205   \n",
       "1    메이크업/뷰티소품  OO 립 크림 1.5g 1개            5        86    20  20171121   \n",
       "2    메이크업/뷰티소품  OO 립 크림 1.5g 1개            4        48    11  20171110   \n",
       "3    메이크업/뷰티소품  OO 립 크림 1.5g 1개            5        44    11  20170911   \n",
       "4    메이크업/뷰티소품  OO 립 크림 1.5g 1개            4        59    14  20170824   \n",
       "\n",
       "   GeneralPolarity  \n",
       "0              1.0  \n",
       "1              1.0  \n",
       "2             -1.0  \n",
       "3             -1.0  \n",
       "4             -1.0  "
      ]
     },
     "execution_count": 3,
     "metadata": {},
     "output_type": "execute_result"
    }
   ],
   "source": [
    "df = df.drop(['Aspect', 'SentimentText', 'SentimentWord', 'SentimentPolarity'], axis=1)\n",
    "df.head()"
   ]
  },
  {
   "cell_type": "code",
   "execution_count": 4,
   "metadata": {},
   "outputs": [
    {
     "name": "stdout",
     "output_type": "stream",
     "text": [
      "<class 'pandas.core.frame.DataFrame'>\n",
      "RangeIndex: 158119 entries, 0 to 158118\n",
      "Data columns (total 11 columns):\n",
      " #   Column           Non-Null Count   Dtype  \n",
      "---  ------           --------------   -----  \n",
      " 0   Index            158119 non-null  int64  \n",
      " 1   RawText          158119 non-null  object \n",
      " 2   Source           158119 non-null  object \n",
      " 3   Domain           158119 non-null  object \n",
      " 4   MainCategory     158119 non-null  object \n",
      " 5   ProductName      158114 non-null  object \n",
      " 6   ReviewScore      158119 non-null  int64  \n",
      " 7   Syllable         158119 non-null  int64  \n",
      " 8   Word             158119 non-null  int64  \n",
      " 9   RDate            158119 non-null  int64  \n",
      " 10  GeneralPolarity  144408 non-null  float64\n",
      "dtypes: float64(1), int64(5), object(5)\n",
      "memory usage: 13.3+ MB\n"
     ]
    }
   ],
   "source": [
    "df.info()"
   ]
  },
  {
   "cell_type": "code",
   "execution_count": 5,
   "metadata": {},
   "outputs": [
    {
     "name": "stdout",
     "output_type": "stream",
     "text": [
      "<class 'pandas.core.frame.DataFrame'>\n",
      "Int64Index: 144408 entries, 0 to 158118\n",
      "Data columns (total 11 columns):\n",
      " #   Column           Non-Null Count   Dtype  \n",
      "---  ------           --------------   -----  \n",
      " 0   Index            144408 non-null  int64  \n",
      " 1   RawText          144408 non-null  object \n",
      " 2   Source           144408 non-null  object \n",
      " 3   Domain           144408 non-null  object \n",
      " 4   MainCategory     144408 non-null  object \n",
      " 5   ProductName      144403 non-null  object \n",
      " 6   ReviewScore      144408 non-null  int64  \n",
      " 7   Syllable         144408 non-null  int64  \n",
      " 8   Word             144408 non-null  int64  \n",
      " 9   RDate            144408 non-null  int64  \n",
      " 10  GeneralPolarity  144408 non-null  float64\n",
      "dtypes: float64(1), int64(5), object(5)\n",
      "memory usage: 13.2+ MB\n"
     ]
    }
   ],
   "source": [
    "# 결측치 삭제\n",
    "df = df[df['GeneralPolarity'].notna()]\n",
    "df.info()"
   ]
  },
  {
   "cell_type": "code",
   "execution_count": 6,
   "metadata": {},
   "outputs": [
    {
     "data": {
      "text/plain": [
       "-1.0    22899\n",
       " 0.0    29723\n",
       " 1.0    91786\n",
       "Name: GeneralPolarity, dtype: int64"
      ]
     },
     "execution_count": 6,
     "metadata": {},
     "output_type": "execute_result"
    }
   ],
   "source": [
    "df['GeneralPolarity'].value_counts().sort_index()"
   ]
  },
  {
   "cell_type": "code",
   "execution_count": 7,
   "metadata": {},
   "outputs": [
    {
     "data": {
      "text/plain": [
       "0         86\n",
       "1        931\n",
       "2        462\n",
       "3       2669\n",
       "4      11232\n",
       "5      71561\n",
       "10       952\n",
       "20      1238\n",
       "30       356\n",
       "40      1187\n",
       "50       896\n",
       "60      3315\n",
       "70      1733\n",
       "80      6488\n",
       "90       781\n",
       "100    40521\n",
       "Name: ReviewScore, dtype: int64"
      ]
     },
     "execution_count": 7,
     "metadata": {},
     "output_type": "execute_result"
    }
   ],
   "source": [
    "df['ReviewScore'].value_counts().sort_index()"
   ]
  },
  {
   "cell_type": "code",
   "execution_count": 8,
   "metadata": {},
   "outputs": [
    {
     "data": {
      "text/plain": [
       "count    144408.000000\n",
       "mean         80.057829\n",
       "std          41.376395\n",
       "min           8.000000\n",
       "25%          53.000000\n",
       "50%          70.000000\n",
       "75%          96.000000\n",
       "max         550.000000\n",
       "Name: Syllable, dtype: float64"
      ]
     },
     "execution_count": 8,
     "metadata": {},
     "output_type": "execute_result"
    }
   ],
   "source": [
    "df['Syllable'].describe()"
   ]
  },
  {
   "cell_type": "code",
   "execution_count": 9,
   "metadata": {},
   "outputs": [
    {
     "data": {
      "text/plain": [
       "count    144408.000000\n",
       "mean         18.172650\n",
       "std           9.791787\n",
       "min           1.000000\n",
       "25%          12.000000\n",
       "50%          16.000000\n",
       "75%          22.000000\n",
       "max         146.000000\n",
       "Name: Word, dtype: float64"
      ]
     },
     "execution_count": 9,
     "metadata": {},
     "output_type": "execute_result"
    }
   ],
   "source": [
    "df['Word'].describe()"
   ]
  },
  {
   "cell_type": "markdown",
   "metadata": {},
   "source": [
    "# X,Y train/test split"
   ]
  },
  {
   "cell_type": "code",
   "execution_count": 10,
   "metadata": {},
   "outputs": [
    {
     "data": {
      "text/plain": [
       "0         1.0\n",
       "1         1.0\n",
       "2        -1.0\n",
       "3        -1.0\n",
       "4        -1.0\n",
       "         ... \n",
       "158114    0.0\n",
       "158115    1.0\n",
       "158116    0.0\n",
       "158117    1.0\n",
       "158118    1.0\n",
       "Name: GeneralPolarity, Length: 144408, dtype: float64"
      ]
     },
     "execution_count": 10,
     "metadata": {},
     "output_type": "execute_result"
    }
   ],
   "source": [
    "from sklearn.model_selection import train_test_split\n",
    "\n",
    "y = df['GeneralPolarity']\n",
    "y"
   ]
  },
  {
   "cell_type": "code",
   "execution_count": 11,
   "metadata": {},
   "outputs": [
    {
     "data": {
      "text/plain": [
       "0         인생템입니다. 겨울이면 맨날 입술 트고 갈라지고 장난아닌데, 올 겨울은 촉촉하게 보...\n",
       "1         발림성 좋습니다. 지속력 좋네요. 건조해진 입술 살짝 발라줬는데 금방 촉촉해져서 좋...\n",
       "2          양이 작아서 금방 쓰겠어요. 보습력도 별로고요. 배송은 빨랐어요. 재구매는 안 할래요.\n",
       "3              추워지면 늘 입술이 갈라져서 사봤는데 촉촉함이 오래 안가요. 양도 너무 작구요.\n",
       "4         입소문 듣고 처음 구매해 봤는데 배송이 빨라서 좋았어요. 지금 발라보니 번들거리긴 ...\n",
       "                                ...                        \n",
       "158114     핑크색상이 매우 예뻐서 만족해요 사이즈가 너무 아담해서 타자치기 살짝 답답해서 아쉽네요\n",
       "158115    화이트샀는데 너무 깔끔하고 좋아요 그리고 컴팩트한 사이지가 너무 귀여워서 좋아요 블...\n",
       "158116             블루투스 페어링이 잘 연결이 안되서 불편해요. 디자인은 깔끔하니 좋아요.\n",
       "158117               무게가 굉장히 가벼워서 좋구요. 이동하면서 사용할 수 있어 편리해요.\n",
       "158118    키보드 자판이 둥글게 생겨서 너무 예뻐요 그리고 자판이 패여서 타자칠때 또각또각 감...\n",
       "Name: RawText, Length: 144408, dtype: object"
      ]
     },
     "execution_count": 11,
     "metadata": {},
     "output_type": "execute_result"
    }
   ],
   "source": [
    "X = df['RawText']\n",
    "X"
   ]
  },
  {
   "cell_type": "code",
   "execution_count": 13,
   "metadata": {},
   "outputs": [
    {
     "name": "stdout",
     "output_type": "stream",
     "text": [
      "(115526,) (28882,) (115526,) (28882,)\n"
     ]
    }
   ],
   "source": [
    "X_train, X_test, y_train, y_test = train_test_split(X, y, test_size=0.2, random_state=19)\n",
    "print(X_train.shape, X_test.shape, y_train.shape, y_test.shape)\n",
    "# test_size=0.2의 근거가 필요할까?"
   ]
  },
  {
   "cell_type": "code",
   "execution_count": 14,
   "metadata": {},
   "outputs": [
    {
     "data": {
      "text/plain": [
       "31503                가볍고   따뜻하고   저렴한  가격에  조끼까지.. 완존 득테이네요\n",
       "2976      맨날 남들 쓰는것만 보다가 엄마가 써보고싶다고해서 구매했는데 구성도 좋고 생각보다 ...\n",
       "75567     전 주로 영상만 볼거라 화질좋고 볼만해요. 필기할때  화면에 글을 쓰면 톡톡거리는 ...\n",
       "152901        좋은 상품 좋은 가격에 잘 샀어요 가죽이 부드럽고 촉감등 기대이상입니다 감사합니다\n",
       "57565     팔길이가 너~~~무 길어요 그래서 별하나 뺐습니다 저두 팔 짧은편이 아닌 사람인데 ...\n",
       "                                ...                        \n",
       "121097    큼직한 화면이 보기에 편해서 좋구요~한 손에 들어오는 그립감 또한 만족합니다!! 배...\n",
       "19847     제품 받자마자 컬러가 너무 이뻐서 감동이였어요. 그런데 이제는 충전기나 그외 구성품...\n",
       "43382     소음이 너무 심해요.. 소리에 예민하시면  고민하셔야해요 ㅠㅠ  그냥 가격대비  쓸...\n",
       "109655    정수리 간편하게 커버할수있을거같아서 구입했네요 써보니깐 사용하기 간편하고 머리숱이 ...\n",
       "90990     제습이 잘돼 침구류도 뽀송해져서 만족합니다. 거실 제습할땐 속도가 느려 시간이오래 ...\n",
       "Name: RawText, Length: 115526, dtype: object"
      ]
     },
     "execution_count": 14,
     "metadata": {},
     "output_type": "execute_result"
    }
   ],
   "source": [
    "X_train"
   ]
  },
  {
   "cell_type": "code",
   "execution_count": 31,
   "metadata": {},
   "outputs": [
    {
     "data": {
      "text/plain": [
       "275       사은품이 있어 너무 맘에 듭니다. 맵핑 기능이 없어 청소 시키는거 불편합니다. 구석...\n",
       "36756     쿨맥스데님3종 망설이다 주문했는데 완전맘에들어요.. 청바지를 좋아하는 60대입니다 ...\n",
       "75207     다른 오일은 너무 따갑고 제피부에 안 맞았는데 이건 예민한 피부에도 순해서 너무 좋...\n",
       "43463     플라스틱 부분에  마감이 매끄럽지 않고 살짝 움푹 들어가 있는 부분도 있어요 기능에...\n",
       "62139     이 제품 구하기 힘든 색상으로 주문했는데 예쁘고 너무 좋아요. 그런데 펜은 별도로 ...\n",
       "                                ...                        \n",
       "62561      저렴하게 산거 같아서 만족스럽구요. 제가 살때는 사은품이 없었는데 생겨서 좀 아쉽네요ㅠ\n",
       "133383                          속도 빠르고 정말 좋아요 터치감도 좋고 가볍네요~\n",
       "128291    제품에 과열방지기능도 포함되어 있어서 오래 사용해도 안전해서 만족해요..  다만 회...\n",
       "34484     무선이라 움직임이 자유롭고 편해서 좋습니다. 그런데 본체에 핸즈프리가 고정되는 부분...\n",
       "100907    구매하고 싶던 색상은 모두 품절되어 퍼플색 구매 했는데 생각보다 예쁘네요~카드랑 쿠...\n",
       "Name: RawText, Length: 28882, dtype: object"
      ]
     },
     "execution_count": 31,
     "metadata": {},
     "output_type": "execute_result"
    }
   ],
   "source": [
    "X_test"
   ]
  },
  {
   "cell_type": "code",
   "execution_count": 34,
   "metadata": {},
   "outputs": [
    {
     "data": {
      "text/plain": [
       "31503     1.0\n",
       "2976      1.0\n",
       "75567     0.0\n",
       "152901    1.0\n",
       "57565    -1.0\n",
       "         ... \n",
       "121097    1.0\n",
       "19847     0.0\n",
       "43382     0.0\n",
       "109655    1.0\n",
       "90990     1.0\n",
       "Name: GeneralPolarity, Length: 115526, dtype: float64"
      ]
     },
     "execution_count": 34,
     "metadata": {},
     "output_type": "execute_result"
    }
   ],
   "source": [
    "y_train"
   ]
  },
  {
   "cell_type": "code",
   "execution_count": 125,
   "metadata": {},
   "outputs": [
    {
     "data": {
      "text/plain": [
       "31503     2.0\n",
       "2976      2.0\n",
       "75567     1.0\n",
       "152901    2.0\n",
       "57565     0.0\n",
       "         ... \n",
       "121097    2.0\n",
       "19847     1.0\n",
       "43382     1.0\n",
       "109655    2.0\n",
       "90990     2.0\n",
       "Name: GeneralPolarity, Length: 115526, dtype: float64"
      ]
     },
     "execution_count": 125,
     "metadata": {},
     "output_type": "execute_result"
    }
   ],
   "source": [
    "y_train = y_train + 1\n",
    "y_train"
   ]
  },
  {
   "cell_type": "code",
   "execution_count": 126,
   "metadata": {},
   "outputs": [
    {
     "data": {
      "text/plain": [
       "2.0    73493\n",
       "1.0    23783\n",
       "0.0    18250\n",
       "Name: GeneralPolarity, dtype: int64"
      ]
     },
     "execution_count": 126,
     "metadata": {},
     "output_type": "execute_result"
    }
   ],
   "source": [
    "y_train.value_counts()"
   ]
  },
  {
   "cell_type": "code",
   "execution_count": 32,
   "metadata": {},
   "outputs": [
    {
     "data": {
      "text/plain": [
       "275       0.0\n",
       "36756     1.0\n",
       "75207     1.0\n",
       "43463     1.0\n",
       "62139     0.0\n",
       "         ... \n",
       "62561     0.0\n",
       "133383    1.0\n",
       "128291    0.0\n",
       "34484     0.0\n",
       "100907    1.0\n",
       "Name: GeneralPolarity, Length: 28882, dtype: float64"
      ]
     },
     "execution_count": 32,
     "metadata": {},
     "output_type": "execute_result"
    }
   ],
   "source": [
    "y_test"
   ]
  },
  {
   "cell_type": "code",
   "execution_count": 127,
   "metadata": {},
   "outputs": [
    {
     "data": {
      "text/plain": [
       "275       1.0\n",
       "36756     2.0\n",
       "75207     2.0\n",
       "43463     2.0\n",
       "62139     1.0\n",
       "         ... \n",
       "62561     1.0\n",
       "133383    2.0\n",
       "128291    1.0\n",
       "34484     1.0\n",
       "100907    2.0\n",
       "Name: GeneralPolarity, Length: 28882, dtype: float64"
      ]
     },
     "execution_count": 127,
     "metadata": {},
     "output_type": "execute_result"
    }
   ],
   "source": [
    "y_test = y_test + 1\n",
    "y_test"
   ]
  },
  {
   "cell_type": "code",
   "execution_count": 128,
   "metadata": {},
   "outputs": [
    {
     "data": {
      "text/plain": [
       "2.0    18293\n",
       "1.0     5940\n",
       "0.0     4649\n",
       "Name: GeneralPolarity, dtype: int64"
      ]
     },
     "execution_count": 128,
     "metadata": {},
     "output_type": "execute_result"
    }
   ],
   "source": [
    "y_test.value_counts()"
   ]
  },
  {
   "cell_type": "markdown",
   "metadata": {},
   "source": [
    "# Tokenization"
   ]
  },
  {
   "cell_type": "markdown",
   "metadata": {},
   "source": [
    "아래 함수 만들면서 불용어 제거 단계와 어간 추출 단계의 순서 고민하였음\n",
    "<br> (1) 불용어 제거 > 어간&표제어 추출\n",
    "<br> (2) 어간&표제어 추출 > 불용어 제거 (*wikidocs) : 어간&표제어 추출 후 불용어 제거의 경우 더 많이 제거될 것 같은 느낌\n",
    "<br> >> 결론: 한국어에서 불용어를 제거하려면 먼저 어간&표제어 추출을 해야 가능하다"
   ]
  },
  {
   "cell_type": "code",
   "execution_count": 49,
   "metadata": {},
   "outputs": [],
   "source": [
    "def preprocessing(rawtext,okt,stem=False,remove_stopwords=False,stopwords=[]):\n",
    "    # 1. 한글 및 공백 제외한 문자 모두 제거 \n",
    "    rawtext = re.sub('[^가-힣ㄱ-ㅎㅏ-ㅣ\\\\s]','',rawtext)\n",
    "    rawtext = re.sub(r\"[^가-힣A-Za-z)-9(),!?\\'\\`]\", \" \", rawtext)\n",
    "    # 2. Okt 객체를 활용하여 형태소 단어로 나눔 / 어간 추출 (선택)\n",
    "    word_text = okt.morphs(rawtext,stem=False)\n",
    "\n",
    "    if stem:\n",
    "        word_text = okt.morphs(rawtext,stem=True)\n",
    "        \n",
    "        if remove_stopwords:\n",
    "            # 3. 불용어 제거 (선택)\n",
    "            word_text = [token for token in word_text if not token in stopwords]          \n",
    "        return word_text\n",
    "        \n",
    "    return word_text"
   ]
  },
  {
   "cell_type": "code",
   "execution_count": 50,
   "metadata": {},
   "outputs": [],
   "source": [
    "okt = Okt()\n",
    "stopwords = ['은','는','이','가','하','아','것','들','의','있','되','수','보','주','등','한']\n",
    "# stopwords 근거 찾아보기"
   ]
  },
  {
   "cell_type": "markdown",
   "metadata": {},
   "source": [
    "Type 1: stem=False, remove_stopwords=False"
   ]
  },
  {
   "cell_type": "code",
   "execution_count": 52,
   "metadata": {},
   "outputs": [
    {
     "data": {
      "text/plain": [
       "[['가볍고', '따뜻하고', '저렴한', '가격', '에', '조끼', '까지', '완존', '득', '테이', '네', '요'],\n",
       " ['맨날',\n",
       "  '남',\n",
       "  '들',\n",
       "  '쓰는것만',\n",
       "  '보다가',\n",
       "  '엄마',\n",
       "  '가',\n",
       "  '써',\n",
       "  '보고싶다고',\n",
       "  '해서',\n",
       "  '구매',\n",
       "  '했는데',\n",
       "  '구성',\n",
       "  '도',\n",
       "  '좋고',\n",
       "  '생각',\n",
       "  '보다',\n",
       "  '좋네요',\n",
       "  '세수하자마자',\n",
       "  '미스트',\n",
       "  '앰플',\n",
       "  '촥뿌리',\n",
       "  '고',\n",
       "  '가히',\n",
       "  '밤',\n",
       "  '으로',\n",
       "  '마무리',\n",
       "  '하',\n",
       "  '니까',\n",
       "  '촉촉해서',\n",
       "  '크림',\n",
       "  '따로',\n",
       "  '안',\n",
       "  '발라도',\n",
       "  '될거',\n",
       "  '같아요'],\n",
       " ['전',\n",
       "  '주로',\n",
       "  '영상',\n",
       "  '만',\n",
       "  '볼거라',\n",
       "  '화질',\n",
       "  '좋고',\n",
       "  '볼',\n",
       "  '만해',\n",
       "  '요',\n",
       "  '필기',\n",
       "  '할',\n",
       "  '때',\n",
       "  '화면',\n",
       "  '에',\n",
       "  '글',\n",
       "  '을',\n",
       "  '쓰면',\n",
       "  '톡톡거리는',\n",
       "  '소리',\n",
       "  '에',\n",
       "  '신경',\n",
       "  '이',\n",
       "  '쓰이더라구요'],\n",
       " ['좋은',\n",
       "  '상품',\n",
       "  '좋은',\n",
       "  '가격',\n",
       "  '에',\n",
       "  '잘',\n",
       "  '샀어요',\n",
       "  '가죽',\n",
       "  '이',\n",
       "  '부드럽고',\n",
       "  '촉감',\n",
       "  '등',\n",
       "  '기',\n",
       "  '대',\n",
       "  '이상',\n",
       "  '입니다',\n",
       "  '감사합니다']]"
      ]
     },
     "execution_count": 52,
     "metadata": {},
     "output_type": "execute_result"
    }
   ],
   "source": [
    "# Type 1: stem=False, remove_stopwords=False\n",
    "clean_train_review_1 = []\n",
    "clean_test_review_1 = []\n",
    "\n",
    "for rawtext in X_train:\n",
    "    clean_train_review_1.append(preprocessing(rawtext,okt,stem=False,remove_stopwords=False,stopwords=stopwords))\n",
    "\n",
    "for rawtext in X_test:\n",
    "    clean_test_review_1.append(preprocessing(rawtext,okt,stem=False,remove_stopwords=False,stopwords=stopwords))\n",
    "\n",
    "clean_train_review_1[:4]"
   ]
  },
  {
   "cell_type": "markdown",
   "metadata": {},
   "source": [
    "Type 2: stem=True, remove_stopwords=False"
   ]
  },
  {
   "cell_type": "code",
   "execution_count": 73,
   "metadata": {},
   "outputs": [
    {
     "data": {
      "text/plain": [
       "[['가볍다', '따뜻하다', '저렴하다', '가격', '에', '조끼', '까지', '완존', '득', '테이', '네', '요'],\n",
       " ['맨날',\n",
       "  '남',\n",
       "  '들',\n",
       "  '쓰다',\n",
       "  '보다',\n",
       "  '엄마',\n",
       "  '가',\n",
       "  '써다',\n",
       "  '보다',\n",
       "  '하다',\n",
       "  '구매',\n",
       "  '하다',\n",
       "  '구성',\n",
       "  '도',\n",
       "  '좋다',\n",
       "  '생각',\n",
       "  '보다',\n",
       "  '좋다',\n",
       "  '세다',\n",
       "  '미스트',\n",
       "  '앰플',\n",
       "  '촥뿌리',\n",
       "  '고',\n",
       "  '가히',\n",
       "  '밤',\n",
       "  '으로',\n",
       "  '마무리',\n",
       "  '하',\n",
       "  '니까',\n",
       "  '촉촉하다',\n",
       "  '크림',\n",
       "  '따로',\n",
       "  '안',\n",
       "  '바르다',\n",
       "  '되다',\n",
       "  '같다'],\n",
       " ['전',\n",
       "  '주로',\n",
       "  '영상',\n",
       "  '만',\n",
       "  '보다',\n",
       "  '화질',\n",
       "  '좋다',\n",
       "  '볼',\n",
       "  '만해',\n",
       "  '요',\n",
       "  '필기',\n",
       "  '하다',\n",
       "  '때',\n",
       "  '화면',\n",
       "  '에',\n",
       "  '글',\n",
       "  '을',\n",
       "  '쓰다',\n",
       "  '톡톡거리다',\n",
       "  '소리',\n",
       "  '에',\n",
       "  '신경',\n",
       "  '이',\n",
       "  '쓰이다'],\n",
       " ['좋다',\n",
       "  '상품',\n",
       "  '좋다',\n",
       "  '가격',\n",
       "  '에',\n",
       "  '자다',\n",
       "  '사다',\n",
       "  '가죽',\n",
       "  '이',\n",
       "  '부드럽다',\n",
       "  '촉감',\n",
       "  '등',\n",
       "  '기',\n",
       "  '대',\n",
       "  '이상',\n",
       "  '이다',\n",
       "  '감사하다']]"
      ]
     },
     "execution_count": 73,
     "metadata": {},
     "output_type": "execute_result"
    }
   ],
   "source": [
    "# Type 2: stem=True, remove_stopwords=False\n",
    "clean_train_review_2 = []\n",
    "clean_test_review_2 = []\n",
    "\n",
    "for rawtext in X_train:\n",
    "    clean_train_review_2.append(preprocessing(rawtext,okt,stem=True,remove_stopwords=False,stopwords=stopwords))\n",
    "    \n",
    "for rawtext in X_test:\n",
    "    clean_test_review_2.append(preprocessing(rawtext,okt,stem=True,remove_stopwords=False,stopwords=stopwords))\n",
    "\n",
    "clean_train_review_2[:4]"
   ]
  },
  {
   "cell_type": "markdown",
   "metadata": {},
   "source": [
    "Type 3: stem=True, remove_stopwords=True"
   ]
  },
  {
   "cell_type": "code",
   "execution_count": 104,
   "metadata": {},
   "outputs": [
    {
     "data": {
      "text/plain": [
       "[['가볍다', '따뜻하다', '저렴하다', '가격', '에', '조끼', '까지', '완존', '득', '테이', '네', '요'],\n",
       " ['맨날',\n",
       "  '남',\n",
       "  '쓰다',\n",
       "  '보다',\n",
       "  '엄마',\n",
       "  '써다',\n",
       "  '보다',\n",
       "  '하다',\n",
       "  '구매',\n",
       "  '하다',\n",
       "  '구성',\n",
       "  '도',\n",
       "  '좋다',\n",
       "  '생각',\n",
       "  '보다',\n",
       "  '좋다',\n",
       "  '세다',\n",
       "  '미스트',\n",
       "  '앰플',\n",
       "  '촥뿌리',\n",
       "  '고',\n",
       "  '가히',\n",
       "  '밤',\n",
       "  '으로',\n",
       "  '마무리',\n",
       "  '니까',\n",
       "  '촉촉하다',\n",
       "  '크림',\n",
       "  '따로',\n",
       "  '안',\n",
       "  '바르다',\n",
       "  '되다',\n",
       "  '같다'],\n",
       " ['전',\n",
       "  '주로',\n",
       "  '영상',\n",
       "  '만',\n",
       "  '보다',\n",
       "  '화질',\n",
       "  '좋다',\n",
       "  '볼',\n",
       "  '만해',\n",
       "  '요',\n",
       "  '필기',\n",
       "  '하다',\n",
       "  '때',\n",
       "  '화면',\n",
       "  '에',\n",
       "  '글',\n",
       "  '을',\n",
       "  '쓰다',\n",
       "  '톡톡거리다',\n",
       "  '소리',\n",
       "  '에',\n",
       "  '신경',\n",
       "  '쓰이다'],\n",
       " ['좋다',\n",
       "  '상품',\n",
       "  '좋다',\n",
       "  '가격',\n",
       "  '에',\n",
       "  '자다',\n",
       "  '사다',\n",
       "  '가죽',\n",
       "  '부드럽다',\n",
       "  '촉감',\n",
       "  '기',\n",
       "  '대',\n",
       "  '이상',\n",
       "  '이다',\n",
       "  '감사하다']]"
      ]
     },
     "execution_count": 104,
     "metadata": {},
     "output_type": "execute_result"
    }
   ],
   "source": [
    "# Type 3: stem=True, remove_stopwords=True\n",
    "clean_train_review_3 = []\n",
    "clean_test_review_3 = []\n",
    "\n",
    "for rawtext in X_train:\n",
    "    clean_train_review_3.append(preprocessing(rawtext,okt,stem=True,remove_stopwords=True,stopwords=stopwords))\n",
    "    \n",
    "for rawtext in X_test:\n",
    "    clean_test_review_3.append(preprocessing(rawtext,okt,stem=True,remove_stopwords=True,stopwords=stopwords))\n",
    "\n",
    "clean_train_review_3[:4]"
   ]
  },
  {
   "cell_type": "markdown",
   "metadata": {},
   "source": [
    "# Integer Encoding"
   ]
  },
  {
   "cell_type": "markdown",
   "metadata": {},
   "source": [
    "Type 1: stem=False, remove_stopwords=False"
   ]
  },
  {
   "cell_type": "code",
   "execution_count": 53,
   "metadata": {},
   "outputs": [
    {
     "data": {
      "text/html": [
       "<div>\n",
       "<style scoped>\n",
       "    .dataframe tbody tr th:only-of-type {\n",
       "        vertical-align: middle;\n",
       "    }\n",
       "\n",
       "    .dataframe tbody tr th {\n",
       "        vertical-align: top;\n",
       "    }\n",
       "\n",
       "    .dataframe thead th {\n",
       "        text-align: right;\n",
       "    }\n",
       "</style>\n",
       "<table border=\"1\" class=\"dataframe\">\n",
       "  <thead>\n",
       "    <tr style=\"text-align: right;\">\n",
       "      <th></th>\n",
       "      <th>Token Count</th>\n",
       "    </tr>\n",
       "  </thead>\n",
       "  <tbody>\n",
       "    <tr>\n",
       "      <th>count</th>\n",
       "      <td>115526.000000</td>\n",
       "    </tr>\n",
       "    <tr>\n",
       "      <th>mean</th>\n",
       "      <td>27.967644</td>\n",
       "    </tr>\n",
       "    <tr>\n",
       "      <th>std</th>\n",
       "      <td>14.818418</td>\n",
       "    </tr>\n",
       "    <tr>\n",
       "      <th>min</th>\n",
       "      <td>2.000000</td>\n",
       "    </tr>\n",
       "    <tr>\n",
       "      <th>25%</th>\n",
       "      <td>18.000000</td>\n",
       "    </tr>\n",
       "    <tr>\n",
       "      <th>50%</th>\n",
       "      <td>25.000000</td>\n",
       "    </tr>\n",
       "    <tr>\n",
       "      <th>75%</th>\n",
       "      <td>34.000000</td>\n",
       "    </tr>\n",
       "    <tr>\n",
       "      <th>max</th>\n",
       "      <td>183.000000</td>\n",
       "    </tr>\n",
       "  </tbody>\n",
       "</table>\n",
       "</div>"
      ],
      "text/plain": [
       "         Token Count\n",
       "count  115526.000000\n",
       "mean       27.967644\n",
       "std        14.818418\n",
       "min         2.000000\n",
       "25%        18.000000\n",
       "50%        25.000000\n",
       "75%        34.000000\n",
       "max       183.000000"
      ]
     },
     "execution_count": 53,
     "metadata": {},
     "output_type": "execute_result"
    }
   ],
   "source": [
    "# 토큰화 후 문장별 토큰 수 탐색\n",
    "tokens_len_1 = [len(tokens) for tokens in clean_train_review_1]\n",
    "df_tokens_len_1 = pd.DataFrame(tokens_len_1, columns=['Token Count'])\n",
    "df_tokens_len_1.describe()"
   ]
  },
  {
   "cell_type": "code",
   "execution_count": 54,
   "metadata": {},
   "outputs": [
    {
     "data": {
      "image/png": "[encoded data removed]",
      "text/plain": [
       "<Figure size 640x480 with 1 Axes>"
      ]
     },
     "metadata": {},
     "output_type": "display_data"
    }
   ],
   "source": [
    "import matplotlib.pyplot as plt\n",
    "%matplotlib inline \n",
    "\n",
    "tokens_len_1.sort()\n",
    "plt.plot(tokens_len_1)\n",
    "plt.show()"
   ]
  },
  {
   "cell_type": "code",
   "execution_count": 55,
   "metadata": {},
   "outputs": [
    {
     "name": "stdout",
     "output_type": "stream",
     "text": [
      "98421\n"
     ]
    }
   ],
   "source": [
    "print(sum([int(l<=40) for l in tokens_len_1]))"
   ]
  },
  {
   "cell_type": "code",
   "execution_count": 56,
   "metadata": {},
   "outputs": [],
   "source": [
    "# 토큰 수 컨트롤\n",
    "modified_clean_train_review_1 = [tokens[:40] for tokens in clean_train_review_1]\n",
    "modified_clean_test_review_1 = [tokens[:40] for tokens in clean_test_review_1]"
   ]
  },
  {
   "cell_type": "markdown",
   "metadata": {},
   "source": [
    "Type 2: stem=True, remove_stopwords=False"
   ]
  },
  {
   "cell_type": "code",
   "execution_count": 94,
   "metadata": {},
   "outputs": [
    {
     "data": {
      "text/html": [
       "<div>\n",
       "<style scoped>\n",
       "    .dataframe tbody tr th:only-of-type {\n",
       "        vertical-align: middle;\n",
       "    }\n",
       "\n",
       "    .dataframe tbody tr th {\n",
       "        vertical-align: top;\n",
       "    }\n",
       "\n",
       "    .dataframe thead th {\n",
       "        text-align: right;\n",
       "    }\n",
       "</style>\n",
       "<table border=\"1\" class=\"dataframe\">\n",
       "  <thead>\n",
       "    <tr style=\"text-align: right;\">\n",
       "      <th></th>\n",
       "      <th>Token Count</th>\n",
       "    </tr>\n",
       "  </thead>\n",
       "  <tbody>\n",
       "    <tr>\n",
       "      <th>count</th>\n",
       "      <td>115526.000000</td>\n",
       "    </tr>\n",
       "    <tr>\n",
       "      <th>mean</th>\n",
       "      <td>27.967644</td>\n",
       "    </tr>\n",
       "    <tr>\n",
       "      <th>std</th>\n",
       "      <td>14.818418</td>\n",
       "    </tr>\n",
       "    <tr>\n",
       "      <th>min</th>\n",
       "      <td>2.000000</td>\n",
       "    </tr>\n",
       "    <tr>\n",
       "      <th>25%</th>\n",
       "      <td>18.000000</td>\n",
       "    </tr>\n",
       "    <tr>\n",
       "      <th>50%</th>\n",
       "      <td>25.000000</td>\n",
       "    </tr>\n",
       "    <tr>\n",
       "      <th>75%</th>\n",
       "      <td>34.000000</td>\n",
       "    </tr>\n",
       "    <tr>\n",
       "      <th>max</th>\n",
       "      <td>183.000000</td>\n",
       "    </tr>\n",
       "  </tbody>\n",
       "</table>\n",
       "</div>"
      ],
      "text/plain": [
       "         Token Count\n",
       "count  115526.000000\n",
       "mean       27.967644\n",
       "std        14.818418\n",
       "min         2.000000\n",
       "25%        18.000000\n",
       "50%        25.000000\n",
       "75%        34.000000\n",
       "max       183.000000"
      ]
     },
     "execution_count": 94,
     "metadata": {},
     "output_type": "execute_result"
    }
   ],
   "source": [
    "# 토큰화 후 문장별 토큰 수 탐색\n",
    "tokens_len_2 = [len(tokens) for tokens in clean_train_review_2]\n",
    "df_tokens_len_2 = pd.DataFrame(tokens_len_2, columns=['Token Count'])\n",
    "df_tokens_len_2.describe()"
   ]
  },
  {
   "cell_type": "code",
   "execution_count": 96,
   "metadata": {},
   "outputs": [
    {
     "data": {
      "image/png": "[encoded data removed]",
      "text/plain": [
       "<Figure size 640x480 with 1 Axes>"
      ]
     },
     "metadata": {},
     "output_type": "display_data"
    }
   ],
   "source": [
    "import matplotlib.pyplot as plt\n",
    "%matplotlib inline \n",
    "\n",
    "tokens_len_2.sort()\n",
    "plt.plot(tokens_len_2)\n",
    "plt.show()"
   ]
  },
  {
   "cell_type": "code",
   "execution_count": 97,
   "metadata": {},
   "outputs": [
    {
     "name": "stdout",
     "output_type": "stream",
     "text": [
      "98421\n"
     ]
    }
   ],
   "source": [
    "print(sum([int(l<=40) for l in tokens_len_2]))"
   ]
  },
  {
   "cell_type": "code",
   "execution_count": 98,
   "metadata": {},
   "outputs": [],
   "source": [
    "# 토큰 수 컨트롤\n",
    "modified_clean_train_review_2 = [tokens[:40] for tokens in clean_train_review_2]\n",
    "modified_clean_test_review_2 = [tokens[:40] for tokens in clean_test_review_2]"
   ]
  },
  {
   "cell_type": "markdown",
   "metadata": {},
   "source": [
    "Type 3: stem=True, remove_stopwords=True"
   ]
  },
  {
   "cell_type": "code",
   "execution_count": 105,
   "metadata": {},
   "outputs": [
    {
     "data": {
      "text/html": [
       "<div>\n",
       "<style scoped>\n",
       "    .dataframe tbody tr th:only-of-type {\n",
       "        vertical-align: middle;\n",
       "    }\n",
       "\n",
       "    .dataframe tbody tr th {\n",
       "        vertical-align: top;\n",
       "    }\n",
       "\n",
       "    .dataframe thead th {\n",
       "        text-align: right;\n",
       "    }\n",
       "</style>\n",
       "<table border=\"1\" class=\"dataframe\">\n",
       "  <thead>\n",
       "    <tr style=\"text-align: right;\">\n",
       "      <th></th>\n",
       "      <th>Token Count</th>\n",
       "    </tr>\n",
       "  </thead>\n",
       "  <tbody>\n",
       "    <tr>\n",
       "      <th>count</th>\n",
       "      <td>115526.000000</td>\n",
       "    </tr>\n",
       "    <tr>\n",
       "      <th>mean</th>\n",
       "      <td>25.546128</td>\n",
       "    </tr>\n",
       "    <tr>\n",
       "      <th>std</th>\n",
       "      <td>13.501976</td>\n",
       "    </tr>\n",
       "    <tr>\n",
       "      <th>min</th>\n",
       "      <td>2.000000</td>\n",
       "    </tr>\n",
       "    <tr>\n",
       "      <th>25%</th>\n",
       "      <td>17.000000</td>\n",
       "    </tr>\n",
       "    <tr>\n",
       "      <th>50%</th>\n",
       "      <td>22.000000</td>\n",
       "    </tr>\n",
       "    <tr>\n",
       "      <th>75%</th>\n",
       "      <td>31.000000</td>\n",
       "    </tr>\n",
       "    <tr>\n",
       "      <th>max</th>\n",
       "      <td>170.000000</td>\n",
       "    </tr>\n",
       "  </tbody>\n",
       "</table>\n",
       "</div>"
      ],
      "text/plain": [
       "         Token Count\n",
       "count  115526.000000\n",
       "mean       25.546128\n",
       "std        13.501976\n",
       "min         2.000000\n",
       "25%        17.000000\n",
       "50%        22.000000\n",
       "75%        31.000000\n",
       "max       170.000000"
      ]
     },
     "execution_count": 105,
     "metadata": {},
     "output_type": "execute_result"
    }
   ],
   "source": [
    "# 토큰화 후 문장별 토큰 수 탐색\n",
    "tokens_len_3 = [len(tokens) for tokens in clean_train_review_3]\n",
    "df_tokens_len_3 = pd.DataFrame(tokens_len_3, columns=['Token Count'])\n",
    "df_tokens_len_3.describe()"
   ]
  },
  {
   "cell_type": "code",
   "execution_count": 106,
   "metadata": {},
   "outputs": [
    {
     "data": {
      "image/png": "[encoded data removed]",
      "text/plain": [
       "<Figure size 640x480 with 1 Axes>"
      ]
     },
     "metadata": {},
     "output_type": "display_data"
    }
   ],
   "source": [
    "import matplotlib.pyplot as plt\n",
    "%matplotlib inline \n",
    "\n",
    "tokens_len_3.sort()\n",
    "plt.plot(tokens_len_3)\n",
    "plt.show()"
   ]
  },
  {
   "cell_type": "code",
   "execution_count": 107,
   "metadata": {},
   "outputs": [
    {
     "name": "stdout",
     "output_type": "stream",
     "text": [
      "102707\n"
     ]
    }
   ],
   "source": [
    "print(sum([int(l<=40) for l in tokens_len_3]))"
   ]
  },
  {
   "cell_type": "code",
   "execution_count": 108,
   "metadata": {},
   "outputs": [],
   "source": [
    "# 토큰 수 컨트롤\n",
    "modified_clean_train_review_3 = [tokens[:40] for tokens in clean_train_review_3]\n",
    "modified_clean_test_review_3 = [tokens[:40] for tokens in clean_test_review_3]"
   ]
  },
  {
   "cell_type": "code",
   "execution_count": null,
   "metadata": {},
   "outputs": [],
   "source": []
  },
  {
   "cell_type": "markdown",
   "metadata": {},
   "source": [
    "# Padding"
   ]
  },
  {
   "cell_type": "markdown",
   "metadata": {},
   "source": [
    "Type 1: stem=False, remove_stopwords=False"
   ]
  },
  {
   "cell_type": "code",
   "execution_count": 83,
   "metadata": {},
   "outputs": [
    {
     "name": "stdout",
     "output_type": "stream",
     "text": [
      "[[  200   561   134    11     3  1647    93 11853  7592 11215    94    16\n",
      "      0     0     0     0     0     0     0     0     0     0     0     0\n",
      "      0     0     0     0     0     0     0     0     0     0     0     0\n",
      "      0     0     0     0]\n",
      " [ 5526  2125    60  2113   282     4    77 17943    18    13    31   166\n",
      "      2    35    40    22    26   869  2167    59   987   365    12  1035\n",
      "    252   748   731   249   589    24 10182  2684    41     0     0     0\n",
      "      0     0     0     0]\n",
      " [  146  2017   442    57   142    35   463  1245    16  1164    36    28\n",
      "    119     3  1775    14   633   107     3   490     1     0     0     0\n",
      "      0     0     0     0     0     0     0     0     0     0     0     0\n",
      "      0     0     0     0]\n",
      " [   44    92    44    11     3     5   239   441     1   303   927   520\n",
      "    212   118   313    23   394     0     0     0     0     0     0     0\n",
      "      0     0     0     0     0     0     0     0     0     0     0     0\n",
      "      0     0     0     0]\n",
      " [ 1095   320     4     8  2355   494  2448  8637    96   176  1095  1065\n",
      "    231  1122   492    89   646 13495     8  2355  4177  2281    36   147\n",
      "      0     0     0     0     0     0     0     0     0     0     0     0\n",
      "      0     0     0     0]]\n"
     ]
    }
   ],
   "source": [
    "# 정수 인코딩 및 시퀀스화, 패딩\n",
    "tokenizer = Tokenizer(num_words=20000)\n",
    "tokenizer.fit_on_texts(modified_clean_train_review_1)\n",
    "\n",
    "X_train_1 = tokenizer.texts_to_sequences(modified_clean_train_review_1)\n",
    "X_train_1 = pad_sequences(X_train_1, padding='post')\n",
    "\n",
    "X_test_1 = tokenizer.texts_to_sequences(modified_clean_test_review_1)\n",
    "X_test_1 = pad_sequences(X_test_1, padding ='post') \n",
    "\n",
    "print(X_train_1[:5])"
   ]
  },
  {
   "cell_type": "markdown",
   "metadata": {},
   "source": [
    "Type 2: stem=True, remove_stopwords=False"
   ]
  },
  {
   "cell_type": "code",
   "execution_count": 99,
   "metadata": {},
   "outputs": [
    {
     "name": "stdout",
     "output_type": "stream",
     "text": [
      "[[   75   169    30    14     5  1411   105  6594  4774  6322   106    26\n",
      "      0     0     0     0     0     0     0     0     0     0     0     0\n",
      "      0     0     0     0     0     0     0     0     0     0     0     0\n",
      "      0     0     0     0]\n",
      " [ 3803  1775    76    37    11   292     6    56    11     2    19     2\n",
      "    182     4     3    46    11     3  1054   820  1801 13925    68   919\n",
      "    365    18   959   271   718    77   267   574    32    47    17    16\n",
      "      0     0     0     0]\n",
      " [  159  1691   434    66    11   155     3   454  1125    26  1061     2\n",
      "     34   132     5  1513    20    37 13926   119     5   478     1   637\n",
      "      0     0     0     0     0     0     0     0     0     0     0     0\n",
      "      0     0     0     0]\n",
      " [    3   103     3    14     5    10    48   432     1    97   867   510\n",
      "    227   152   317    21   251     0     0     0     0     0     0     0\n",
      "      0     0     0     0     0     0     0     0     0     0     0     0\n",
      "      0     0     0     0]\n",
      " [ 1005   324     6    12   262   483  1984   537   108   193  1005   284\n",
      "    245   101   480    96   619   262    12   262  1875    63     2   160\n",
      "      0     0     0     0     0     0     0     0     0     0     0     0\n",
      "      0     0     0     0]]\n"
     ]
    }
   ],
   "source": [
    "# 정수 인코딩 및 시퀀스화, 패딩\n",
    "tokenizer = Tokenizer(num_words=20000)\n",
    "tokenizer.fit_on_texts(modified_clean_train_review_2)\n",
    "\n",
    "X_train_2 = tokenizer.texts_to_sequences(modified_clean_train_review_2)\n",
    "X_train_2 = pad_sequences(X_train_2, padding='post')\n",
    "\n",
    "X_test_2 = tokenizer.texts_to_sequences(modified_clean_test_review_2)\n",
    "X_test_2 = pad_sequences(X_test_2, padding ='post') \n",
    "\n",
    "print(X_train_2[:5])"
   ]
  },
  {
   "cell_type": "markdown",
   "metadata": {},
   "source": [
    "Type 3: stem=True, remove_stopwords=True"
   ]
  },
  {
   "cell_type": "code",
   "execution_count": 110,
   "metadata": {},
   "outputs": [
    {
     "name": "stdout",
     "output_type": "stream",
     "text": [
      "[[   68   164    26    12     4  1406    95  6373  4796  6374    97    21\n",
      "      0     0     0     0     0     0     0     0     0     0     0     0\n",
      "      0     0     0     0     0     0     0     0     0     0     0     0\n",
      "      0     0     0     0]\n",
      " [ 3822  1726    32     8   282    49     8     1    16     1   174     3\n",
      "      2    40     8     2  1044   801  1784 14026    61   908   356    15\n",
      "    947   704    69   260   558    27    41    14    13     0     0     0\n",
      "      0     0     0     0]\n",
      " [  151  1681   427    60     8   149     2   442  1114    21  1058     1\n",
      "     29   124     4  1503    17    32 14027   110     4   462   623     0\n",
      "      0     0     0     0     0     0     0     0     0     0     0     0\n",
      "      0     0     0     0]\n",
      " [    2    94     2    12     4     7    43   423    90   865   220   144\n",
      "    309    18   242     0     0     0     0     0     0     0     0     0\n",
      "      0     0     0     0     0     0     0     0     0     0     0     0\n",
      "      0     0     0     0]\n",
      " [  983   312     9   254   468  1951   517    98   186   983   270   237\n",
      "     87   465    88   602   254     9   254  1843    57     1   148     0\n",
      "      0     0     0     0     0     0     0     0     0     0     0     0\n",
      "      0     0     0     0]]\n"
     ]
    }
   ],
   "source": [
    "# 정수 인코딩 및 시퀀스화, 패딩\n",
    "tokenizer = Tokenizer(num_words=20000)\n",
    "tokenizer.fit_on_texts(modified_clean_train_review_3)\n",
    "\n",
    "X_train_3 = tokenizer.texts_to_sequences(modified_clean_train_review_3)\n",
    "X_train_3 = pad_sequences(X_train_3, padding='post')\n",
    "\n",
    "X_test_3 = tokenizer.texts_to_sequences(modified_clean_test_review_3)\n",
    "X_test_3 = pad_sequences(X_test_3, padding ='post') \n",
    "\n",
    "print(X_train_3[:5])"
   ]
  },
  {
   "cell_type": "markdown",
   "metadata": {},
   "source": [
    "# Modeling"
   ]
  },
  {
   "cell_type": "markdown",
   "metadata": {},
   "source": [
    "Type 1: stem=False, remove_stopwords=False"
   ]
  },
  {
   "cell_type": "code",
   "execution_count": 91,
   "metadata": {},
   "outputs": [
    {
     "name": "stdout",
     "output_type": "stream",
     "text": [
      "Model: \"sequential_6\"\n",
      "_________________________________________________________________\n",
      " Layer (type)                Output Shape              Param #   \n",
      "=================================================================\n",
      " embedding_6 (Embedding)     (None, 40, 300)           6000000   \n",
      "                                                                 \n",
      " lstm_6 (LSTM)               (None, 50)                70200     \n",
      "                                                                 \n",
      " dense_6 (Dense)             (None, 3)                 153       \n",
      "                                                                 \n",
      "=================================================================\n",
      "Total params: 6070353 (23.16 MB)\n",
      "Trainable params: 6070353 (23.16 MB)\n",
      "Non-trainable params: 0 (0.00 Byte)\n",
      "_________________________________________________________________\n"
     ]
    }
   ],
   "source": [
    "# 모델 훈련\n",
    "model_1 = tf.keras.Sequential([\n",
    "    tf.keras.layers.Embedding(20000,300, input_length=40),\n",
    "    tf.keras.layers.LSTM(units=50),\n",
    "    tf.keras.layers.Dense(3, activation='softmax')\n",
    "])\n",
    "\n",
    "model_1.compile(optimizer='adam', loss='sparse_categorical_crossentropy',\n",
    "                metrics=['accuracy'])\n",
    "model_1.summary()"
   ]
  },
  {
   "cell_type": "code",
   "execution_count": 129,
   "metadata": {},
   "outputs": [
    {
     "name": "stdout",
     "output_type": "stream",
     "text": [
      "Epoch 1/3\n",
      "723/723 [==============================] - 114s 157ms/step - loss: 0.4372 - accuracy: 0.8225 - val_loss: 0.3326 - val_accuracy: 0.8676\n",
      "Epoch 2/3\n",
      "723/723 [==============================] - 121s 167ms/step - loss: 0.2664 - accuracy: 0.8968 - val_loss: 0.3243 - val_accuracy: 0.8700\n",
      "Epoch 3/3\n",
      "723/723 [==============================] - 120s 165ms/step - loss: 0.1972 - accuracy: 0.9244 - val_loss: 0.3753 - val_accuracy: 0.8645\n"
     ]
    }
   ],
   "source": [
    "# 학습\n",
    "history = model_1.fit(X_train_1, y_train, epochs=3, batch_size=128, validation_split=0.2)"
   ]
  },
  {
   "cell_type": "markdown",
   "metadata": {},
   "source": [
    "Type 2: stem=True, remove_stopwords=False"
   ]
  },
  {
   "cell_type": "code",
   "execution_count": 100,
   "metadata": {},
   "outputs": [
    {
     "name": "stdout",
     "output_type": "stream",
     "text": [
      "Model: \"sequential_7\"\n",
      "_________________________________________________________________\n",
      " Layer (type)                Output Shape              Param #   \n",
      "=================================================================\n",
      " embedding_7 (Embedding)     (None, 40, 300)           6000000   \n",
      "                                                                 \n",
      " lstm_7 (LSTM)               (None, 50)                70200     \n",
      "                                                                 \n",
      " dense_7 (Dense)             (None, 3)                 153       \n",
      "                                                                 \n",
      "=================================================================\n",
      "Total params: 6070353 (23.16 MB)\n",
      "Trainable params: 6070353 (23.16 MB)\n",
      "Non-trainable params: 0 (0.00 Byte)\n",
      "_________________________________________________________________\n"
     ]
    }
   ],
   "source": [
    "# 모델 훈련\n",
    "model_2 = tf.keras.Sequential([\n",
    "    tf.keras.layers.Embedding(20000,300, input_length=40),\n",
    "    tf.keras.layers.LSTM(units=50),\n",
    "    tf.keras.layers.Dense(3, activation='softmax')\n",
    "])\n",
    "\n",
    "model_2.compile(optimizer='adam', loss='sparse_categorical_crossentropy',\n",
    "                metrics=['accuracy'])\n",
    "model_2.summary()"
   ]
  },
  {
   "cell_type": "code",
   "execution_count": 130,
   "metadata": {},
   "outputs": [
    {
     "name": "stdout",
     "output_type": "stream",
     "text": [
      "Epoch 1/3\n",
      "723/723 [==============================] - 118s 163ms/step - loss: 0.4564 - accuracy: 0.8127 - val_loss: 0.3570 - val_accuracy: 0.8568\n",
      "Epoch 2/3\n",
      "723/723 [==============================] - 125s 173ms/step - loss: 0.3029 - accuracy: 0.8799 - val_loss: 0.3295 - val_accuracy: 0.8675\n",
      "Epoch 3/3\n",
      "723/723 [==============================] - 126s 175ms/step - loss: 0.2402 - accuracy: 0.9063 - val_loss: 0.3402 - val_accuracy: 0.8699\n"
     ]
    }
   ],
   "source": [
    "# 학습\n",
    "history = model_2.fit(X_train_2, y_train, epochs=3, batch_size=128, validation_split=0.2)"
   ]
  },
  {
   "cell_type": "markdown",
   "metadata": {},
   "source": [
    "Type 3: stem=True, remove_stopwords=True"
   ]
  },
  {
   "cell_type": "code",
   "execution_count": 119,
   "metadata": {},
   "outputs": [
    {
     "name": "stdout",
     "output_type": "stream",
     "text": [
      "Model: \"sequential_11\"\n",
      "_________________________________________________________________\n",
      " Layer (type)                Output Shape              Param #   \n",
      "=================================================================\n",
      " embedding_11 (Embedding)    (None, 40, 300)           6000000   \n",
      "                                                                 \n",
      " lstm_11 (LSTM)              (None, 50)                70200     \n",
      "                                                                 \n",
      " dense_11 (Dense)            (None, 3)                 153       \n",
      "                                                                 \n",
      "=================================================================\n",
      "Total params: 6070353 (23.16 MB)\n",
      "Trainable params: 6070353 (23.16 MB)\n",
      "Non-trainable params: 0 (0.00 Byte)\n",
      "_________________________________________________________________\n"
     ]
    }
   ],
   "source": [
    "# 모델 훈련\n",
    "model_3 = tf.keras.Sequential([\n",
    "    tf.keras.layers.Embedding(20000,300, input_length=40),\n",
    "    tf.keras.layers.LSTM(units=50),\n",
    "    tf.keras.layers.Dense(3, activation='softmax')\n",
    "])\n",
    "\n",
    "model_3.compile(optimizer='adam', loss='sparse_categorical_crossentropy',\n",
    "                metrics=['accuracy'])\n",
    "model_3.summary()"
   ]
  },
  {
   "cell_type": "code",
   "execution_count": 131,
   "metadata": {},
   "outputs": [
    {
     "name": "stdout",
     "output_type": "stream",
     "text": [
      "Epoch 1/3\n",
      "723/723 [==============================] - 131s 177ms/step - loss: 0.4658 - accuracy: 0.8087 - val_loss: 0.3629 - val_accuracy: 0.8520\n",
      "Epoch 2/3\n",
      "723/723 [==============================] - 134s 185ms/step - loss: 0.2999 - accuracy: 0.8818 - val_loss: 0.3322 - val_accuracy: 0.8686\n",
      "Epoch 3/3\n",
      "723/723 [==============================] - 123s 170ms/step - loss: 0.2380 - accuracy: 0.9079 - val_loss: 0.3521 - val_accuracy: 0.8642\n"
     ]
    }
   ],
   "source": [
    "# 학습\n",
    "history = model_3.fit(X_train_3, y_train, epochs=3, batch_size=128, validation_split=0.2)"
   ]
  },
  {
   "cell_type": "markdown",
   "metadata": {},
   "source": [
    "# Test"
   ]
  },
  {
   "cell_type": "markdown",
   "metadata": {},
   "source": [
    "Type 1: stem=False, remove_stopwords=False"
   ]
  },
  {
   "cell_type": "code",
   "execution_count": 132,
   "metadata": {},
   "outputs": [
    {
     "name": "stdout",
     "output_type": "stream",
     "text": [
      "903/903 [==============================] - 13s 15ms/step\n"
     ]
    },
    {
     "data": {
      "text/plain": [
       "array([[1.3750362e-02, 9.0382123e-01, 8.2428351e-02],\n",
       "       [2.2389850e-05, 4.6234130e-04, 9.9951530e-01],\n",
       "       [6.1395018e-05, 7.7451486e-04, 9.9916410e-01],\n",
       "       ...,\n",
       "       [1.0972546e-01, 8.7968403e-01, 1.0590452e-02],\n",
       "       [4.6144765e-02, 9.4795710e-01, 5.8980859e-03],\n",
       "       [9.3517985e-05, 4.5094742e-03, 9.9539703e-01]], dtype=float32)"
      ]
     },
     "execution_count": 132,
     "metadata": {},
     "output_type": "execute_result"
    }
   ],
   "source": [
    "# 테스트 데이터 값 예측\n",
    "prediction_1 = model_1.predict(X_test_1)\n",
    "prediction_1"
   ]
  },
  {
   "cell_type": "code",
   "execution_count": 133,
   "metadata": {},
   "outputs": [
    {
     "name": "stdout",
     "output_type": "stream",
     "text": [
      "테스트 정확도: 86.23%\n"
     ]
    }
   ],
   "source": [
    "# 테스트 성능\n",
    "# 1. prediction 배열에서 큰 값의 인덱스를 구함\n",
    "predicted_labels_1 = np.argmax(prediction_1, axis=1)\n",
    "\n",
    "# 2. 실제 라벨과 예측된 라벨을 사용하여 정확도 계산\n",
    "accuracy_1 = accuracy_score(y_test, predicted_labels_1)\n",
    "\n",
    "# 3. 결과 출력\n",
    "print(f\"테스트 정확도: {accuracy_1 * 100:.2f}%\")"
   ]
  },
  {
   "cell_type": "markdown",
   "metadata": {},
   "source": [
    "Type 2: stem=True, remove_stopwords=False"
   ]
  },
  {
   "cell_type": "code",
   "execution_count": 134,
   "metadata": {},
   "outputs": [
    {
     "name": "stdout",
     "output_type": "stream",
     "text": [
      "  1/903 [..............................] - ETA: 59s"
     ]
    },
    {
     "name": "stdout",
     "output_type": "stream",
     "text": [
      "903/903 [==============================] - 11s 12ms/step\n"
     ]
    },
    {
     "data": {
      "text/plain": [
       "array([[4.2589828e-02, 2.3591381e-01, 7.2149634e-01],\n",
       "       [4.9365113e-05, 1.1737033e-03, 9.9877697e-01],\n",
       "       [7.6683849e-02, 8.4578646e-03, 9.1485828e-01],\n",
       "       ...,\n",
       "       [3.7901897e-02, 9.5147294e-01, 1.0625091e-02],\n",
       "       [7.1847015e-03, 9.8590785e-01, 6.9074044e-03],\n",
       "       [5.8686357e-05, 1.9875816e-03, 9.9795365e-01]], dtype=float32)"
      ]
     },
     "execution_count": 134,
     "metadata": {},
     "output_type": "execute_result"
    }
   ],
   "source": [
    "# 테스트 데이터 값 예측\n",
    "prediction_2 = model_2.predict(X_test_2)\n",
    "prediction_2"
   ]
  },
  {
   "cell_type": "code",
   "execution_count": 135,
   "metadata": {},
   "outputs": [
    {
     "name": "stdout",
     "output_type": "stream",
     "text": [
      "테스트 정확도: 86.90%\n"
     ]
    }
   ],
   "source": [
    "# 테스트 성능\n",
    "# 1. prediction 배열에서 큰 값의 인덱스를 구함\n",
    "predicted_labels_2 = np.argmax(prediction_2, axis=1)\n",
    "\n",
    "# 2. 실제 라벨과 예측된 라벨을 사용하여 정확도 계산\n",
    "accuracy_2 = accuracy_score(y_test, predicted_labels_2)\n",
    "\n",
    "# 3. 결과 출력\n",
    "print(f\"테스트 정확도: {accuracy_2 * 100:.2f}%\")"
   ]
  },
  {
   "cell_type": "markdown",
   "metadata": {},
   "source": [
    "Type 3: stem=True, remove_stopwords=True"
   ]
  },
  {
   "cell_type": "code",
   "execution_count": 136,
   "metadata": {},
   "outputs": [
    {
     "name": "stdout",
     "output_type": "stream",
     "text": [
      "  1/903 [..............................] - ETA: 52s"
     ]
    },
    {
     "name": "stdout",
     "output_type": "stream",
     "text": [
      "903/903 [==============================] - 11s 12ms/step\n"
     ]
    },
    {
     "data": {
      "text/plain": [
       "array([[7.5054280e-03, 9.0829378e-01, 8.4200770e-02],\n",
       "       [4.5739147e-05, 1.1364823e-03, 9.9881774e-01],\n",
       "       [3.6879100e-02, 2.3110906e-02, 9.4001001e-01],\n",
       "       ...,\n",
       "       [4.7512120e-01, 5.1746160e-01, 7.4172942e-03],\n",
       "       [4.8783172e-02, 9.4585967e-01, 5.3571495e-03],\n",
       "       [1.2032554e-04, 3.5209444e-03, 9.9635869e-01]], dtype=float32)"
      ]
     },
     "execution_count": 136,
     "metadata": {},
     "output_type": "execute_result"
    }
   ],
   "source": [
    "# 테스트 데이터 값 예측\n",
    "prediction_3 = model_3.predict(X_test_3)\n",
    "prediction_3"
   ]
  },
  {
   "cell_type": "code",
   "execution_count": 137,
   "metadata": {},
   "outputs": [
    {
     "name": "stdout",
     "output_type": "stream",
     "text": [
      "테스트 정확도: 86.16%\n"
     ]
    }
   ],
   "source": [
    "# 테스트 성능\n",
    "# 1. prediction 배열에서 큰 값의 인덱스를 구함\n",
    "predicted_labels_3 = np.argmax(prediction_3, axis=1)\n",
    "\n",
    "# 2. 실제 라벨과 예측된 라벨을 사용하여 정확도 계산\n",
    "accuracy_3 = accuracy_score(y_test, predicted_labels_3)\n",
    "\n",
    "# 3. 결과 출력\n",
    "print(f\"테스트 정확도: {accuracy_3 * 100:.2f}%\")"
   ]
  }
 ],
 "metadata": {
  "kernelspec": {
   "display_name": "ds_study",
   "language": "python",
   "name": "python3"
  },
  "language_info": {
   "codemirror_mode": {
    "name": "ipython",
    "version": 3
   },
   "file_extension": ".py",
   "mimetype": "text/x-python",
   "name": "python",
   "nbconvert_exporter": "python",
   "pygments_lexer": "ipython3",
   "version": "3.8.16"
  },
  "orig_nbformat": 4
 },
 "nbformat": 4,
 "nbformat_minor": 2
}
