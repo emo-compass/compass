{
 "cells": [
  {
   "cell_type": "markdown",
   "metadata": {},
   "source": [
    "## Set"
   ]
  },
  {
   "cell_type": "code",
   "execution_count": 2,
   "metadata": {},
   "outputs": [],
   "source": [
    "import re\n",
    "import pandas as pd\n",
    "import numpy as np\n",
    "import seaborn as sns\n",
    "import matplotlib.pyplot as plt\n",
    "import koreanize_matplotlib\n",
    "import platform\n",
    "import warnings\n",
    "warnings.filterwarnings('ignore')\n",
    "import tensorflow as tf\n",
    "\n",
    "from konlpy.tag import Okt\n",
    "from tensorflow.keras.preprocessing.text import Tokenizer\n",
    "from tensorflow.keras.preprocessing.sequence import pad_sequences\n",
    "from sklearn.metrics import accuracy_score, precision_score, recall_score, f1_score\n",
    "\n",
    "from sklearn.feature_extraction.text import CountVectorizer\n",
    "from collections import Counter\n",
    "from PIL import Image\n",
    "from wordcloud import WordCloud"
   ]
  },
  {
   "cell_type": "markdown",
   "metadata": {},
   "source": [
    "## Load Data"
   ]
  },
  {
   "cell_type": "markdown",
   "metadata": {},
   "source": [
    "### cosmetics"
   ]
  },
  {
   "cell_type": "code",
   "execution_count": 5,
   "metadata": {},
   "outputs": [
    {
     "data": {
      "text/html": [
       "<div>\n",
       "<style scoped>\n",
       "    .dataframe tbody tr th:only-of-type {\n",
       "        vertical-align: middle;\n",
       "    }\n",
       "\n",
       "    .dataframe tbody tr th {\n",
       "        vertical-align: top;\n",
       "    }\n",
       "\n",
       "    .dataframe thead th {\n",
       "        text-align: right;\n",
       "    }\n",
       "</style>\n",
       "<table border=\"1\" class=\"dataframe\">\n",
       "  <thead>\n",
       "    <tr style=\"text-align: right;\">\n",
       "      <th></th>\n",
       "      <th>Index</th>\n",
       "      <th>RawText</th>\n",
       "      <th>Source</th>\n",
       "      <th>Domain</th>\n",
       "      <th>MainCategory</th>\n",
       "      <th>ProductName</th>\n",
       "      <th>ReviewScore</th>\n",
       "      <th>Syllable</th>\n",
       "      <th>Word</th>\n",
       "      <th>RDate</th>\n",
       "      <th>GeneralPolarity</th>\n",
       "      <th>Aspect</th>\n",
       "      <th>SentimentText</th>\n",
       "      <th>SentimentWord</th>\n",
       "      <th>SentimentPolarity</th>\n",
       "    </tr>\n",
       "  </thead>\n",
       "  <tbody>\n",
       "    <tr>\n",
       "      <th>0</th>\n",
       "      <td>660023</td>\n",
       "      <td>인생템입니다. 겨울이면 맨날 입술 트고 갈라지고 장난아닌데, 올 겨울은 촉촉하게 보...</td>\n",
       "      <td>쇼핑몰</td>\n",
       "      <td>화장품</td>\n",
       "      <td>메이크업/뷰티소품</td>\n",
       "      <td>OO 립 크림 1.5g 1개</td>\n",
       "      <td>5</td>\n",
       "      <td>88</td>\n",
       "      <td>20</td>\n",
       "      <td>20180205</td>\n",
       "      <td>1.0</td>\n",
       "      <td>기능/효과</td>\n",
       "      <td>올 겨울은 촉촉하게 보내고 있어 좋습니다.</td>\n",
       "      <td>6</td>\n",
       "      <td>1</td>\n",
       "    </tr>\n",
       "    <tr>\n",
       "      <th>1</th>\n",
       "      <td>660023</td>\n",
       "      <td>인생템입니다. 겨울이면 맨날 입술 트고 갈라지고 장난아닌데, 올 겨울은 촉촉하게 보...</td>\n",
       "      <td>쇼핑몰</td>\n",
       "      <td>화장품</td>\n",
       "      <td>메이크업/뷰티소품</td>\n",
       "      <td>OO 립 크림 1.5g 1개</td>\n",
       "      <td>5</td>\n",
       "      <td>88</td>\n",
       "      <td>20</td>\n",
       "      <td>20180205</td>\n",
       "      <td>1.0</td>\n",
       "      <td>보습력/수분감/쿨링감</td>\n",
       "      <td>촉촉하게</td>\n",
       "      <td>1</td>\n",
       "      <td>1</td>\n",
       "    </tr>\n",
       "    <tr>\n",
       "      <th>2</th>\n",
       "      <td>660023</td>\n",
       "      <td>인생템입니다. 겨울이면 맨날 입술 트고 갈라지고 장난아닌데, 올 겨울은 촉촉하게 보...</td>\n",
       "      <td>쇼핑몰</td>\n",
       "      <td>화장품</td>\n",
       "      <td>메이크업/뷰티소품</td>\n",
       "      <td>OO 립 크림 1.5g 1개</td>\n",
       "      <td>5</td>\n",
       "      <td>88</td>\n",
       "      <td>20</td>\n",
       "      <td>20180205</td>\n",
       "      <td>1.0</td>\n",
       "      <td>용기</td>\n",
       "      <td>케이스는 이쁜데,</td>\n",
       "      <td>2</td>\n",
       "      <td>1</td>\n",
       "    </tr>\n",
       "    <tr>\n",
       "      <th>3</th>\n",
       "      <td>660023</td>\n",
       "      <td>인생템입니다. 겨울이면 맨날 입술 트고 갈라지고 장난아닌데, 올 겨울은 촉촉하게 보...</td>\n",
       "      <td>쇼핑몰</td>\n",
       "      <td>화장품</td>\n",
       "      <td>메이크업/뷰티소품</td>\n",
       "      <td>OO 립 크림 1.5g 1개</td>\n",
       "      <td>5</td>\n",
       "      <td>88</td>\n",
       "      <td>20</td>\n",
       "      <td>20180205</td>\n",
       "      <td>1.0</td>\n",
       "      <td>용량/개수</td>\n",
       "      <td>양이 적어서</td>\n",
       "      <td>2</td>\n",
       "      <td>-1</td>\n",
       "    </tr>\n",
       "    <tr>\n",
       "      <th>4</th>\n",
       "      <td>660038</td>\n",
       "      <td>발림성 좋습니다. 지속력 좋네요. 건조해진 입술 살짝 발라줬는데 금방 촉촉해져서 좋...</td>\n",
       "      <td>쇼핑몰</td>\n",
       "      <td>화장품</td>\n",
       "      <td>메이크업/뷰티소품</td>\n",
       "      <td>OO 립 크림 1.5g 1개</td>\n",
       "      <td>5</td>\n",
       "      <td>86</td>\n",
       "      <td>20</td>\n",
       "      <td>20171121</td>\n",
       "      <td>1.0</td>\n",
       "      <td>발림성</td>\n",
       "      <td>발림성 좋습니다.</td>\n",
       "      <td>2</td>\n",
       "      <td>1</td>\n",
       "    </tr>\n",
       "  </tbody>\n",
       "</table>\n",
       "</div>"
      ],
      "text/plain": [
       "    Index                                            RawText Source Domain  \\\n",
       "0  660023  인생템입니다. 겨울이면 맨날 입술 트고 갈라지고 장난아닌데, 올 겨울은 촉촉하게 보...    쇼핑몰    화장품   \n",
       "1  660023  인생템입니다. 겨울이면 맨날 입술 트고 갈라지고 장난아닌데, 올 겨울은 촉촉하게 보...    쇼핑몰    화장품   \n",
       "2  660023  인생템입니다. 겨울이면 맨날 입술 트고 갈라지고 장난아닌데, 올 겨울은 촉촉하게 보...    쇼핑몰    화장품   \n",
       "3  660023  인생템입니다. 겨울이면 맨날 입술 트고 갈라지고 장난아닌데, 올 겨울은 촉촉하게 보...    쇼핑몰    화장품   \n",
       "4  660038  발림성 좋습니다. 지속력 좋네요. 건조해진 입술 살짝 발라줬는데 금방 촉촉해져서 좋...    쇼핑몰    화장품   \n",
       "\n",
       "  MainCategory      ProductName  ReviewScore  Syllable  Word     RDate  \\\n",
       "0    메이크업/뷰티소품  OO 립 크림 1.5g 1개            5        88    20  20180205   \n",
       "1    메이크업/뷰티소품  OO 립 크림 1.5g 1개            5        88    20  20180205   \n",
       "2    메이크업/뷰티소품  OO 립 크림 1.5g 1개            5        88    20  20180205   \n",
       "3    메이크업/뷰티소품  OO 립 크림 1.5g 1개            5        88    20  20180205   \n",
       "4    메이크업/뷰티소품  OO 립 크림 1.5g 1개            5        86    20  20171121   \n",
       "\n",
       "   GeneralPolarity       Aspect             SentimentText  SentimentWord  \\\n",
       "0              1.0        기능/효과  올 겨울은 촉촉하게 보내고 있어 좋습니다.               6   \n",
       "1              1.0  보습력/수분감/쿨링감                      촉촉하게              1   \n",
       "2              1.0           용기                케이스는 이쁜데,               2   \n",
       "3              1.0        용량/개수                    양이 적어서              2   \n",
       "4              1.0          발림성                 발림성 좋습니다.              2   \n",
       "\n",
       "   SentimentPolarity  \n",
       "0                  1  \n",
       "1                  1  \n",
       "2                  1  \n",
       "3                 -1  \n",
       "4                  1  "
      ]
     },
     "execution_count": 5,
     "metadata": {},
     "output_type": "execute_result"
    }
   ],
   "source": [
    "path = \"../../data/raw/\"\n",
    "df_cosmetics = pd.read_csv(path+\"cosmetics.csv\", sep = ',', encoding = 'utf-8', header = 0)\n",
    "df_cosmetics.head()"
   ]
  },
  {
   "cell_type": "code",
   "execution_count": 6,
   "metadata": {},
   "outputs": [
    {
     "name": "stdout",
     "output_type": "stream",
     "text": [
      "<class 'pandas.core.frame.DataFrame'>\n",
      "RangeIndex: 150318 entries, 0 to 150317\n",
      "Data columns (total 15 columns):\n",
      " #   Column             Non-Null Count   Dtype  \n",
      "---  ------             --------------   -----  \n",
      " 0   Index              150318 non-null  int64  \n",
      " 1   RawText            150318 non-null  object \n",
      " 2   Source             150318 non-null  object \n",
      " 3   Domain             150318 non-null  object \n",
      " 4   MainCategory       150318 non-null  object \n",
      " 5   ProductName        150316 non-null  object \n",
      " 6   ReviewScore        150318 non-null  int64  \n",
      " 7   Syllable           150318 non-null  int64  \n",
      " 8   Word               150318 non-null  int64  \n",
      " 9   RDate              150318 non-null  int64  \n",
      " 10  GeneralPolarity    148644 non-null  float64\n",
      " 11  Aspect             150318 non-null  object \n",
      " 12  SentimentText      150318 non-null  object \n",
      " 13  SentimentWord      150318 non-null  int64  \n",
      " 14  SentimentPolarity  150318 non-null  int64  \n",
      "dtypes: float64(1), int64(7), object(7)\n",
      "memory usage: 17.2+ MB\n"
     ]
    }
   ],
   "source": [
    "df_cosmetics.info()"
   ]
  },
  {
   "cell_type": "code",
   "execution_count": 8,
   "metadata": {},
   "outputs": [
    {
     "data": {
      "text/plain": [
       "44"
      ]
     },
     "execution_count": 8,
     "metadata": {},
     "output_type": "execute_result"
    }
   ],
   "source": [
    "df_cosmetics['Aspect'].nunique()"
   ]
  },
  {
   "cell_type": "code",
   "execution_count": 28,
   "metadata": {},
   "outputs": [
    {
     "data": {
      "text/plain": [
       "array(['기능/효과', '보습력/수분감/쿨링감', '용기', '용량/개수', '발림성', '지속력/유지력', '흡수력',\n",
       "       '향', '편의성/활용성', '발색력', '가격', '제품구성', '자극성', '윤기/피부(톤)', '디자인',\n",
       "       '품질', '유통기한', '밀착력/접착력', '색상', '제형', '사이즈/두께', '용량', '보습력/수분감',\n",
       "       '사용감', '피부타입', '성분', '지속력', '탄력', '커버력', '머릿결관리', '염색력', '이염',\n",
       "       '용량/사이즈', '향/냄새', '스타일링효과', '클렌징/제거력', '세팅력/고정력', '청량감/쿨링감',\n",
       "       '두피보호', '탈모개선', '세정력', '거품력', '분사력', '그립감'], dtype=object)"
      ]
     },
     "execution_count": 28,
     "metadata": {},
     "output_type": "execute_result"
    }
   ],
   "source": [
    "df_cosmetics['Aspect'].unique()"
   ]
  },
  {
   "cell_type": "code",
   "execution_count": 7,
   "metadata": {},
   "outputs": [
    {
     "data": {
      "text/plain": [
       "기능/효과          16934\n",
       "가격             13196\n",
       "보습력/수분감        11269\n",
       "향              10377\n",
       "편의성/활용성         9422\n",
       "흡수력             8848\n",
       "발림성             6656\n",
       "향/냄새            5947\n",
       "지속력/유지력         5453\n",
       "제품구성            5310\n",
       "윤기/피부(톤)        4927\n",
       "자극성             4719\n",
       "보습력/수분감/쿨링감     4222\n",
       "색상              3421\n",
       "제형              3341\n",
       "머릿결관리           3089\n",
       "발색력             2833\n",
       "용기              2443\n",
       "염색력             2363\n",
       "용량              2287\n",
       "커버력             1985\n",
       "품질              1943\n",
       "피부타입            1803\n",
       "밀착력/접착력         1677\n",
       "유통기한            1651\n",
       "용량/사이즈          1564\n",
       "사용감             1115\n",
       "성분              1052\n",
       "청량감/쿨링감         1049\n",
       "탈모개선            1010\n",
       "스타일링효과           976\n",
       "용량/개수            959\n",
       "세정력              909\n",
       "세팅력/고정력          904\n",
       "지속력              895\n",
       "탄력               870\n",
       "사이즈/두께           720\n",
       "거품력              687\n",
       "디자인              485\n",
       "이염               347\n",
       "클렌징/제거력          304\n",
       "두피보호             249\n",
       "분사력              100\n",
       "그립감                7\n",
       "Name: Aspect, dtype: int64"
      ]
     },
     "execution_count": 7,
     "metadata": {},
     "output_type": "execute_result"
    }
   ],
   "source": [
    "df_cosmetics['Aspect'].value_counts()"
   ]
  },
  {
   "cell_type": "markdown",
   "metadata": {},
   "source": [
    "### garments"
   ]
  },
  {
   "cell_type": "code",
   "execution_count": 9,
   "metadata": {},
   "outputs": [
    {
     "data": {
      "text/html": [
       "<div>\n",
       "<style scoped>\n",
       "    .dataframe tbody tr th:only-of-type {\n",
       "        vertical-align: middle;\n",
       "    }\n",
       "\n",
       "    .dataframe tbody tr th {\n",
       "        vertical-align: top;\n",
       "    }\n",
       "\n",
       "    .dataframe thead th {\n",
       "        text-align: right;\n",
       "    }\n",
       "</style>\n",
       "<table border=\"1\" class=\"dataframe\">\n",
       "  <thead>\n",
       "    <tr style=\"text-align: right;\">\n",
       "      <th></th>\n",
       "      <th>Index</th>\n",
       "      <th>RawText</th>\n",
       "      <th>Source</th>\n",
       "      <th>Domain</th>\n",
       "      <th>MainCategory</th>\n",
       "      <th>ProductName</th>\n",
       "      <th>ReviewScore</th>\n",
       "      <th>Syllable</th>\n",
       "      <th>Word</th>\n",
       "      <th>RDate</th>\n",
       "      <th>GeneralPolarity</th>\n",
       "      <th>Aspect</th>\n",
       "      <th>SentimentText</th>\n",
       "      <th>SentimentWord</th>\n",
       "      <th>SentimentPolarity</th>\n",
       "    </tr>\n",
       "  </thead>\n",
       "  <tbody>\n",
       "    <tr>\n",
       "      <th>0</th>\n",
       "      <td>128481</td>\n",
       "      <td>아들에게 선물했는데 불편하고 활동하기 안좋다고 잘 안입고 다니네요</td>\n",
       "      <td>쇼핑몰</td>\n",
       "      <td>패션</td>\n",
       "      <td>남성의류</td>\n",
       "      <td>OO 남성 매** 데님 3종</td>\n",
       "      <td>100</td>\n",
       "      <td>37</td>\n",
       "      <td>8</td>\n",
       "      <td>20180626</td>\n",
       "      <td>-1.0</td>\n",
       "      <td>착용감</td>\n",
       "      <td>불편하고</td>\n",
       "      <td>1</td>\n",
       "      <td>-1</td>\n",
       "    </tr>\n",
       "    <tr>\n",
       "      <th>1</th>\n",
       "      <td>128481</td>\n",
       "      <td>아들에게 선물했는데 불편하고 활동하기 안좋다고 잘 안입고 다니네요</td>\n",
       "      <td>쇼핑몰</td>\n",
       "      <td>패션</td>\n",
       "      <td>남성의류</td>\n",
       "      <td>OO 남성 매** 데님 3종</td>\n",
       "      <td>100</td>\n",
       "      <td>37</td>\n",
       "      <td>8</td>\n",
       "      <td>20180626</td>\n",
       "      <td>-1.0</td>\n",
       "      <td>착용감</td>\n",
       "      <td>활동하기 안좋다고 잘 안입고 다니네요</td>\n",
       "      <td>5</td>\n",
       "      <td>-1</td>\n",
       "    </tr>\n",
       "    <tr>\n",
       "      <th>2</th>\n",
       "      <td>128483</td>\n",
       "      <td>울아들이입어보고너무불편하다고상품이별로래요. 불편해서자주입을것같지는 않데요.</td>\n",
       "      <td>쇼핑몰</td>\n",
       "      <td>패션</td>\n",
       "      <td>남성의류</td>\n",
       "      <td>OO 남성 매** 데님 3종</td>\n",
       "      <td>100</td>\n",
       "      <td>41</td>\n",
       "      <td>3</td>\n",
       "      <td>20180321</td>\n",
       "      <td>-1.0</td>\n",
       "      <td>착용감</td>\n",
       "      <td>너무불편하다고상품이별로래요.</td>\n",
       "      <td>1</td>\n",
       "      <td>-1</td>\n",
       "    </tr>\n",
       "    <tr>\n",
       "      <th>3</th>\n",
       "      <td>128483</td>\n",
       "      <td>울아들이입어보고너무불편하다고상품이별로래요. 불편해서자주입을것같지는 않데요.</td>\n",
       "      <td>쇼핑몰</td>\n",
       "      <td>패션</td>\n",
       "      <td>남성의류</td>\n",
       "      <td>OO 남성 매** 데님 3종</td>\n",
       "      <td>100</td>\n",
       "      <td>41</td>\n",
       "      <td>3</td>\n",
       "      <td>20180321</td>\n",
       "      <td>-1.0</td>\n",
       "      <td>착용감</td>\n",
       "      <td>불편해서자주입을것같지는 않데요.</td>\n",
       "      <td>2</td>\n",
       "      <td>-1</td>\n",
       "    </tr>\n",
       "    <tr>\n",
       "      <th>4</th>\n",
       "      <td>128484</td>\n",
       "      <td>이번에구매한데님은사이즈가잘맞네요 색상구성도괜찮고맘에든답니다 잘입겠습니다</td>\n",
       "      <td>쇼핑몰</td>\n",
       "      <td>패션</td>\n",
       "      <td>남성의류</td>\n",
       "      <td>OO 남성 매** 데님 3종</td>\n",
       "      <td>100</td>\n",
       "      <td>39</td>\n",
       "      <td>3</td>\n",
       "      <td>20180315</td>\n",
       "      <td>1.0</td>\n",
       "      <td>사이즈</td>\n",
       "      <td>사이즈가잘맞네요</td>\n",
       "      <td>1</td>\n",
       "      <td>1</td>\n",
       "    </tr>\n",
       "  </tbody>\n",
       "</table>\n",
       "</div>"
      ],
      "text/plain": [
       "    Index                                    RawText Source Domain  \\\n",
       "0  128481      아들에게 선물했는데 불편하고 활동하기 안좋다고 잘 안입고 다니네요     쇼핑몰     패션   \n",
       "1  128481      아들에게 선물했는데 불편하고 활동하기 안좋다고 잘 안입고 다니네요     쇼핑몰     패션   \n",
       "2  128483  울아들이입어보고너무불편하다고상품이별로래요. 불편해서자주입을것같지는 않데요.    쇼핑몰     패션   \n",
       "3  128483  울아들이입어보고너무불편하다고상품이별로래요. 불편해서자주입을것같지는 않데요.    쇼핑몰     패션   \n",
       "4  128484    이번에구매한데님은사이즈가잘맞네요 색상구성도괜찮고맘에든답니다 잘입겠습니다    쇼핑몰     패션   \n",
       "\n",
       "  MainCategory      ProductName  ReviewScore  Syllable  Word     RDate  \\\n",
       "0         남성의류  OO 남성 매** 데님 3종          100        37     8  20180626   \n",
       "1         남성의류  OO 남성 매** 데님 3종          100        37     8  20180626   \n",
       "2         남성의류  OO 남성 매** 데님 3종          100        41     3  20180321   \n",
       "3         남성의류  OO 남성 매** 데님 3종          100        41     3  20180321   \n",
       "4         남성의류  OO 남성 매** 데님 3종          100        39     3  20180315   \n",
       "\n",
       "   GeneralPolarity Aspect         SentimentText  SentimentWord  \\\n",
       "0             -1.0    착용감                  불편하고              1   \n",
       "1             -1.0    착용감  활동하기 안좋다고 잘 안입고 다니네요              5   \n",
       "2             -1.0    착용감       너무불편하다고상품이별로래요.              1   \n",
       "3             -1.0    착용감     불편해서자주입을것같지는 않데요.              2   \n",
       "4              1.0    사이즈              사이즈가잘맞네요              1   \n",
       "\n",
       "   SentimentPolarity  \n",
       "0                 -1  \n",
       "1                 -1  \n",
       "2                 -1  \n",
       "3                 -1  \n",
       "4                  1  "
      ]
     },
     "execution_count": 9,
     "metadata": {},
     "output_type": "execute_result"
    }
   ],
   "source": [
    "df_garments = pd.read_csv(path+\"garments.csv\", sep = ',', encoding = 'utf-8', header = 0)\n",
    "df_garments.head()"
   ]
  },
  {
   "cell_type": "code",
   "execution_count": 10,
   "metadata": {},
   "outputs": [
    {
     "name": "stdout",
     "output_type": "stream",
     "text": [
      "<class 'pandas.core.frame.DataFrame'>\n",
      "RangeIndex: 152143 entries, 0 to 152142\n",
      "Data columns (total 15 columns):\n",
      " #   Column             Non-Null Count   Dtype  \n",
      "---  ------             --------------   -----  \n",
      " 0   Index              152143 non-null  int64  \n",
      " 1   RawText            152143 non-null  object \n",
      " 2   Source             152143 non-null  object \n",
      " 3   Domain             152143 non-null  object \n",
      " 4   MainCategory       152143 non-null  object \n",
      " 5   ProductName        152125 non-null  object \n",
      " 6   ReviewScore        152143 non-null  int64  \n",
      " 7   Syllable           152143 non-null  int64  \n",
      " 8   Word               152143 non-null  int64  \n",
      " 9   RDate              152143 non-null  int64  \n",
      " 10  GeneralPolarity    149774 non-null  float64\n",
      " 11  Aspect             152143 non-null  object \n",
      " 12  SentimentText      152143 non-null  object \n",
      " 13  SentimentWord      152143 non-null  int64  \n",
      " 14  SentimentPolarity  152143 non-null  int64  \n",
      "dtypes: float64(1), int64(7), object(7)\n",
      "memory usage: 17.4+ MB\n"
     ]
    }
   ],
   "source": [
    "df_garments.info()"
   ]
  },
  {
   "cell_type": "code",
   "execution_count": 12,
   "metadata": {},
   "outputs": [
    {
     "data": {
      "text/plain": [
       "27"
      ]
     },
     "execution_count": 12,
     "metadata": {},
     "output_type": "execute_result"
    }
   ],
   "source": [
    "df_garments['Aspect'].nunique()"
   ]
  },
  {
   "cell_type": "code",
   "execution_count": 29,
   "metadata": {},
   "outputs": [
    {
     "data": {
      "text/plain": [
       "array(['착용감', '사이즈', '색상', '핏', '신축성', '마감', '가격', '디자인', '품질', '제품구성',\n",
       "       '두께', '기능', '무게', '길이', '소재', '활용성', '촉감', '냄새', '사용성/편의성', '내구성',\n",
       "       '기능성', '사이즈/폭/길이/두께', '수납', '치수/사이즈', '착화감', '사용성', '굽'],\n",
       "      dtype=object)"
      ]
     },
     "execution_count": 29,
     "metadata": {},
     "output_type": "execute_result"
    }
   ],
   "source": [
    "df_garments['Aspect'].unique()"
   ]
  },
  {
   "cell_type": "code",
   "execution_count": 16,
   "metadata": {},
   "outputs": [
    {
     "data": {
      "text/plain": [
       "디자인            16353\n",
       "사이즈            14163\n",
       "가격             13616\n",
       "품질             11799\n",
       "착화감            10667\n",
       "기능             10492\n",
       "소재             10312\n",
       "색상              8965\n",
       "착용감             8154\n",
       "치수/사이즈          5985\n",
       "무게              5664\n",
       "핏               5621\n",
       "길이              4305\n",
       "신축성             4228\n",
       "두께              3924\n",
       "활용성             3368\n",
       "촉감              2499\n",
       "제품구성            1811\n",
       "기능성             1810\n",
       "사이즈/폭/길이/두께     1712\n",
       "사용성             1545\n",
       "마감              1517\n",
       "사용성/편의성         1154\n",
       "내구성             1016\n",
       "굽                674\n",
       "냄새               524\n",
       "수납               265\n",
       "Name: Aspect, dtype: int64"
      ]
     },
     "execution_count": 16,
     "metadata": {},
     "output_type": "execute_result"
    }
   ],
   "source": [
    "df_garments['Aspect'].value_counts()"
   ]
  },
  {
   "cell_type": "markdown",
   "metadata": {},
   "source": [
    "### home_appliances"
   ]
  },
  {
   "cell_type": "code",
   "execution_count": 19,
   "metadata": {},
   "outputs": [
    {
     "data": {
      "text/html": [
       "<div>\n",
       "<style scoped>\n",
       "    .dataframe tbody tr th:only-of-type {\n",
       "        vertical-align: middle;\n",
       "    }\n",
       "\n",
       "    .dataframe tbody tr th {\n",
       "        vertical-align: top;\n",
       "    }\n",
       "\n",
       "    .dataframe thead th {\n",
       "        text-align: right;\n",
       "    }\n",
       "</style>\n",
       "<table border=\"1\" class=\"dataframe\">\n",
       "  <thead>\n",
       "    <tr style=\"text-align: right;\">\n",
       "      <th></th>\n",
       "      <th>Index</th>\n",
       "      <th>RawText</th>\n",
       "      <th>Source</th>\n",
       "      <th>Domain</th>\n",
       "      <th>MainCategory</th>\n",
       "      <th>ProductName</th>\n",
       "      <th>ReviewScore</th>\n",
       "      <th>Syllable</th>\n",
       "      <th>Word</th>\n",
       "      <th>RDate</th>\n",
       "      <th>GeneralPolarity</th>\n",
       "      <th>Aspect</th>\n",
       "      <th>SentimentText</th>\n",
       "      <th>SentimentWord</th>\n",
       "      <th>SentimentPolarity</th>\n",
       "    </tr>\n",
       "  </thead>\n",
       "  <tbody>\n",
       "    <tr>\n",
       "      <th>0</th>\n",
       "      <td>5215</td>\n",
       "      <td>일주일째 쓰고 있는데 진동은 강한데 이물질은 잘 빠지지 않아서 그닥. 칫솔모도 너무...</td>\n",
       "      <td>SNS</td>\n",
       "      <td>가전</td>\n",
       "      <td>생활/미용/욕실가전</td>\n",
       "      <td>(방송중2만원할인) 필립스 프로텍티브 클린 1.0 더블핸들 (HX6456/03)</td>\n",
       "      <td>70</td>\n",
       "      <td>61</td>\n",
       "      <td>15</td>\n",
       "      <td>20200514</td>\n",
       "      <td>0.0</td>\n",
       "      <td>기능</td>\n",
       "      <td>진동은 강한데 이물질은 잘 빠지지 않아서 그닥</td>\n",
       "      <td>7</td>\n",
       "      <td>0</td>\n",
       "    </tr>\n",
       "    <tr>\n",
       "      <th>1</th>\n",
       "      <td>5215</td>\n",
       "      <td>일주일째 쓰고 있는데 진동은 강한데 이물질은 잘 빠지지 않아서 그닥. 칫솔모도 너무...</td>\n",
       "      <td>SNS</td>\n",
       "      <td>가전</td>\n",
       "      <td>생활/미용/욕실가전</td>\n",
       "      <td>(방송중2만원할인) 필립스 프로텍티브 클린 1.0 더블핸들 (HX6456/03)</td>\n",
       "      <td>70</td>\n",
       "      <td>61</td>\n",
       "      <td>15</td>\n",
       "      <td>20200514</td>\n",
       "      <td>0.0</td>\n",
       "      <td>사이즈</td>\n",
       "      <td>칫솔모도 너무 작아서 저한테는 별로예요</td>\n",
       "      <td>5</td>\n",
       "      <td>-1</td>\n",
       "    </tr>\n",
       "    <tr>\n",
       "      <th>2</th>\n",
       "      <td>5216</td>\n",
       "      <td>일주일째 쓰고 있는데 진동은 강합니다. 이물질은 빠지지는 않네요.  칫솔질 하는 것...</td>\n",
       "      <td>SNS</td>\n",
       "      <td>가전</td>\n",
       "      <td>생활/미용/욕실가전</td>\n",
       "      <td>(방송중2만원할인) 필립스 프로텍티브 클린 1.0 더블핸들 (HX6456/03)</td>\n",
       "      <td>70</td>\n",
       "      <td>55</td>\n",
       "      <td>13</td>\n",
       "      <td>20200514</td>\n",
       "      <td>1.0</td>\n",
       "      <td>기능</td>\n",
       "      <td>일주일째 쓰고 있는데 진동은 강합니다.</td>\n",
       "      <td>5</td>\n",
       "      <td>1</td>\n",
       "    </tr>\n",
       "    <tr>\n",
       "      <th>3</th>\n",
       "      <td>5216</td>\n",
       "      <td>일주일째 쓰고 있는데 진동은 강합니다. 이물질은 빠지지는 않네요.  칫솔질 하는 것...</td>\n",
       "      <td>SNS</td>\n",
       "      <td>가전</td>\n",
       "      <td>생활/미용/욕실가전</td>\n",
       "      <td>(방송중2만원할인) 필립스 프로텍티브 클린 1.0 더블핸들 (HX6456/03)</td>\n",
       "      <td>70</td>\n",
       "      <td>55</td>\n",
       "      <td>13</td>\n",
       "      <td>20200514</td>\n",
       "      <td>1.0</td>\n",
       "      <td>조작성</td>\n",
       "      <td>이물질은 빠지지는 않네요.</td>\n",
       "      <td>3</td>\n",
       "      <td>-1</td>\n",
       "    </tr>\n",
       "    <tr>\n",
       "      <th>4</th>\n",
       "      <td>5216</td>\n",
       "      <td>일주일째 쓰고 있는데 진동은 강합니다. 이물질은 빠지지는 않네요.  칫솔질 하는 것...</td>\n",
       "      <td>SNS</td>\n",
       "      <td>가전</td>\n",
       "      <td>생활/미용/욕실가전</td>\n",
       "      <td>(방송중2만원할인) 필립스 프로텍티브 클린 1.0 더블핸들 (HX6456/03)</td>\n",
       "      <td>70</td>\n",
       "      <td>55</td>\n",
       "      <td>13</td>\n",
       "      <td>20200514</td>\n",
       "      <td>1.0</td>\n",
       "      <td>편의성</td>\n",
       "      <td>칫솔질 하는 것보단 편하김 해요</td>\n",
       "      <td>5</td>\n",
       "      <td>1</td>\n",
       "    </tr>\n",
       "  </tbody>\n",
       "</table>\n",
       "</div>"
      ],
      "text/plain": [
       "   Index                                            RawText Source Domain  \\\n",
       "0   5215  일주일째 쓰고 있는데 진동은 강한데 이물질은 잘 빠지지 않아서 그닥. 칫솔모도 너무...    SNS     가전   \n",
       "1   5215  일주일째 쓰고 있는데 진동은 강한데 이물질은 잘 빠지지 않아서 그닥. 칫솔모도 너무...    SNS     가전   \n",
       "2   5216  일주일째 쓰고 있는데 진동은 강합니다. 이물질은 빠지지는 않네요.  칫솔질 하는 것...    SNS     가전   \n",
       "3   5216  일주일째 쓰고 있는데 진동은 강합니다. 이물질은 빠지지는 않네요.  칫솔질 하는 것...    SNS     가전   \n",
       "4   5216  일주일째 쓰고 있는데 진동은 강합니다. 이물질은 빠지지는 않네요.  칫솔질 하는 것...    SNS     가전   \n",
       "\n",
       "  MainCategory                                   ProductName  ReviewScore  \\\n",
       "0   생활/미용/욕실가전  (방송중2만원할인) 필립스 프로텍티브 클린 1.0 더블핸들 (HX6456/03)           70   \n",
       "1   생활/미용/욕실가전  (방송중2만원할인) 필립스 프로텍티브 클린 1.0 더블핸들 (HX6456/03)           70   \n",
       "2   생활/미용/욕실가전  (방송중2만원할인) 필립스 프로텍티브 클린 1.0 더블핸들 (HX6456/03)           70   \n",
       "3   생활/미용/욕실가전  (방송중2만원할인) 필립스 프로텍티브 클린 1.0 더블핸들 (HX6456/03)           70   \n",
       "4   생활/미용/욕실가전  (방송중2만원할인) 필립스 프로텍티브 클린 1.0 더블핸들 (HX6456/03)           70   \n",
       "\n",
       "   Syllable  Word     RDate  GeneralPolarity Aspect  \\\n",
       "0        61    15  20200514              0.0     기능   \n",
       "1        61    15  20200514              0.0    사이즈   \n",
       "2        55    13  20200514              1.0     기능   \n",
       "3        55    13  20200514              1.0    조작성   \n",
       "4        55    13  20200514              1.0    편의성   \n",
       "\n",
       "               SentimentText  SentimentWord  SentimentPolarity  \n",
       "0  진동은 강한데 이물질은 잘 빠지지 않아서 그닥              7                  0  \n",
       "1      칫솔모도 너무 작아서 저한테는 별로예요              5                 -1  \n",
       "2      일주일째 쓰고 있는데 진동은 강합니다.              5                  1  \n",
       "3            이물질은 빠지지는 않네요.               3                 -1  \n",
       "4          칫솔질 하는 것보단 편하김 해요              5                  1  "
      ]
     },
     "execution_count": 19,
     "metadata": {},
     "output_type": "execute_result"
    }
   ],
   "source": [
    "df_home_appliances = pd.read_csv(path+\"home_appliances.csv\", sep = ',', encoding = 'utf-8', header = 0)\n",
    "df_home_appliances.head()"
   ]
  },
  {
   "cell_type": "code",
   "execution_count": 20,
   "metadata": {},
   "outputs": [
    {
     "name": "stdout",
     "output_type": "stream",
     "text": [
      "<class 'pandas.core.frame.DataFrame'>\n",
      "RangeIndex: 111730 entries, 0 to 111729\n",
      "Data columns (total 15 columns):\n",
      " #   Column             Non-Null Count   Dtype  \n",
      "---  ------             --------------   -----  \n",
      " 0   Index              111730 non-null  int64  \n",
      " 1   RawText            111730 non-null  object \n",
      " 2   Source             111730 non-null  object \n",
      " 3   Domain             111730 non-null  object \n",
      " 4   MainCategory       111730 non-null  object \n",
      " 5   ProductName        111730 non-null  object \n",
      " 6   ReviewScore        111730 non-null  int64  \n",
      " 7   Syllable           111730 non-null  int64  \n",
      " 8   Word               111730 non-null  int64  \n",
      " 9   RDate              111730 non-null  int64  \n",
      " 10  GeneralPolarity    90018 non-null   float64\n",
      " 11  Aspect             111730 non-null  object \n",
      " 12  SentimentText      111730 non-null  object \n",
      " 13  SentimentWord      111730 non-null  int64  \n",
      " 14  SentimentPolarity  111730 non-null  int64  \n",
      "dtypes: float64(1), int64(7), object(7)\n",
      "memory usage: 12.8+ MB\n"
     ]
    }
   ],
   "source": [
    "df_home_appliances.info()"
   ]
  },
  {
   "cell_type": "code",
   "execution_count": 21,
   "metadata": {},
   "outputs": [
    {
     "data": {
      "text/plain": [
       "20"
      ]
     },
     "execution_count": 21,
     "metadata": {},
     "output_type": "execute_result"
    }
   ],
   "source": [
    "df_home_appliances['Aspect'].nunique()"
   ]
  },
  {
   "cell_type": "code",
   "execution_count": 30,
   "metadata": {},
   "outputs": [
    {
     "data": {
      "text/plain": [
       "array(['기능', '사이즈', '조작성', '편의성', '품질', '가격', '디자인', '용량', '제품구성', '소음',\n",
       "       '내구성', '무게', '배터리', '제조일/제조사', '시간/속도', '소재', '색상', '소비전력',\n",
       "       '음량/음질', '화질'], dtype=object)"
      ]
     },
     "execution_count": 30,
     "metadata": {},
     "output_type": "execute_result"
    }
   ],
   "source": [
    "df_home_appliances['Aspect'].unique()"
   ]
  },
  {
   "cell_type": "code",
   "execution_count": 22,
   "metadata": {},
   "outputs": [
    {
     "data": {
      "text/plain": [
       "기능         26480\n",
       "가격         12004\n",
       "편의성         9980\n",
       "디자인         9614\n",
       "소음          8799\n",
       "품질          6290\n",
       "조작성         5332\n",
       "사이즈         5305\n",
       "색상          4305\n",
       "음량/음질       3966\n",
       "용량          3360\n",
       "무게          3003\n",
       "제품구성        2832\n",
       "제조일/제조사     2612\n",
       "화질          2047\n",
       "시간/속도       1731\n",
       "소비전력        1199\n",
       "내구성         1143\n",
       "소재          1051\n",
       "배터리          677\n",
       "Name: Aspect, dtype: int64"
      ]
     },
     "execution_count": 22,
     "metadata": {},
     "output_type": "execute_result"
    }
   ],
   "source": [
    "df_home_appliances['Aspect'].value_counts()"
   ]
  },
  {
   "cell_type": "markdown",
   "metadata": {},
   "source": [
    "### tech_devices"
   ]
  },
  {
   "cell_type": "code",
   "execution_count": 24,
   "metadata": {},
   "outputs": [
    {
     "data": {
      "text/html": [
       "<div>\n",
       "<style scoped>\n",
       "    .dataframe tbody tr th:only-of-type {\n",
       "        vertical-align: middle;\n",
       "    }\n",
       "\n",
       "    .dataframe tbody tr th {\n",
       "        vertical-align: top;\n",
       "    }\n",
       "\n",
       "    .dataframe thead th {\n",
       "        text-align: right;\n",
       "    }\n",
       "</style>\n",
       "<table border=\"1\" class=\"dataframe\">\n",
       "  <thead>\n",
       "    <tr style=\"text-align: right;\">\n",
       "      <th></th>\n",
       "      <th>Index</th>\n",
       "      <th>RawText</th>\n",
       "      <th>Source</th>\n",
       "      <th>Domain</th>\n",
       "      <th>MainCategory</th>\n",
       "      <th>ProductName</th>\n",
       "      <th>ReviewScore</th>\n",
       "      <th>Syllable</th>\n",
       "      <th>Word</th>\n",
       "      <th>RDate</th>\n",
       "      <th>GeneralPolarity</th>\n",
       "      <th>Aspect</th>\n",
       "      <th>SentimentText</th>\n",
       "      <th>SentimentWord</th>\n",
       "      <th>SentimentPolarity</th>\n",
       "    </tr>\n",
       "  </thead>\n",
       "  <tbody>\n",
       "    <tr>\n",
       "      <th>0</th>\n",
       "      <td>5215</td>\n",
       "      <td>일주일째 쓰고 있는데 진동은 강한데 이물질은 잘 빠지지 않아서 그닥. 칫솔모도 너무...</td>\n",
       "      <td>SNS</td>\n",
       "      <td>가전</td>\n",
       "      <td>생활/미용/욕실가전</td>\n",
       "      <td>(방송중2만원할인) 필립스 프로텍티브 클린 1.0 더블핸들 (HX6456/03)</td>\n",
       "      <td>70</td>\n",
       "      <td>61</td>\n",
       "      <td>15</td>\n",
       "      <td>20200514</td>\n",
       "      <td>0.0</td>\n",
       "      <td>기능</td>\n",
       "      <td>진동은 강한데 이물질은 잘 빠지지 않아서 그닥</td>\n",
       "      <td>7</td>\n",
       "      <td>0</td>\n",
       "    </tr>\n",
       "    <tr>\n",
       "      <th>1</th>\n",
       "      <td>5215</td>\n",
       "      <td>일주일째 쓰고 있는데 진동은 강한데 이물질은 잘 빠지지 않아서 그닥. 칫솔모도 너무...</td>\n",
       "      <td>SNS</td>\n",
       "      <td>가전</td>\n",
       "      <td>생활/미용/욕실가전</td>\n",
       "      <td>(방송중2만원할인) 필립스 프로텍티브 클린 1.0 더블핸들 (HX6456/03)</td>\n",
       "      <td>70</td>\n",
       "      <td>61</td>\n",
       "      <td>15</td>\n",
       "      <td>20200514</td>\n",
       "      <td>0.0</td>\n",
       "      <td>사이즈</td>\n",
       "      <td>칫솔모도 너무 작아서 저한테는 별로예요</td>\n",
       "      <td>5</td>\n",
       "      <td>-1</td>\n",
       "    </tr>\n",
       "    <tr>\n",
       "      <th>2</th>\n",
       "      <td>5216</td>\n",
       "      <td>일주일째 쓰고 있는데 진동은 강합니다. 이물질은 빠지지는 않네요.  칫솔질 하는 것...</td>\n",
       "      <td>SNS</td>\n",
       "      <td>가전</td>\n",
       "      <td>생활/미용/욕실가전</td>\n",
       "      <td>(방송중2만원할인) 필립스 프로텍티브 클린 1.0 더블핸들 (HX6456/03)</td>\n",
       "      <td>70</td>\n",
       "      <td>55</td>\n",
       "      <td>13</td>\n",
       "      <td>20200514</td>\n",
       "      <td>1.0</td>\n",
       "      <td>기능</td>\n",
       "      <td>일주일째 쓰고 있는데 진동은 강합니다.</td>\n",
       "      <td>5</td>\n",
       "      <td>1</td>\n",
       "    </tr>\n",
       "    <tr>\n",
       "      <th>3</th>\n",
       "      <td>5216</td>\n",
       "      <td>일주일째 쓰고 있는데 진동은 강합니다. 이물질은 빠지지는 않네요.  칫솔질 하는 것...</td>\n",
       "      <td>SNS</td>\n",
       "      <td>가전</td>\n",
       "      <td>생활/미용/욕실가전</td>\n",
       "      <td>(방송중2만원할인) 필립스 프로텍티브 클린 1.0 더블핸들 (HX6456/03)</td>\n",
       "      <td>70</td>\n",
       "      <td>55</td>\n",
       "      <td>13</td>\n",
       "      <td>20200514</td>\n",
       "      <td>1.0</td>\n",
       "      <td>조작성</td>\n",
       "      <td>이물질은 빠지지는 않네요.</td>\n",
       "      <td>3</td>\n",
       "      <td>-1</td>\n",
       "    </tr>\n",
       "    <tr>\n",
       "      <th>4</th>\n",
       "      <td>5216</td>\n",
       "      <td>일주일째 쓰고 있는데 진동은 강합니다. 이물질은 빠지지는 않네요.  칫솔질 하는 것...</td>\n",
       "      <td>SNS</td>\n",
       "      <td>가전</td>\n",
       "      <td>생활/미용/욕실가전</td>\n",
       "      <td>(방송중2만원할인) 필립스 프로텍티브 클린 1.0 더블핸들 (HX6456/03)</td>\n",
       "      <td>70</td>\n",
       "      <td>55</td>\n",
       "      <td>13</td>\n",
       "      <td>20200514</td>\n",
       "      <td>1.0</td>\n",
       "      <td>편의성</td>\n",
       "      <td>칫솔질 하는 것보단 편하김 해요</td>\n",
       "      <td>5</td>\n",
       "      <td>1</td>\n",
       "    </tr>\n",
       "  </tbody>\n",
       "</table>\n",
       "</div>"
      ],
      "text/plain": [
       "   Index                                            RawText Source Domain  \\\n",
       "0   5215  일주일째 쓰고 있는데 진동은 강한데 이물질은 잘 빠지지 않아서 그닥. 칫솔모도 너무...    SNS     가전   \n",
       "1   5215  일주일째 쓰고 있는데 진동은 강한데 이물질은 잘 빠지지 않아서 그닥. 칫솔모도 너무...    SNS     가전   \n",
       "2   5216  일주일째 쓰고 있는데 진동은 강합니다. 이물질은 빠지지는 않네요.  칫솔질 하는 것...    SNS     가전   \n",
       "3   5216  일주일째 쓰고 있는데 진동은 강합니다. 이물질은 빠지지는 않네요.  칫솔질 하는 것...    SNS     가전   \n",
       "4   5216  일주일째 쓰고 있는데 진동은 강합니다. 이물질은 빠지지는 않네요.  칫솔질 하는 것...    SNS     가전   \n",
       "\n",
       "  MainCategory                                   ProductName  ReviewScore  \\\n",
       "0   생활/미용/욕실가전  (방송중2만원할인) 필립스 프로텍티브 클린 1.0 더블핸들 (HX6456/03)           70   \n",
       "1   생활/미용/욕실가전  (방송중2만원할인) 필립스 프로텍티브 클린 1.0 더블핸들 (HX6456/03)           70   \n",
       "2   생활/미용/욕실가전  (방송중2만원할인) 필립스 프로텍티브 클린 1.0 더블핸들 (HX6456/03)           70   \n",
       "3   생활/미용/욕실가전  (방송중2만원할인) 필립스 프로텍티브 클린 1.0 더블핸들 (HX6456/03)           70   \n",
       "4   생활/미용/욕실가전  (방송중2만원할인) 필립스 프로텍티브 클린 1.0 더블핸들 (HX6456/03)           70   \n",
       "\n",
       "   Syllable  Word     RDate  GeneralPolarity Aspect  \\\n",
       "0        61    15  20200514              0.0     기능   \n",
       "1        61    15  20200514              0.0    사이즈   \n",
       "2        55    13  20200514              1.0     기능   \n",
       "3        55    13  20200514              1.0    조작성   \n",
       "4        55    13  20200514              1.0    편의성   \n",
       "\n",
       "               SentimentText  SentimentWord  SentimentPolarity  \n",
       "0  진동은 강한데 이물질은 잘 빠지지 않아서 그닥              7                  0  \n",
       "1      칫솔모도 너무 작아서 저한테는 별로예요              5                 -1  \n",
       "2      일주일째 쓰고 있는데 진동은 강합니다.              5                  1  \n",
       "3            이물질은 빠지지는 않네요.               3                 -1  \n",
       "4          칫솔질 하는 것보단 편하김 해요              5                  1  "
      ]
     },
     "execution_count": 24,
     "metadata": {},
     "output_type": "execute_result"
    }
   ],
   "source": [
    "df_tech_devices = pd.read_csv(path+\"tech_devices.csv\", sep = ',', encoding = 'utf-8', header = 0)\n",
    "df_home_appliances.head()"
   ]
  },
  {
   "cell_type": "code",
   "execution_count": 25,
   "metadata": {},
   "outputs": [
    {
     "name": "stdout",
     "output_type": "stream",
     "text": [
      "<class 'pandas.core.frame.DataFrame'>\n",
      "RangeIndex: 100823 entries, 0 to 100822\n",
      "Data columns (total 15 columns):\n",
      " #   Column             Non-Null Count   Dtype  \n",
      "---  ------             --------------   -----  \n",
      " 0   Index              100823 non-null  int64  \n",
      " 1   RawText            100823 non-null  object \n",
      " 2   Source             100823 non-null  object \n",
      " 3   Domain             100823 non-null  object \n",
      " 4   MainCategory       100823 non-null  object \n",
      " 5   ProductName        100823 non-null  object \n",
      " 6   ReviewScore        100823 non-null  int64  \n",
      " 7   Syllable           100823 non-null  int64  \n",
      " 8   Word               100823 non-null  int64  \n",
      " 9   RDate              100823 non-null  int64  \n",
      " 10  GeneralPolarity    88027 non-null   float64\n",
      " 11  Aspect             100823 non-null  object \n",
      " 12  SentimentText      100823 non-null  object \n",
      " 13  SentimentWord      100823 non-null  int64  \n",
      " 14  SentimentPolarity  100823 non-null  int64  \n",
      "dtypes: float64(1), int64(7), object(7)\n",
      "memory usage: 11.5+ MB\n"
     ]
    }
   ],
   "source": [
    "df_tech_devices.info()"
   ]
  },
  {
   "cell_type": "code",
   "execution_count": 26,
   "metadata": {},
   "outputs": [
    {
     "data": {
      "text/plain": [
       "20"
      ]
     },
     "execution_count": 26,
     "metadata": {},
     "output_type": "execute_result"
    }
   ],
   "source": [
    "df_tech_devices['Aspect'].nunique()"
   ]
  },
  {
   "cell_type": "code",
   "execution_count": 31,
   "metadata": {},
   "outputs": [
    {
     "data": {
      "text/plain": [
       "array(['사이즈', '기능', '가격', '시간/속도', '편의성', '품질', '제품구성', '무게', '용량', '화질',\n",
       "       '색상', '디자인', '배터리', '제조일/제조사', '조작성', '음량/음질', '내구성', '소재', '소음',\n",
       "       '소비전력'], dtype=object)"
      ]
     },
     "execution_count": 31,
     "metadata": {},
     "output_type": "execute_result"
    }
   ],
   "source": [
    "df_tech_devices['Aspect'].unique()"
   ]
  },
  {
   "cell_type": "code",
   "execution_count": 27,
   "metadata": {},
   "outputs": [
    {
     "data": {
      "text/plain": [
       "가격         13919\n",
       "기능         11687\n",
       "편의성         7774\n",
       "사이즈         7205\n",
       "조작성         7019\n",
       "품질          6714\n",
       "음량/음질       6596\n",
       "디자인         6142\n",
       "색상          5495\n",
       "화질          4817\n",
       "제품구성        4621\n",
       "무게          4241\n",
       "제조일/제조사     3594\n",
       "시간/속도       3414\n",
       "배터리         2094\n",
       "소음          1793\n",
       "내구성         1602\n",
       "용량          1156\n",
       "소재           893\n",
       "소비전력          47\n",
       "Name: Aspect, dtype: int64"
      ]
     },
     "execution_count": 27,
     "metadata": {},
     "output_type": "execute_result"
    }
   ],
   "source": [
    "df_tech_devices['Aspect'].value_counts()"
   ]
  },
  {
   "cell_type": "markdown",
   "metadata": {},
   "source": [
    "## Categorizing"
   ]
  },
  {
   "cell_type": "markdown",
   "metadata": {},
   "source": [
    "### cosmetics"
   ]
  },
  {
   "cell_type": "code",
   "execution_count": null,
   "metadata": {},
   "outputs": [],
   "source": [
    "categories = {\n",
    "    \"price\": [\"가격\"],\n",
    "    \"composition\": [\"제품구성\", \"성분\"],\n",
    "    \"usability\": [\"거품력\", \"발림성\", \"분사력\", \"사용감\", \"세정력\", \"자극성\", \"제형\", \"클렌징/제거력\"],\n",
    "    \"packaging\": [\"그립감\", \"디자인\", \"사이즈/두께\", \"색상\", \"용기\", \"용량\", \"용량/개수\", \"용량/사이즈\", \"유통기한\", \"편의성/활용성\"],\n",
    "    \"quality\": [\"밀착력/접착력\", \"발색력\", \"보습력/수분감\", \"보습력/수분감/쿨링감\", \"이염\", \"품질\", \"향\", \"향/냄새\", \"흡수력\"],\n",
    "    \"effectiveness\": [\"기능/효과\", \"세팅력/고정력\", \"염색력\", \"지속력\", \"지속력/유지력\", \"청량감/쿨링감\", \"커버력\", \"두피보호\", \"머릿결관리\", \"스타일링효과\", \"윤기/피부(톤)\", \"탄력\", \"탈모개선\", \"피부타입\"]\n",
    "}\n"
   ]
  },
  {
   "cell_type": "code",
   "execution_count": null,
   "metadata": {},
   "outputs": [],
   "source": []
  },
  {
   "cell_type": "markdown",
   "metadata": {},
   "source": [
    "### garments"
   ]
  },
  {
   "cell_type": "code",
   "execution_count": null,
   "metadata": {},
   "outputs": [],
   "source": [
    "categories = {\n",
    "    \"size\": [\"사이즈\", \"핏\", \"두께\", \"길이\", \"사이즈/폭/길이/두께\", \"치수/사이즈\", \"굽\"],\n",
    "    \"design\": [\"색상\", \"디자인\"],\n",
    "    \"quality\": [\"마감\", \"품질\", \"소재\", \"촉감\", \"냄새\", \"내구성\"],\n",
    "    \"usability\": [\"사용성/편의성\", \"사용성\", \"수납\", \"활용성\", \"제품구성\", \"무게\", \"신축성\", \"기능\", \"기능성\", \"착화감\", \"착용감\"],\n",
    "    \"price\": [\"가격\"]\n",
    "}"
   ]
  },
  {
   "cell_type": "code",
   "execution_count": null,
   "metadata": {},
   "outputs": [],
   "source": []
  },
  {
   "cell_type": "markdown",
   "metadata": {},
   "source": [
    "### home_appliances"
   ]
  },
  {
   "cell_type": "code",
   "execution_count": null,
   "metadata": {},
   "outputs": [],
   "source": [
    "categories = {\n",
    "    \"price\": [\"가격\"],\n",
    "    \"composition\": [\"제품구성\"],\n",
    "    \"design\": [\"디자인\", \"색상\"],\n",
    "    \"specification\": [\"무게\", \"배터리\", \"사이즈\", \"소비전력\", \"소재\", \"용량\", \"제조일/제조사\"],\n",
    "    \"performance\": [\"기능\", \"내구성\", \"소음\", \"시간/속도\", \"음량/음질\", \"품질\", \"화질\"],\n",
    "    \"usability\": [\"조작성\", \"편의성\"]\n",
    "}"
   ]
  },
  {
   "cell_type": "code",
   "execution_count": null,
   "metadata": {},
   "outputs": [],
   "source": []
  },
  {
   "cell_type": "markdown",
   "metadata": {},
   "source": [
    "### tech_devices"
   ]
  },
  {
   "cell_type": "code",
   "execution_count": null,
   "metadata": {},
   "outputs": [],
   "source": [
    "categories = {}"
   ]
  },
  {
   "cell_type": "code",
   "execution_count": null,
   "metadata": {},
   "outputs": [],
   "source": []
  },
  {
   "cell_type": "markdown",
   "metadata": {},
   "source": [
    "## EDA"
   ]
  },
  {
   "cell_type": "code",
   "execution_count": null,
   "metadata": {},
   "outputs": [],
   "source": []
  },
  {
   "cell_type": "code",
   "execution_count": null,
   "metadata": {},
   "outputs": [],
   "source": []
  }
 ],
 "metadata": {
  "kernelspec": {
   "display_name": "ds_study",
   "language": "python",
   "name": "python3"
  },
  "language_info": {
   "codemirror_mode": {
    "name": "ipython",
    "version": 3
   },
   "file_extension": ".py",
   "mimetype": "text/x-python",
   "name": "python",
   "nbconvert_exporter": "python",
   "pygments_lexer": "ipython3",
   "version": "3.8.16"
  },
  "orig_nbformat": 4
 },
 "nbformat": 4,
 "nbformat_minor": 2
}
