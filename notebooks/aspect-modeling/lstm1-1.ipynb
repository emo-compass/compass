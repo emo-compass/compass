{
 "cells": [
  {
   "cell_type": "markdown",
   "metadata": {},
   "source": [
    "# LSTM 1"
   ]
  },
  {
   "cell_type": "markdown",
   "metadata": {},
   "source": [
    "- SentimentText를 X로, Aspect를 y로 학습시킨 모델(Input_length=26)\n",
    "<br>  accuracy: 0.9711, val_accuracy: 0.9481\n",
    "- SentimentText, RawText로 테스트: 정확도 SentimentText 94.96%, RawText 24.67% \n",
    "<br>  (원인: 텍스트 길이가 다름 - SentimentText 평균 5 최대 26, RawText 평균 27 최대 159)\n",
    "- SentimentText 학습모델의 Input_length를 42로 늘려서 재확인 \n",
    "<br>  accuracy: 0.9503, val_accuracy: 0.9295\n",
    "- SentimentText, RawText로 테스트 : 정확도  SentimentText 24.81%, RawText 24.41% "
   ]
  },
  {
   "cell_type": "markdown",
   "metadata": {},
   "source": [
    "## Set"
   ]
  },
  {
   "cell_type": "code",
   "execution_count": 2,
   "metadata": {},
   "outputs": [],
   "source": [
    "import re\n",
    "import pandas as pd\n",
    "import numpy as np\n",
    "import seaborn as sns\n",
    "import matplotlib.pyplot as plt\n",
    "import koreanize_matplotlib\n",
    "import platform\n",
    "import warnings\n",
    "warnings.filterwarnings('ignore')\n",
    "import tensorflow as tf\n",
    "\n",
    "from konlpy.tag import Okt\n",
    "from tensorflow.keras.preprocessing.text import Tokenizer\n",
    "from tensorflow.keras.preprocessing.sequence import pad_sequences\n",
    "from sklearn.metrics import accuracy_score, precision_score, recall_score, f1_score\n",
    "\n",
    "from sklearn.model_selection import train_test_split\n",
    "from sklearn.preprocessing import LabelEncoder"
   ]
  },
  {
   "cell_type": "markdown",
   "metadata": {},
   "source": [
    "## Load Data"
   ]
  },
  {
   "cell_type": "markdown",
   "metadata": {},
   "source": [
    "### cosmetics"
   ]
  },
  {
   "cell_type": "code",
   "execution_count": 4,
   "metadata": {},
   "outputs": [
    {
     "data": {
      "text/html": [
       "<div>\n",
       "<style scoped>\n",
       "    .dataframe tbody tr th:only-of-type {\n",
       "        vertical-align: middle;\n",
       "    }\n",
       "\n",
       "    .dataframe tbody tr th {\n",
       "        vertical-align: top;\n",
       "    }\n",
       "\n",
       "    .dataframe thead th {\n",
       "        text-align: right;\n",
       "    }\n",
       "</style>\n",
       "<table border=\"1\" class=\"dataframe\">\n",
       "  <thead>\n",
       "    <tr style=\"text-align: right;\">\n",
       "      <th></th>\n",
       "      <th>Index</th>\n",
       "      <th>RawText</th>\n",
       "      <th>Source</th>\n",
       "      <th>Domain</th>\n",
       "      <th>MainCategory</th>\n",
       "      <th>ProductName</th>\n",
       "      <th>ReviewScore</th>\n",
       "      <th>Syllable</th>\n",
       "      <th>Word</th>\n",
       "      <th>RDate</th>\n",
       "      <th>GeneralPolarity</th>\n",
       "      <th>Aspect</th>\n",
       "      <th>SentimentText</th>\n",
       "      <th>SentimentWord</th>\n",
       "      <th>SentimentPolarity</th>\n",
       "    </tr>\n",
       "  </thead>\n",
       "  <tbody>\n",
       "    <tr>\n",
       "      <th>0</th>\n",
       "      <td>660023</td>\n",
       "      <td>인생템입니다. 겨울이면 맨날 입술 트고 갈라지고 장난아닌데, 올 겨울은 촉촉하게 보...</td>\n",
       "      <td>쇼핑몰</td>\n",
       "      <td>화장품</td>\n",
       "      <td>메이크업/뷰티소품</td>\n",
       "      <td>OO 립 크림 1.5g 1개</td>\n",
       "      <td>5</td>\n",
       "      <td>88</td>\n",
       "      <td>20</td>\n",
       "      <td>20180205</td>\n",
       "      <td>1.0</td>\n",
       "      <td>기능/효과</td>\n",
       "      <td>올 겨울은 촉촉하게 보내고 있어 좋습니다.</td>\n",
       "      <td>6</td>\n",
       "      <td>1</td>\n",
       "    </tr>\n",
       "    <tr>\n",
       "      <th>1</th>\n",
       "      <td>660023</td>\n",
       "      <td>인생템입니다. 겨울이면 맨날 입술 트고 갈라지고 장난아닌데, 올 겨울은 촉촉하게 보...</td>\n",
       "      <td>쇼핑몰</td>\n",
       "      <td>화장품</td>\n",
       "      <td>메이크업/뷰티소품</td>\n",
       "      <td>OO 립 크림 1.5g 1개</td>\n",
       "      <td>5</td>\n",
       "      <td>88</td>\n",
       "      <td>20</td>\n",
       "      <td>20180205</td>\n",
       "      <td>1.0</td>\n",
       "      <td>보습력/수분감/쿨링감</td>\n",
       "      <td>촉촉하게</td>\n",
       "      <td>1</td>\n",
       "      <td>1</td>\n",
       "    </tr>\n",
       "    <tr>\n",
       "      <th>2</th>\n",
       "      <td>660023</td>\n",
       "      <td>인생템입니다. 겨울이면 맨날 입술 트고 갈라지고 장난아닌데, 올 겨울은 촉촉하게 보...</td>\n",
       "      <td>쇼핑몰</td>\n",
       "      <td>화장품</td>\n",
       "      <td>메이크업/뷰티소품</td>\n",
       "      <td>OO 립 크림 1.5g 1개</td>\n",
       "      <td>5</td>\n",
       "      <td>88</td>\n",
       "      <td>20</td>\n",
       "      <td>20180205</td>\n",
       "      <td>1.0</td>\n",
       "      <td>용기</td>\n",
       "      <td>케이스는 이쁜데,</td>\n",
       "      <td>2</td>\n",
       "      <td>1</td>\n",
       "    </tr>\n",
       "    <tr>\n",
       "      <th>3</th>\n",
       "      <td>660023</td>\n",
       "      <td>인생템입니다. 겨울이면 맨날 입술 트고 갈라지고 장난아닌데, 올 겨울은 촉촉하게 보...</td>\n",
       "      <td>쇼핑몰</td>\n",
       "      <td>화장품</td>\n",
       "      <td>메이크업/뷰티소품</td>\n",
       "      <td>OO 립 크림 1.5g 1개</td>\n",
       "      <td>5</td>\n",
       "      <td>88</td>\n",
       "      <td>20</td>\n",
       "      <td>20180205</td>\n",
       "      <td>1.0</td>\n",
       "      <td>용량/개수</td>\n",
       "      <td>양이 적어서</td>\n",
       "      <td>2</td>\n",
       "      <td>-1</td>\n",
       "    </tr>\n",
       "    <tr>\n",
       "      <th>4</th>\n",
       "      <td>660038</td>\n",
       "      <td>발림성 좋습니다. 지속력 좋네요. 건조해진 입술 살짝 발라줬는데 금방 촉촉해져서 좋...</td>\n",
       "      <td>쇼핑몰</td>\n",
       "      <td>화장품</td>\n",
       "      <td>메이크업/뷰티소품</td>\n",
       "      <td>OO 립 크림 1.5g 1개</td>\n",
       "      <td>5</td>\n",
       "      <td>86</td>\n",
       "      <td>20</td>\n",
       "      <td>20171121</td>\n",
       "      <td>1.0</td>\n",
       "      <td>발림성</td>\n",
       "      <td>발림성 좋습니다.</td>\n",
       "      <td>2</td>\n",
       "      <td>1</td>\n",
       "    </tr>\n",
       "  </tbody>\n",
       "</table>\n",
       "</div>"
      ],
      "text/plain": [
       "    Index                                            RawText Source Domain  \\\n",
       "0  660023  인생템입니다. 겨울이면 맨날 입술 트고 갈라지고 장난아닌데, 올 겨울은 촉촉하게 보...    쇼핑몰    화장품   \n",
       "1  660023  인생템입니다. 겨울이면 맨날 입술 트고 갈라지고 장난아닌데, 올 겨울은 촉촉하게 보...    쇼핑몰    화장품   \n",
       "2  660023  인생템입니다. 겨울이면 맨날 입술 트고 갈라지고 장난아닌데, 올 겨울은 촉촉하게 보...    쇼핑몰    화장품   \n",
       "3  660023  인생템입니다. 겨울이면 맨날 입술 트고 갈라지고 장난아닌데, 올 겨울은 촉촉하게 보...    쇼핑몰    화장품   \n",
       "4  660038  발림성 좋습니다. 지속력 좋네요. 건조해진 입술 살짝 발라줬는데 금방 촉촉해져서 좋...    쇼핑몰    화장품   \n",
       "\n",
       "  MainCategory      ProductName  ReviewScore  Syllable  Word     RDate  \\\n",
       "0    메이크업/뷰티소품  OO 립 크림 1.5g 1개            5        88    20  20180205   \n",
       "1    메이크업/뷰티소품  OO 립 크림 1.5g 1개            5        88    20  20180205   \n",
       "2    메이크업/뷰티소품  OO 립 크림 1.5g 1개            5        88    20  20180205   \n",
       "3    메이크업/뷰티소품  OO 립 크림 1.5g 1개            5        88    20  20180205   \n",
       "4    메이크업/뷰티소품  OO 립 크림 1.5g 1개            5        86    20  20171121   \n",
       "\n",
       "   GeneralPolarity       Aspect             SentimentText  SentimentWord  \\\n",
       "0              1.0        기능/효과  올 겨울은 촉촉하게 보내고 있어 좋습니다.               6   \n",
       "1              1.0  보습력/수분감/쿨링감                      촉촉하게              1   \n",
       "2              1.0           용기                케이스는 이쁜데,               2   \n",
       "3              1.0        용량/개수                    양이 적어서              2   \n",
       "4              1.0          발림성                 발림성 좋습니다.              2   \n",
       "\n",
       "   SentimentPolarity  \n",
       "0                  1  \n",
       "1                  1  \n",
       "2                  1  \n",
       "3                 -1  \n",
       "4                  1  "
      ]
     },
     "execution_count": 4,
     "metadata": {},
     "output_type": "execute_result"
    }
   ],
   "source": [
    "path = \"../../data/raw/\"\n",
    "df_cosmetics = pd.read_csv(path+\"cosmetics.csv\", sep = ',', encoding = 'utf-8', header = 0)\n",
    "df_cosmetics.head()"
   ]
  },
  {
   "cell_type": "code",
   "execution_count": 3,
   "metadata": {},
   "outputs": [
    {
     "name": "stdout",
     "output_type": "stream",
     "text": [
      "<class 'pandas.core.frame.DataFrame'>\n",
      "RangeIndex: 150318 entries, 0 to 150317\n",
      "Data columns (total 15 columns):\n",
      " #   Column             Non-Null Count   Dtype  \n",
      "---  ------             --------------   -----  \n",
      " 0   Index              150318 non-null  int64  \n",
      " 1   RawText            150318 non-null  object \n",
      " 2   Source             150318 non-null  object \n",
      " 3   Domain             150318 non-null  object \n",
      " 4   MainCategory       150318 non-null  object \n",
      " 5   ProductName        150316 non-null  object \n",
      " 6   ReviewScore        150318 non-null  int64  \n",
      " 7   Syllable           150318 non-null  int64  \n",
      " 8   Word               150318 non-null  int64  \n",
      " 9   RDate              150318 non-null  int64  \n",
      " 10  GeneralPolarity    148644 non-null  float64\n",
      " 11  Aspect             150318 non-null  object \n",
      " 12  SentimentText      150318 non-null  object \n",
      " 13  SentimentWord      150318 non-null  int64  \n",
      " 14  SentimentPolarity  150318 non-null  int64  \n",
      "dtypes: float64(1), int64(7), object(7)\n",
      "memory usage: 17.2+ MB\n"
     ]
    }
   ],
   "source": [
    "df_cosmetics.info()"
   ]
  },
  {
   "cell_type": "code",
   "execution_count": 4,
   "metadata": {},
   "outputs": [
    {
     "data": {
      "text/plain": [
       "44"
      ]
     },
     "execution_count": 4,
     "metadata": {},
     "output_type": "execute_result"
    }
   ],
   "source": [
    "df_cosmetics['Aspect'].nunique()"
   ]
  },
  {
   "cell_type": "code",
   "execution_count": 5,
   "metadata": {},
   "outputs": [
    {
     "data": {
      "text/plain": [
       "array(['기능/효과', '보습력/수분감/쿨링감', '용기', '용량/개수', '발림성', '지속력/유지력', '흡수력',\n",
       "       '향', '편의성/활용성', '발색력', '가격', '제품구성', '자극성', '윤기/피부(톤)', '디자인',\n",
       "       '품질', '유통기한', '밀착력/접착력', '색상', '제형', '사이즈/두께', '용량', '보습력/수분감',\n",
       "       '사용감', '피부타입', '성분', '지속력', '탄력', '커버력', '머릿결관리', '염색력', '이염',\n",
       "       '용량/사이즈', '향/냄새', '스타일링효과', '클렌징/제거력', '세팅력/고정력', '청량감/쿨링감',\n",
       "       '두피보호', '탈모개선', '세정력', '거품력', '분사력', '그립감'], dtype=object)"
      ]
     },
     "execution_count": 5,
     "metadata": {},
     "output_type": "execute_result"
    }
   ],
   "source": [
    "df_cosmetics['Aspect'].unique()"
   ]
  },
  {
   "cell_type": "code",
   "execution_count": 6,
   "metadata": {},
   "outputs": [
    {
     "data": {
      "text/plain": [
       "기능/효과          16934\n",
       "가격             13196\n",
       "보습력/수분감        11269\n",
       "향              10377\n",
       "편의성/활용성         9422\n",
       "흡수력             8848\n",
       "발림성             6656\n",
       "향/냄새            5947\n",
       "지속력/유지력         5453\n",
       "제품구성            5310\n",
       "윤기/피부(톤)        4927\n",
       "자극성             4719\n",
       "보습력/수분감/쿨링감     4222\n",
       "색상              3421\n",
       "제형              3341\n",
       "머릿결관리           3089\n",
       "발색력             2833\n",
       "용기              2443\n",
       "염색력             2363\n",
       "용량              2287\n",
       "커버력             1985\n",
       "품질              1943\n",
       "피부타입            1803\n",
       "밀착력/접착력         1677\n",
       "유통기한            1651\n",
       "용량/사이즈          1564\n",
       "사용감             1115\n",
       "성분              1052\n",
       "청량감/쿨링감         1049\n",
       "탈모개선            1010\n",
       "스타일링효과           976\n",
       "용량/개수            959\n",
       "세정력              909\n",
       "세팅력/고정력          904\n",
       "지속력              895\n",
       "탄력               870\n",
       "사이즈/두께           720\n",
       "거품력              687\n",
       "디자인              485\n",
       "이염               347\n",
       "클렌징/제거력          304\n",
       "두피보호             249\n",
       "분사력              100\n",
       "그립감                7\n",
       "Name: Aspect, dtype: int64"
      ]
     },
     "execution_count": 6,
     "metadata": {},
     "output_type": "execute_result"
    }
   ],
   "source": [
    "df_cosmetics['Aspect'].value_counts()"
   ]
  },
  {
   "cell_type": "markdown",
   "metadata": {},
   "source": [
    "### garments"
   ]
  },
  {
   "cell_type": "code",
   "execution_count": 5,
   "metadata": {},
   "outputs": [
    {
     "data": {
      "text/html": [
       "<div>\n",
       "<style scoped>\n",
       "    .dataframe tbody tr th:only-of-type {\n",
       "        vertical-align: middle;\n",
       "    }\n",
       "\n",
       "    .dataframe tbody tr th {\n",
       "        vertical-align: top;\n",
       "    }\n",
       "\n",
       "    .dataframe thead th {\n",
       "        text-align: right;\n",
       "    }\n",
       "</style>\n",
       "<table border=\"1\" class=\"dataframe\">\n",
       "  <thead>\n",
       "    <tr style=\"text-align: right;\">\n",
       "      <th></th>\n",
       "      <th>Index</th>\n",
       "      <th>RawText</th>\n",
       "      <th>Source</th>\n",
       "      <th>Domain</th>\n",
       "      <th>MainCategory</th>\n",
       "      <th>ProductName</th>\n",
       "      <th>ReviewScore</th>\n",
       "      <th>Syllable</th>\n",
       "      <th>Word</th>\n",
       "      <th>RDate</th>\n",
       "      <th>GeneralPolarity</th>\n",
       "      <th>Aspect</th>\n",
       "      <th>SentimentText</th>\n",
       "      <th>SentimentWord</th>\n",
       "      <th>SentimentPolarity</th>\n",
       "    </tr>\n",
       "  </thead>\n",
       "  <tbody>\n",
       "    <tr>\n",
       "      <th>0</th>\n",
       "      <td>128481</td>\n",
       "      <td>아들에게 선물했는데 불편하고 활동하기 안좋다고 잘 안입고 다니네요</td>\n",
       "      <td>쇼핑몰</td>\n",
       "      <td>패션</td>\n",
       "      <td>남성의류</td>\n",
       "      <td>OO 남성 매** 데님 3종</td>\n",
       "      <td>100</td>\n",
       "      <td>37</td>\n",
       "      <td>8</td>\n",
       "      <td>20180626</td>\n",
       "      <td>-1.0</td>\n",
       "      <td>착용감</td>\n",
       "      <td>불편하고</td>\n",
       "      <td>1</td>\n",
       "      <td>-1</td>\n",
       "    </tr>\n",
       "    <tr>\n",
       "      <th>1</th>\n",
       "      <td>128481</td>\n",
       "      <td>아들에게 선물했는데 불편하고 활동하기 안좋다고 잘 안입고 다니네요</td>\n",
       "      <td>쇼핑몰</td>\n",
       "      <td>패션</td>\n",
       "      <td>남성의류</td>\n",
       "      <td>OO 남성 매** 데님 3종</td>\n",
       "      <td>100</td>\n",
       "      <td>37</td>\n",
       "      <td>8</td>\n",
       "      <td>20180626</td>\n",
       "      <td>-1.0</td>\n",
       "      <td>착용감</td>\n",
       "      <td>활동하기 안좋다고 잘 안입고 다니네요</td>\n",
       "      <td>5</td>\n",
       "      <td>-1</td>\n",
       "    </tr>\n",
       "    <tr>\n",
       "      <th>2</th>\n",
       "      <td>128483</td>\n",
       "      <td>울아들이입어보고너무불편하다고상품이별로래요. 불편해서자주입을것같지는 않데요.</td>\n",
       "      <td>쇼핑몰</td>\n",
       "      <td>패션</td>\n",
       "      <td>남성의류</td>\n",
       "      <td>OO 남성 매** 데님 3종</td>\n",
       "      <td>100</td>\n",
       "      <td>41</td>\n",
       "      <td>3</td>\n",
       "      <td>20180321</td>\n",
       "      <td>-1.0</td>\n",
       "      <td>착용감</td>\n",
       "      <td>너무불편하다고상품이별로래요.</td>\n",
       "      <td>1</td>\n",
       "      <td>-1</td>\n",
       "    </tr>\n",
       "    <tr>\n",
       "      <th>3</th>\n",
       "      <td>128483</td>\n",
       "      <td>울아들이입어보고너무불편하다고상품이별로래요. 불편해서자주입을것같지는 않데요.</td>\n",
       "      <td>쇼핑몰</td>\n",
       "      <td>패션</td>\n",
       "      <td>남성의류</td>\n",
       "      <td>OO 남성 매** 데님 3종</td>\n",
       "      <td>100</td>\n",
       "      <td>41</td>\n",
       "      <td>3</td>\n",
       "      <td>20180321</td>\n",
       "      <td>-1.0</td>\n",
       "      <td>착용감</td>\n",
       "      <td>불편해서자주입을것같지는 않데요.</td>\n",
       "      <td>2</td>\n",
       "      <td>-1</td>\n",
       "    </tr>\n",
       "    <tr>\n",
       "      <th>4</th>\n",
       "      <td>128484</td>\n",
       "      <td>이번에구매한데님은사이즈가잘맞네요 색상구성도괜찮고맘에든답니다 잘입겠습니다</td>\n",
       "      <td>쇼핑몰</td>\n",
       "      <td>패션</td>\n",
       "      <td>남성의류</td>\n",
       "      <td>OO 남성 매** 데님 3종</td>\n",
       "      <td>100</td>\n",
       "      <td>39</td>\n",
       "      <td>3</td>\n",
       "      <td>20180315</td>\n",
       "      <td>1.0</td>\n",
       "      <td>사이즈</td>\n",
       "      <td>사이즈가잘맞네요</td>\n",
       "      <td>1</td>\n",
       "      <td>1</td>\n",
       "    </tr>\n",
       "    <tr>\n",
       "      <th>5</th>\n",
       "      <td>128484</td>\n",
       "      <td>이번에구매한데님은사이즈가잘맞네요 색상구성도괜찮고맘에든답니다 잘입겠습니다</td>\n",
       "      <td>쇼핑몰</td>\n",
       "      <td>패션</td>\n",
       "      <td>남성의류</td>\n",
       "      <td>OO 남성 매** 데님 3종</td>\n",
       "      <td>100</td>\n",
       "      <td>39</td>\n",
       "      <td>3</td>\n",
       "      <td>20180315</td>\n",
       "      <td>1.0</td>\n",
       "      <td>색상</td>\n",
       "      <td>색상구성도괜찮고맘에든답니다</td>\n",
       "      <td>1</td>\n",
       "      <td>1</td>\n",
       "    </tr>\n",
       "    <tr>\n",
       "      <th>6</th>\n",
       "      <td>128488</td>\n",
       "      <td>대학생아들 사줬는데 핏이 너무 예쁘고 정말편하다고 하네요 색상도 굿 입니다</td>\n",
       "      <td>쇼핑몰</td>\n",
       "      <td>패션</td>\n",
       "      <td>남성의류</td>\n",
       "      <td>OO 남성 매** 데님 3종</td>\n",
       "      <td>100</td>\n",
       "      <td>42</td>\n",
       "      <td>10</td>\n",
       "      <td>20180326</td>\n",
       "      <td>1.0</td>\n",
       "      <td>핏</td>\n",
       "      <td>핏이 너무 예쁘고</td>\n",
       "      <td>3</td>\n",
       "      <td>1</td>\n",
       "    </tr>\n",
       "    <tr>\n",
       "      <th>7</th>\n",
       "      <td>128488</td>\n",
       "      <td>대학생아들 사줬는데 핏이 너무 예쁘고 정말편하다고 하네요 색상도 굿 입니다</td>\n",
       "      <td>쇼핑몰</td>\n",
       "      <td>패션</td>\n",
       "      <td>남성의류</td>\n",
       "      <td>OO 남성 매** 데님 3종</td>\n",
       "      <td>100</td>\n",
       "      <td>42</td>\n",
       "      <td>10</td>\n",
       "      <td>20180326</td>\n",
       "      <td>1.0</td>\n",
       "      <td>착용감</td>\n",
       "      <td>정말편하다고 하네요</td>\n",
       "      <td>2</td>\n",
       "      <td>1</td>\n",
       "    </tr>\n",
       "    <tr>\n",
       "      <th>8</th>\n",
       "      <td>128488</td>\n",
       "      <td>대학생아들 사줬는데 핏이 너무 예쁘고 정말편하다고 하네요 색상도 굿 입니다</td>\n",
       "      <td>쇼핑몰</td>\n",
       "      <td>패션</td>\n",
       "      <td>남성의류</td>\n",
       "      <td>OO 남성 매** 데님 3종</td>\n",
       "      <td>100</td>\n",
       "      <td>42</td>\n",
       "      <td>10</td>\n",
       "      <td>20180326</td>\n",
       "      <td>1.0</td>\n",
       "      <td>색상</td>\n",
       "      <td>색상도 굿 입니다</td>\n",
       "      <td>3</td>\n",
       "      <td>1</td>\n",
       "    </tr>\n",
       "    <tr>\n",
       "      <th>9</th>\n",
       "      <td>128493</td>\n",
       "      <td>36사이즈. 180에 100키로 남편한테 날씬해 보이고 색상도 예뻐요. 몸에 착 감...</td>\n",
       "      <td>쇼핑몰</td>\n",
       "      <td>패션</td>\n",
       "      <td>남성의류</td>\n",
       "      <td>OO 남성 매** 데님 3종</td>\n",
       "      <td>100</td>\n",
       "      <td>101</td>\n",
       "      <td>23</td>\n",
       "      <td>20180317</td>\n",
       "      <td>1.0</td>\n",
       "      <td>핏</td>\n",
       "      <td>36사이즈.180에 100키로 남편한테 날씬해 보이고</td>\n",
       "      <td>5</td>\n",
       "      <td>1</td>\n",
       "    </tr>\n",
       "  </tbody>\n",
       "</table>\n",
       "</div>"
      ],
      "text/plain": [
       "    Index                                            RawText Source Domain  \\\n",
       "0  128481              아들에게 선물했는데 불편하고 활동하기 안좋다고 잘 안입고 다니네요     쇼핑몰     패션   \n",
       "1  128481              아들에게 선물했는데 불편하고 활동하기 안좋다고 잘 안입고 다니네요     쇼핑몰     패션   \n",
       "2  128483          울아들이입어보고너무불편하다고상품이별로래요. 불편해서자주입을것같지는 않데요.    쇼핑몰     패션   \n",
       "3  128483          울아들이입어보고너무불편하다고상품이별로래요. 불편해서자주입을것같지는 않데요.    쇼핑몰     패션   \n",
       "4  128484            이번에구매한데님은사이즈가잘맞네요 색상구성도괜찮고맘에든답니다 잘입겠습니다    쇼핑몰     패션   \n",
       "5  128484            이번에구매한데님은사이즈가잘맞네요 색상구성도괜찮고맘에든답니다 잘입겠습니다    쇼핑몰     패션   \n",
       "6  128488         대학생아들 사줬는데 핏이 너무 예쁘고 정말편하다고 하네요 색상도 굿 입니다     쇼핑몰     패션   \n",
       "7  128488         대학생아들 사줬는데 핏이 너무 예쁘고 정말편하다고 하네요 색상도 굿 입니다     쇼핑몰     패션   \n",
       "8  128488         대학생아들 사줬는데 핏이 너무 예쁘고 정말편하다고 하네요 색상도 굿 입니다     쇼핑몰     패션   \n",
       "9  128493  36사이즈. 180에 100키로 남편한테 날씬해 보이고 색상도 예뻐요. 몸에 착 감...    쇼핑몰     패션   \n",
       "\n",
       "  MainCategory      ProductName  ReviewScore  Syllable  Word     RDate  \\\n",
       "0         남성의류  OO 남성 매** 데님 3종          100        37     8  20180626   \n",
       "1         남성의류  OO 남성 매** 데님 3종          100        37     8  20180626   \n",
       "2         남성의류  OO 남성 매** 데님 3종          100        41     3  20180321   \n",
       "3         남성의류  OO 남성 매** 데님 3종          100        41     3  20180321   \n",
       "4         남성의류  OO 남성 매** 데님 3종          100        39     3  20180315   \n",
       "5         남성의류  OO 남성 매** 데님 3종          100        39     3  20180315   \n",
       "6         남성의류  OO 남성 매** 데님 3종          100        42    10  20180326   \n",
       "7         남성의류  OO 남성 매** 데님 3종          100        42    10  20180326   \n",
       "8         남성의류  OO 남성 매** 데님 3종          100        42    10  20180326   \n",
       "9         남성의류  OO 남성 매** 데님 3종          100       101    23  20180317   \n",
       "\n",
       "   GeneralPolarity Aspect                  SentimentText  SentimentWord  \\\n",
       "0             -1.0    착용감                           불편하고              1   \n",
       "1             -1.0    착용감           활동하기 안좋다고 잘 안입고 다니네요              5   \n",
       "2             -1.0    착용감                너무불편하다고상품이별로래요.              1   \n",
       "3             -1.0    착용감              불편해서자주입을것같지는 않데요.              2   \n",
       "4              1.0    사이즈                       사이즈가잘맞네요              1   \n",
       "5              1.0     색상                 색상구성도괜찮고맘에든답니다              1   \n",
       "6              1.0      핏                      핏이 너무 예쁘고              3   \n",
       "7              1.0    착용감                     정말편하다고 하네요              2   \n",
       "8              1.0     색상                      색상도 굿 입니다              3   \n",
       "9              1.0      핏  36사이즈.180에 100키로 남편한테 날씬해 보이고              5   \n",
       "\n",
       "   SentimentPolarity  \n",
       "0                 -1  \n",
       "1                 -1  \n",
       "2                 -1  \n",
       "3                 -1  \n",
       "4                  1  \n",
       "5                  1  \n",
       "6                  1  \n",
       "7                  1  \n",
       "8                  1  \n",
       "9                  1  "
      ]
     },
     "execution_count": 5,
     "metadata": {},
     "output_type": "execute_result"
    }
   ],
   "source": [
    "df_garments = pd.read_csv(path+\"garments.csv\", sep = ',', encoding = 'utf-8', header = 0)\n",
    "df_garments.head(10)"
   ]
  },
  {
   "cell_type": "code",
   "execution_count": 8,
   "metadata": {},
   "outputs": [
    {
     "name": "stdout",
     "output_type": "stream",
     "text": [
      "<class 'pandas.core.frame.DataFrame'>\n",
      "RangeIndex: 152143 entries, 0 to 152142\n",
      "Data columns (total 15 columns):\n",
      " #   Column             Non-Null Count   Dtype  \n",
      "---  ------             --------------   -----  \n",
      " 0   Index              152143 non-null  int64  \n",
      " 1   RawText            152143 non-null  object \n",
      " 2   Source             152143 non-null  object \n",
      " 3   Domain             152143 non-null  object \n",
      " 4   MainCategory       152143 non-null  object \n",
      " 5   ProductName        152125 non-null  object \n",
      " 6   ReviewScore        152143 non-null  int64  \n",
      " 7   Syllable           152143 non-null  int64  \n",
      " 8   Word               152143 non-null  int64  \n",
      " 9   RDate              152143 non-null  int64  \n",
      " 10  GeneralPolarity    149774 non-null  float64\n",
      " 11  Aspect             152143 non-null  object \n",
      " 12  SentimentText      152143 non-null  object \n",
      " 13  SentimentWord      152143 non-null  int64  \n",
      " 14  SentimentPolarity  152143 non-null  int64  \n",
      "dtypes: float64(1), int64(7), object(7)\n",
      "memory usage: 17.4+ MB\n"
     ]
    }
   ],
   "source": [
    "df_garments.info()"
   ]
  },
  {
   "cell_type": "code",
   "execution_count": 9,
   "metadata": {},
   "outputs": [
    {
     "data": {
      "text/plain": [
       "27"
      ]
     },
     "execution_count": 9,
     "metadata": {},
     "output_type": "execute_result"
    }
   ],
   "source": [
    "df_garments['Aspect'].nunique()"
   ]
  },
  {
   "cell_type": "code",
   "execution_count": 10,
   "metadata": {},
   "outputs": [
    {
     "data": {
      "text/plain": [
       "array(['착용감', '사이즈', '색상', '핏', '신축성', '마감', '가격', '디자인', '품질', '제품구성',\n",
       "       '두께', '기능', '무게', '길이', '소재', '활용성', '촉감', '냄새', '사용성/편의성', '내구성',\n",
       "       '기능성', '사이즈/폭/길이/두께', '수납', '치수/사이즈', '착화감', '사용성', '굽'],\n",
       "      dtype=object)"
      ]
     },
     "execution_count": 10,
     "metadata": {},
     "output_type": "execute_result"
    }
   ],
   "source": [
    "df_garments['Aspect'].unique()"
   ]
  },
  {
   "cell_type": "code",
   "execution_count": 11,
   "metadata": {},
   "outputs": [
    {
     "data": {
      "text/plain": [
       "디자인            16353\n",
       "사이즈            14163\n",
       "가격             13616\n",
       "품질             11799\n",
       "착화감            10667\n",
       "기능             10492\n",
       "소재             10312\n",
       "색상              8965\n",
       "착용감             8154\n",
       "치수/사이즈          5985\n",
       "무게              5664\n",
       "핏               5621\n",
       "길이              4305\n",
       "신축성             4228\n",
       "두께              3924\n",
       "활용성             3368\n",
       "촉감              2499\n",
       "제품구성            1811\n",
       "기능성             1810\n",
       "사이즈/폭/길이/두께     1712\n",
       "사용성             1545\n",
       "마감              1517\n",
       "사용성/편의성         1154\n",
       "내구성             1016\n",
       "굽                674\n",
       "냄새               524\n",
       "수납               265\n",
       "Name: Aspect, dtype: int64"
      ]
     },
     "execution_count": 11,
     "metadata": {},
     "output_type": "execute_result"
    }
   ],
   "source": [
    "df_garments['Aspect'].value_counts()"
   ]
  },
  {
   "cell_type": "markdown",
   "metadata": {},
   "source": [
    "### home_appliances"
   ]
  },
  {
   "cell_type": "code",
   "execution_count": 12,
   "metadata": {},
   "outputs": [
    {
     "data": {
      "text/html": [
       "<div>\n",
       "<style scoped>\n",
       "    .dataframe tbody tr th:only-of-type {\n",
       "        vertical-align: middle;\n",
       "    }\n",
       "\n",
       "    .dataframe tbody tr th {\n",
       "        vertical-align: top;\n",
       "    }\n",
       "\n",
       "    .dataframe thead th {\n",
       "        text-align: right;\n",
       "    }\n",
       "</style>\n",
       "<table border=\"1\" class=\"dataframe\">\n",
       "  <thead>\n",
       "    <tr style=\"text-align: right;\">\n",
       "      <th></th>\n",
       "      <th>Index</th>\n",
       "      <th>RawText</th>\n",
       "      <th>Source</th>\n",
       "      <th>Domain</th>\n",
       "      <th>MainCategory</th>\n",
       "      <th>ProductName</th>\n",
       "      <th>ReviewScore</th>\n",
       "      <th>Syllable</th>\n",
       "      <th>Word</th>\n",
       "      <th>RDate</th>\n",
       "      <th>GeneralPolarity</th>\n",
       "      <th>Aspect</th>\n",
       "      <th>SentimentText</th>\n",
       "      <th>SentimentWord</th>\n",
       "      <th>SentimentPolarity</th>\n",
       "    </tr>\n",
       "  </thead>\n",
       "  <tbody>\n",
       "    <tr>\n",
       "      <th>0</th>\n",
       "      <td>5215</td>\n",
       "      <td>일주일째 쓰고 있는데 진동은 강한데 이물질은 잘 빠지지 않아서 그닥. 칫솔모도 너무...</td>\n",
       "      <td>SNS</td>\n",
       "      <td>가전</td>\n",
       "      <td>생활/미용/욕실가전</td>\n",
       "      <td>(방송중2만원할인) 필립스 프로텍티브 클린 1.0 더블핸들 (HX6456/03)</td>\n",
       "      <td>70</td>\n",
       "      <td>61</td>\n",
       "      <td>15</td>\n",
       "      <td>20200514</td>\n",
       "      <td>0.0</td>\n",
       "      <td>기능</td>\n",
       "      <td>진동은 강한데 이물질은 잘 빠지지 않아서 그닥</td>\n",
       "      <td>7</td>\n",
       "      <td>0</td>\n",
       "    </tr>\n",
       "    <tr>\n",
       "      <th>1</th>\n",
       "      <td>5215</td>\n",
       "      <td>일주일째 쓰고 있는데 진동은 강한데 이물질은 잘 빠지지 않아서 그닥. 칫솔모도 너무...</td>\n",
       "      <td>SNS</td>\n",
       "      <td>가전</td>\n",
       "      <td>생활/미용/욕실가전</td>\n",
       "      <td>(방송중2만원할인) 필립스 프로텍티브 클린 1.0 더블핸들 (HX6456/03)</td>\n",
       "      <td>70</td>\n",
       "      <td>61</td>\n",
       "      <td>15</td>\n",
       "      <td>20200514</td>\n",
       "      <td>0.0</td>\n",
       "      <td>사이즈</td>\n",
       "      <td>칫솔모도 너무 작아서 저한테는 별로예요</td>\n",
       "      <td>5</td>\n",
       "      <td>-1</td>\n",
       "    </tr>\n",
       "    <tr>\n",
       "      <th>2</th>\n",
       "      <td>5216</td>\n",
       "      <td>일주일째 쓰고 있는데 진동은 강합니다. 이물질은 빠지지는 않네요.  칫솔질 하는 것...</td>\n",
       "      <td>SNS</td>\n",
       "      <td>가전</td>\n",
       "      <td>생활/미용/욕실가전</td>\n",
       "      <td>(방송중2만원할인) 필립스 프로텍티브 클린 1.0 더블핸들 (HX6456/03)</td>\n",
       "      <td>70</td>\n",
       "      <td>55</td>\n",
       "      <td>13</td>\n",
       "      <td>20200514</td>\n",
       "      <td>1.0</td>\n",
       "      <td>기능</td>\n",
       "      <td>일주일째 쓰고 있는데 진동은 강합니다.</td>\n",
       "      <td>5</td>\n",
       "      <td>1</td>\n",
       "    </tr>\n",
       "    <tr>\n",
       "      <th>3</th>\n",
       "      <td>5216</td>\n",
       "      <td>일주일째 쓰고 있는데 진동은 강합니다. 이물질은 빠지지는 않네요.  칫솔질 하는 것...</td>\n",
       "      <td>SNS</td>\n",
       "      <td>가전</td>\n",
       "      <td>생활/미용/욕실가전</td>\n",
       "      <td>(방송중2만원할인) 필립스 프로텍티브 클린 1.0 더블핸들 (HX6456/03)</td>\n",
       "      <td>70</td>\n",
       "      <td>55</td>\n",
       "      <td>13</td>\n",
       "      <td>20200514</td>\n",
       "      <td>1.0</td>\n",
       "      <td>조작성</td>\n",
       "      <td>이물질은 빠지지는 않네요.</td>\n",
       "      <td>3</td>\n",
       "      <td>-1</td>\n",
       "    </tr>\n",
       "    <tr>\n",
       "      <th>4</th>\n",
       "      <td>5216</td>\n",
       "      <td>일주일째 쓰고 있는데 진동은 강합니다. 이물질은 빠지지는 않네요.  칫솔질 하는 것...</td>\n",
       "      <td>SNS</td>\n",
       "      <td>가전</td>\n",
       "      <td>생활/미용/욕실가전</td>\n",
       "      <td>(방송중2만원할인) 필립스 프로텍티브 클린 1.0 더블핸들 (HX6456/03)</td>\n",
       "      <td>70</td>\n",
       "      <td>55</td>\n",
       "      <td>13</td>\n",
       "      <td>20200514</td>\n",
       "      <td>1.0</td>\n",
       "      <td>편의성</td>\n",
       "      <td>칫솔질 하는 것보단 편하김 해요</td>\n",
       "      <td>5</td>\n",
       "      <td>1</td>\n",
       "    </tr>\n",
       "  </tbody>\n",
       "</table>\n",
       "</div>"
      ],
      "text/plain": [
       "   Index                                            RawText Source Domain  \\\n",
       "0   5215  일주일째 쓰고 있는데 진동은 강한데 이물질은 잘 빠지지 않아서 그닥. 칫솔모도 너무...    SNS     가전   \n",
       "1   5215  일주일째 쓰고 있는데 진동은 강한데 이물질은 잘 빠지지 않아서 그닥. 칫솔모도 너무...    SNS     가전   \n",
       "2   5216  일주일째 쓰고 있는데 진동은 강합니다. 이물질은 빠지지는 않네요.  칫솔질 하는 것...    SNS     가전   \n",
       "3   5216  일주일째 쓰고 있는데 진동은 강합니다. 이물질은 빠지지는 않네요.  칫솔질 하는 것...    SNS     가전   \n",
       "4   5216  일주일째 쓰고 있는데 진동은 강합니다. 이물질은 빠지지는 않네요.  칫솔질 하는 것...    SNS     가전   \n",
       "\n",
       "  MainCategory                                   ProductName  ReviewScore  \\\n",
       "0   생활/미용/욕실가전  (방송중2만원할인) 필립스 프로텍티브 클린 1.0 더블핸들 (HX6456/03)           70   \n",
       "1   생활/미용/욕실가전  (방송중2만원할인) 필립스 프로텍티브 클린 1.0 더블핸들 (HX6456/03)           70   \n",
       "2   생활/미용/욕실가전  (방송중2만원할인) 필립스 프로텍티브 클린 1.0 더블핸들 (HX6456/03)           70   \n",
       "3   생활/미용/욕실가전  (방송중2만원할인) 필립스 프로텍티브 클린 1.0 더블핸들 (HX6456/03)           70   \n",
       "4   생활/미용/욕실가전  (방송중2만원할인) 필립스 프로텍티브 클린 1.0 더블핸들 (HX6456/03)           70   \n",
       "\n",
       "   Syllable  Word     RDate  GeneralPolarity Aspect  \\\n",
       "0        61    15  20200514              0.0     기능   \n",
       "1        61    15  20200514              0.0    사이즈   \n",
       "2        55    13  20200514              1.0     기능   \n",
       "3        55    13  20200514              1.0    조작성   \n",
       "4        55    13  20200514              1.0    편의성   \n",
       "\n",
       "               SentimentText  SentimentWord  SentimentPolarity  \n",
       "0  진동은 강한데 이물질은 잘 빠지지 않아서 그닥              7                  0  \n",
       "1      칫솔모도 너무 작아서 저한테는 별로예요              5                 -1  \n",
       "2      일주일째 쓰고 있는데 진동은 강합니다.              5                  1  \n",
       "3            이물질은 빠지지는 않네요.               3                 -1  \n",
       "4          칫솔질 하는 것보단 편하김 해요              5                  1  "
      ]
     },
     "execution_count": 12,
     "metadata": {},
     "output_type": "execute_result"
    }
   ],
   "source": [
    "df_home_appliances = pd.read_csv(path+\"home_appliances.csv\", sep = ',', encoding = 'utf-8', header = 0)\n",
    "df_home_appliances.head()"
   ]
  },
  {
   "cell_type": "code",
   "execution_count": 13,
   "metadata": {},
   "outputs": [
    {
     "name": "stdout",
     "output_type": "stream",
     "text": [
      "<class 'pandas.core.frame.DataFrame'>\n",
      "RangeIndex: 111730 entries, 0 to 111729\n",
      "Data columns (total 15 columns):\n",
      " #   Column             Non-Null Count   Dtype  \n",
      "---  ------             --------------   -----  \n",
      " 0   Index              111730 non-null  int64  \n",
      " 1   RawText            111730 non-null  object \n",
      " 2   Source             111730 non-null  object \n",
      " 3   Domain             111730 non-null  object \n",
      " 4   MainCategory       111730 non-null  object \n",
      " 5   ProductName        111730 non-null  object \n",
      " 6   ReviewScore        111730 non-null  int64  \n",
      " 7   Syllable           111730 non-null  int64  \n",
      " 8   Word               111730 non-null  int64  \n",
      " 9   RDate              111730 non-null  int64  \n",
      " 10  GeneralPolarity    90018 non-null   float64\n",
      " 11  Aspect             111730 non-null  object \n",
      " 12  SentimentText      111730 non-null  object \n",
      " 13  SentimentWord      111730 non-null  int64  \n",
      " 14  SentimentPolarity  111730 non-null  int64  \n",
      "dtypes: float64(1), int64(7), object(7)\n",
      "memory usage: 12.8+ MB\n"
     ]
    }
   ],
   "source": [
    "df_home_appliances.info()"
   ]
  },
  {
   "cell_type": "code",
   "execution_count": 14,
   "metadata": {},
   "outputs": [
    {
     "data": {
      "text/plain": [
       "20"
      ]
     },
     "execution_count": 14,
     "metadata": {},
     "output_type": "execute_result"
    }
   ],
   "source": [
    "df_home_appliances['Aspect'].nunique()"
   ]
  },
  {
   "cell_type": "code",
   "execution_count": 15,
   "metadata": {},
   "outputs": [
    {
     "data": {
      "text/plain": [
       "array(['기능', '사이즈', '조작성', '편의성', '품질', '가격', '디자인', '용량', '제품구성', '소음',\n",
       "       '내구성', '무게', '배터리', '제조일/제조사', '시간/속도', '소재', '색상', '소비전력',\n",
       "       '음량/음질', '화질'], dtype=object)"
      ]
     },
     "execution_count": 15,
     "metadata": {},
     "output_type": "execute_result"
    }
   ],
   "source": [
    "df_home_appliances['Aspect'].unique()"
   ]
  },
  {
   "cell_type": "code",
   "execution_count": 16,
   "metadata": {},
   "outputs": [
    {
     "data": {
      "text/plain": [
       "기능         26480\n",
       "가격         12004\n",
       "편의성         9980\n",
       "디자인         9614\n",
       "소음          8799\n",
       "품질          6290\n",
       "조작성         5332\n",
       "사이즈         5305\n",
       "색상          4305\n",
       "음량/음질       3966\n",
       "용량          3360\n",
       "무게          3003\n",
       "제품구성        2832\n",
       "제조일/제조사     2612\n",
       "화질          2047\n",
       "시간/속도       1731\n",
       "소비전력        1199\n",
       "내구성         1143\n",
       "소재          1051\n",
       "배터리          677\n",
       "Name: Aspect, dtype: int64"
      ]
     },
     "execution_count": 16,
     "metadata": {},
     "output_type": "execute_result"
    }
   ],
   "source": [
    "df_home_appliances['Aspect'].value_counts()"
   ]
  },
  {
   "cell_type": "markdown",
   "metadata": {},
   "source": [
    "### tech_devices"
   ]
  },
  {
   "cell_type": "code",
   "execution_count": 17,
   "metadata": {},
   "outputs": [
    {
     "data": {
      "text/html": [
       "<div>\n",
       "<style scoped>\n",
       "    .dataframe tbody tr th:only-of-type {\n",
       "        vertical-align: middle;\n",
       "    }\n",
       "\n",
       "    .dataframe tbody tr th {\n",
       "        vertical-align: top;\n",
       "    }\n",
       "\n",
       "    .dataframe thead th {\n",
       "        text-align: right;\n",
       "    }\n",
       "</style>\n",
       "<table border=\"1\" class=\"dataframe\">\n",
       "  <thead>\n",
       "    <tr style=\"text-align: right;\">\n",
       "      <th></th>\n",
       "      <th>Index</th>\n",
       "      <th>RawText</th>\n",
       "      <th>Source</th>\n",
       "      <th>Domain</th>\n",
       "      <th>MainCategory</th>\n",
       "      <th>ProductName</th>\n",
       "      <th>ReviewScore</th>\n",
       "      <th>Syllable</th>\n",
       "      <th>Word</th>\n",
       "      <th>RDate</th>\n",
       "      <th>GeneralPolarity</th>\n",
       "      <th>Aspect</th>\n",
       "      <th>SentimentText</th>\n",
       "      <th>SentimentWord</th>\n",
       "      <th>SentimentPolarity</th>\n",
       "    </tr>\n",
       "  </thead>\n",
       "  <tbody>\n",
       "    <tr>\n",
       "      <th>0</th>\n",
       "      <td>5215</td>\n",
       "      <td>일주일째 쓰고 있는데 진동은 강한데 이물질은 잘 빠지지 않아서 그닥. 칫솔모도 너무...</td>\n",
       "      <td>SNS</td>\n",
       "      <td>가전</td>\n",
       "      <td>생활/미용/욕실가전</td>\n",
       "      <td>(방송중2만원할인) 필립스 프로텍티브 클린 1.0 더블핸들 (HX6456/03)</td>\n",
       "      <td>70</td>\n",
       "      <td>61</td>\n",
       "      <td>15</td>\n",
       "      <td>20200514</td>\n",
       "      <td>0.0</td>\n",
       "      <td>기능</td>\n",
       "      <td>진동은 강한데 이물질은 잘 빠지지 않아서 그닥</td>\n",
       "      <td>7</td>\n",
       "      <td>0</td>\n",
       "    </tr>\n",
       "    <tr>\n",
       "      <th>1</th>\n",
       "      <td>5215</td>\n",
       "      <td>일주일째 쓰고 있는데 진동은 강한데 이물질은 잘 빠지지 않아서 그닥. 칫솔모도 너무...</td>\n",
       "      <td>SNS</td>\n",
       "      <td>가전</td>\n",
       "      <td>생활/미용/욕실가전</td>\n",
       "      <td>(방송중2만원할인) 필립스 프로텍티브 클린 1.0 더블핸들 (HX6456/03)</td>\n",
       "      <td>70</td>\n",
       "      <td>61</td>\n",
       "      <td>15</td>\n",
       "      <td>20200514</td>\n",
       "      <td>0.0</td>\n",
       "      <td>사이즈</td>\n",
       "      <td>칫솔모도 너무 작아서 저한테는 별로예요</td>\n",
       "      <td>5</td>\n",
       "      <td>-1</td>\n",
       "    </tr>\n",
       "    <tr>\n",
       "      <th>2</th>\n",
       "      <td>5216</td>\n",
       "      <td>일주일째 쓰고 있는데 진동은 강합니다. 이물질은 빠지지는 않네요.  칫솔질 하는 것...</td>\n",
       "      <td>SNS</td>\n",
       "      <td>가전</td>\n",
       "      <td>생활/미용/욕실가전</td>\n",
       "      <td>(방송중2만원할인) 필립스 프로텍티브 클린 1.0 더블핸들 (HX6456/03)</td>\n",
       "      <td>70</td>\n",
       "      <td>55</td>\n",
       "      <td>13</td>\n",
       "      <td>20200514</td>\n",
       "      <td>1.0</td>\n",
       "      <td>기능</td>\n",
       "      <td>일주일째 쓰고 있는데 진동은 강합니다.</td>\n",
       "      <td>5</td>\n",
       "      <td>1</td>\n",
       "    </tr>\n",
       "    <tr>\n",
       "      <th>3</th>\n",
       "      <td>5216</td>\n",
       "      <td>일주일째 쓰고 있는데 진동은 강합니다. 이물질은 빠지지는 않네요.  칫솔질 하는 것...</td>\n",
       "      <td>SNS</td>\n",
       "      <td>가전</td>\n",
       "      <td>생활/미용/욕실가전</td>\n",
       "      <td>(방송중2만원할인) 필립스 프로텍티브 클린 1.0 더블핸들 (HX6456/03)</td>\n",
       "      <td>70</td>\n",
       "      <td>55</td>\n",
       "      <td>13</td>\n",
       "      <td>20200514</td>\n",
       "      <td>1.0</td>\n",
       "      <td>조작성</td>\n",
       "      <td>이물질은 빠지지는 않네요.</td>\n",
       "      <td>3</td>\n",
       "      <td>-1</td>\n",
       "    </tr>\n",
       "    <tr>\n",
       "      <th>4</th>\n",
       "      <td>5216</td>\n",
       "      <td>일주일째 쓰고 있는데 진동은 강합니다. 이물질은 빠지지는 않네요.  칫솔질 하는 것...</td>\n",
       "      <td>SNS</td>\n",
       "      <td>가전</td>\n",
       "      <td>생활/미용/욕실가전</td>\n",
       "      <td>(방송중2만원할인) 필립스 프로텍티브 클린 1.0 더블핸들 (HX6456/03)</td>\n",
       "      <td>70</td>\n",
       "      <td>55</td>\n",
       "      <td>13</td>\n",
       "      <td>20200514</td>\n",
       "      <td>1.0</td>\n",
       "      <td>편의성</td>\n",
       "      <td>칫솔질 하는 것보단 편하김 해요</td>\n",
       "      <td>5</td>\n",
       "      <td>1</td>\n",
       "    </tr>\n",
       "  </tbody>\n",
       "</table>\n",
       "</div>"
      ],
      "text/plain": [
       "   Index                                            RawText Source Domain  \\\n",
       "0   5215  일주일째 쓰고 있는데 진동은 강한데 이물질은 잘 빠지지 않아서 그닥. 칫솔모도 너무...    SNS     가전   \n",
       "1   5215  일주일째 쓰고 있는데 진동은 강한데 이물질은 잘 빠지지 않아서 그닥. 칫솔모도 너무...    SNS     가전   \n",
       "2   5216  일주일째 쓰고 있는데 진동은 강합니다. 이물질은 빠지지는 않네요.  칫솔질 하는 것...    SNS     가전   \n",
       "3   5216  일주일째 쓰고 있는데 진동은 강합니다. 이물질은 빠지지는 않네요.  칫솔질 하는 것...    SNS     가전   \n",
       "4   5216  일주일째 쓰고 있는데 진동은 강합니다. 이물질은 빠지지는 않네요.  칫솔질 하는 것...    SNS     가전   \n",
       "\n",
       "  MainCategory                                   ProductName  ReviewScore  \\\n",
       "0   생활/미용/욕실가전  (방송중2만원할인) 필립스 프로텍티브 클린 1.0 더블핸들 (HX6456/03)           70   \n",
       "1   생활/미용/욕실가전  (방송중2만원할인) 필립스 프로텍티브 클린 1.0 더블핸들 (HX6456/03)           70   \n",
       "2   생활/미용/욕실가전  (방송중2만원할인) 필립스 프로텍티브 클린 1.0 더블핸들 (HX6456/03)           70   \n",
       "3   생활/미용/욕실가전  (방송중2만원할인) 필립스 프로텍티브 클린 1.0 더블핸들 (HX6456/03)           70   \n",
       "4   생활/미용/욕실가전  (방송중2만원할인) 필립스 프로텍티브 클린 1.0 더블핸들 (HX6456/03)           70   \n",
       "\n",
       "   Syllable  Word     RDate  GeneralPolarity Aspect  \\\n",
       "0        61    15  20200514              0.0     기능   \n",
       "1        61    15  20200514              0.0    사이즈   \n",
       "2        55    13  20200514              1.0     기능   \n",
       "3        55    13  20200514              1.0    조작성   \n",
       "4        55    13  20200514              1.0    편의성   \n",
       "\n",
       "               SentimentText  SentimentWord  SentimentPolarity  \n",
       "0  진동은 강한데 이물질은 잘 빠지지 않아서 그닥              7                  0  \n",
       "1      칫솔모도 너무 작아서 저한테는 별로예요              5                 -1  \n",
       "2      일주일째 쓰고 있는데 진동은 강합니다.              5                  1  \n",
       "3            이물질은 빠지지는 않네요.               3                 -1  \n",
       "4          칫솔질 하는 것보단 편하김 해요              5                  1  "
      ]
     },
     "execution_count": 17,
     "metadata": {},
     "output_type": "execute_result"
    }
   ],
   "source": [
    "df_tech_devices = pd.read_csv(path+\"tech_devices.csv\", sep = ',', encoding = 'utf-8', header = 0)\n",
    "df_home_appliances.head()"
   ]
  },
  {
   "cell_type": "code",
   "execution_count": 18,
   "metadata": {},
   "outputs": [
    {
     "name": "stdout",
     "output_type": "stream",
     "text": [
      "<class 'pandas.core.frame.DataFrame'>\n",
      "RangeIndex: 100823 entries, 0 to 100822\n",
      "Data columns (total 15 columns):\n",
      " #   Column             Non-Null Count   Dtype  \n",
      "---  ------             --------------   -----  \n",
      " 0   Index              100823 non-null  int64  \n",
      " 1   RawText            100823 non-null  object \n",
      " 2   Source             100823 non-null  object \n",
      " 3   Domain             100823 non-null  object \n",
      " 4   MainCategory       100823 non-null  object \n",
      " 5   ProductName        100823 non-null  object \n",
      " 6   ReviewScore        100823 non-null  int64  \n",
      " 7   Syllable           100823 non-null  int64  \n",
      " 8   Word               100823 non-null  int64  \n",
      " 9   RDate              100823 non-null  int64  \n",
      " 10  GeneralPolarity    88027 non-null   float64\n",
      " 11  Aspect             100823 non-null  object \n",
      " 12  SentimentText      100823 non-null  object \n",
      " 13  SentimentWord      100823 non-null  int64  \n",
      " 14  SentimentPolarity  100823 non-null  int64  \n",
      "dtypes: float64(1), int64(7), object(7)\n",
      "memory usage: 11.5+ MB\n"
     ]
    }
   ],
   "source": [
    "df_tech_devices.info()"
   ]
  },
  {
   "cell_type": "code",
   "execution_count": 19,
   "metadata": {},
   "outputs": [
    {
     "data": {
      "text/plain": [
       "20"
      ]
     },
     "execution_count": 19,
     "metadata": {},
     "output_type": "execute_result"
    }
   ],
   "source": [
    "df_tech_devices['Aspect'].nunique()"
   ]
  },
  {
   "cell_type": "code",
   "execution_count": 20,
   "metadata": {},
   "outputs": [
    {
     "data": {
      "text/plain": [
       "array(['사이즈', '기능', '가격', '시간/속도', '편의성', '품질', '제품구성', '무게', '용량', '화질',\n",
       "       '색상', '디자인', '배터리', '제조일/제조사', '조작성', '음량/음질', '내구성', '소재', '소음',\n",
       "       '소비전력'], dtype=object)"
      ]
     },
     "execution_count": 20,
     "metadata": {},
     "output_type": "execute_result"
    }
   ],
   "source": [
    "df_tech_devices['Aspect'].unique()"
   ]
  },
  {
   "cell_type": "code",
   "execution_count": 21,
   "metadata": {},
   "outputs": [
    {
     "data": {
      "text/plain": [
       "가격         13919\n",
       "기능         11687\n",
       "편의성         7774\n",
       "사이즈         7205\n",
       "조작성         7019\n",
       "품질          6714\n",
       "음량/음질       6596\n",
       "디자인         6142\n",
       "색상          5495\n",
       "화질          4817\n",
       "제품구성        4621\n",
       "무게          4241\n",
       "제조일/제조사     3594\n",
       "시간/속도       3414\n",
       "배터리         2094\n",
       "소음          1793\n",
       "내구성         1602\n",
       "용량          1156\n",
       "소재           893\n",
       "소비전력          47\n",
       "Name: Aspect, dtype: int64"
      ]
     },
     "execution_count": 21,
     "metadata": {},
     "output_type": "execute_result"
    }
   ],
   "source": [
    "df_tech_devices['Aspect'].value_counts()"
   ]
  },
  {
   "cell_type": "markdown",
   "metadata": {},
   "source": [
    "## Categorizing"
   ]
  },
  {
   "cell_type": "markdown",
   "metadata": {},
   "source": [
    "### cosmetics"
   ]
  },
  {
   "cell_type": "code",
   "execution_count": 22,
   "metadata": {},
   "outputs": [],
   "source": [
    "# categories = {\n",
    "#     \"price\": [\"가격\"],\n",
    "#     \"composition\": [\"제품구성\", \"성분\"],\n",
    "#     \"usability\": [\"거품력\", \"발림성\", \"분사력\", \"사용감\", \"세정력\", \"자극성\", \"제형\", \"클렌징/제거력\"],\n",
    "#     \"packaging\": [\"그립감\", \"디자인\", \"사이즈/두께\", \"색상\", \"용기\", \"용량\", \"용량/개수\", \"용량/사이즈\", \"유통기한\", \"편의성/활용성\"],\n",
    "#     \"quality\": [\"밀착력/접착력\", \"발색력\", \"보습력/수분감\", \"보습력/수분감/쿨링감\", \"이염\", \"품질\", \"향\", \"향/냄새\", \"흡수력\"],\n",
    "#     \"effectiveness\": [\"기능/효과\", \"세팅력/고정력\", \"염색력\", \"지속력\", \"지속력/유지력\", \"청량감/쿨링감\", \"커버력\", \"두피보호\", \"머릿결관리\", \"스타일링효과\", \"윤기/피부(톤)\", \"탄력\", \"탈모개선\", \"피부타입\"]\n",
    "# }\n"
   ]
  },
  {
   "cell_type": "code",
   "execution_count": null,
   "metadata": {},
   "outputs": [],
   "source": []
  },
  {
   "cell_type": "markdown",
   "metadata": {},
   "source": [
    "### garments"
   ]
  },
  {
   "cell_type": "code",
   "execution_count": 23,
   "metadata": {},
   "outputs": [],
   "source": [
    "# categories = {\n",
    "#     \"size\": [\"사이즈\", \"핏\", \"두께\", \"길이\", \"사이즈/폭/길이/두께\", \"치수/사이즈\", \"굽\"],\n",
    "#     \"design\": [\"색상\", \"디자인\"],\n",
    "#     \"quality\": [\"마감\", \"품질\", \"소재\", \"촉감\", \"냄새\", \"내구성\"],\n",
    "#     \"usability\": [\"사용성/편의성\", \"사용성\", \"수납\", \"활용성\", \"제품구성\", \"무게\", \"신축성\", \"기능\", \"기능성\", \"착화감\", \"착용감\"],\n",
    "#     \"price\": [\"가격\"]\n",
    "# }"
   ]
  },
  {
   "cell_type": "code",
   "execution_count": null,
   "metadata": {},
   "outputs": [],
   "source": []
  },
  {
   "cell_type": "markdown",
   "metadata": {},
   "source": [
    "### home_appliances"
   ]
  },
  {
   "cell_type": "code",
   "execution_count": 24,
   "metadata": {},
   "outputs": [],
   "source": [
    "# categories = {\n",
    "#     \"price\": [\"가격\"],\n",
    "#     \"composition\": [\"제품구성\"],\n",
    "#     \"design\": [\"디자인\", \"색상\"],\n",
    "#     \"specification\": [\"무게\", \"배터리\", \"사이즈\", \"소비전력\", \"소재\", \"용량\", \"제조일/제조사\"],\n",
    "#     \"performance\": [\"기능\", \"내구성\", \"소음\", \"시간/속도\", \"음량/음질\", \"품질\", \"화질\"],\n",
    "#     \"usability\": [\"조작성\", \"편의성\"]\n",
    "# }"
   ]
  },
  {
   "cell_type": "code",
   "execution_count": null,
   "metadata": {},
   "outputs": [],
   "source": []
  },
  {
   "cell_type": "markdown",
   "metadata": {},
   "source": [
    "### tech_devices"
   ]
  },
  {
   "cell_type": "code",
   "execution_count": 25,
   "metadata": {},
   "outputs": [],
   "source": [
    "# categories = {}"
   ]
  },
  {
   "cell_type": "code",
   "execution_count": null,
   "metadata": {},
   "outputs": [],
   "source": []
  },
  {
   "cell_type": "markdown",
   "metadata": {},
   "source": [
    "## Top5 Aspect 학습 (SentimentText to Aspect)"
   ]
  },
  {
   "cell_type": "markdown",
   "metadata": {},
   "source": [
    "### 패션 garments"
   ]
  },
  {
   "cell_type": "code",
   "execution_count": 26,
   "metadata": {},
   "outputs": [
    {
     "name": "stdout",
     "output_type": "stream",
     "text": [
      "<class 'pandas.core.frame.DataFrame'>\n",
      "Int64Index: 149756 entries, 0 to 152142\n",
      "Data columns (total 15 columns):\n",
      " #   Column             Non-Null Count   Dtype  \n",
      "---  ------             --------------   -----  \n",
      " 0   Index              149756 non-null  int64  \n",
      " 1   RawText            149756 non-null  object \n",
      " 2   Source             149756 non-null  object \n",
      " 3   Domain             149756 non-null  object \n",
      " 4   MainCategory       149756 non-null  object \n",
      " 5   ProductName        149756 non-null  object \n",
      " 6   ReviewScore        149756 non-null  int64  \n",
      " 7   Syllable           149756 non-null  int64  \n",
      " 8   Word               149756 non-null  int64  \n",
      " 9   RDate              149756 non-null  int64  \n",
      " 10  GeneralPolarity    149756 non-null  float64\n",
      " 11  Aspect             149756 non-null  object \n",
      " 12  SentimentText      149756 non-null  object \n",
      " 13  SentimentWord      149756 non-null  int64  \n",
      " 14  SentimentPolarity  149756 non-null  int64  \n",
      "dtypes: float64(1), int64(7), object(7)\n",
      "memory usage: 18.3+ MB\n"
     ]
    }
   ],
   "source": [
    "df_garments = df_garments.dropna()\n",
    "df_garments.info()"
   ]
  },
  {
   "cell_type": "code",
   "execution_count": 27,
   "metadata": {},
   "outputs": [
    {
     "data": {
      "text/plain": [
       "디자인    16177\n",
       "사이즈    13793\n",
       "가격     13450\n",
       "품질     11627\n",
       "착화감    10602\n",
       "기능     10280\n",
       "Name: Aspect, dtype: int64"
      ]
     },
     "execution_count": 27,
     "metadata": {},
     "output_type": "execute_result"
    }
   ],
   "source": [
    "df_garments['Aspect'].value_counts()[:6]"
   ]
  },
  {
   "cell_type": "code",
   "execution_count": 28,
   "metadata": {},
   "outputs": [
    {
     "data": {
      "text/html": [
       "<div>\n",
       "<style scoped>\n",
       "    .dataframe tbody tr th:only-of-type {\n",
       "        vertical-align: middle;\n",
       "    }\n",
       "\n",
       "    .dataframe tbody tr th {\n",
       "        vertical-align: top;\n",
       "    }\n",
       "\n",
       "    .dataframe thead th {\n",
       "        text-align: right;\n",
       "    }\n",
       "</style>\n",
       "<table border=\"1\" class=\"dataframe\">\n",
       "  <thead>\n",
       "    <tr style=\"text-align: right;\">\n",
       "      <th></th>\n",
       "      <th>Index</th>\n",
       "      <th>RawText</th>\n",
       "      <th>Source</th>\n",
       "      <th>Domain</th>\n",
       "      <th>MainCategory</th>\n",
       "      <th>ProductName</th>\n",
       "      <th>ReviewScore</th>\n",
       "      <th>Syllable</th>\n",
       "      <th>Word</th>\n",
       "      <th>RDate</th>\n",
       "      <th>GeneralPolarity</th>\n",
       "      <th>Aspect</th>\n",
       "      <th>SentimentText</th>\n",
       "      <th>SentimentWord</th>\n",
       "      <th>SentimentPolarity</th>\n",
       "    </tr>\n",
       "  </thead>\n",
       "  <tbody>\n",
       "    <tr>\n",
       "      <th>4</th>\n",
       "      <td>128484</td>\n",
       "      <td>이번에구매한데님은사이즈가잘맞네요 색상구성도괜찮고맘에든답니다 잘입겠습니다</td>\n",
       "      <td>쇼핑몰</td>\n",
       "      <td>패션</td>\n",
       "      <td>남성의류</td>\n",
       "      <td>OO 남성 매** 데님 3종</td>\n",
       "      <td>100</td>\n",
       "      <td>39</td>\n",
       "      <td>3</td>\n",
       "      <td>20180315</td>\n",
       "      <td>1.0</td>\n",
       "      <td>사이즈</td>\n",
       "      <td>사이즈가잘맞네요</td>\n",
       "      <td>1</td>\n",
       "      <td>1</td>\n",
       "    </tr>\n",
       "    <tr>\n",
       "      <th>15</th>\n",
       "      <td>128494</td>\n",
       "      <td>바지는 너무 편하고 좋은데 좀크게나온듯 그리고 허리고리 하나가 안달려서 밑단수선하면...</td>\n",
       "      <td>쇼핑몰</td>\n",
       "      <td>패션</td>\n",
       "      <td>남성의류</td>\n",
       "      <td>OO 남성 매** 데님 3종</td>\n",
       "      <td>60</td>\n",
       "      <td>118</td>\n",
       "      <td>24</td>\n",
       "      <td>20180317</td>\n",
       "      <td>0.0</td>\n",
       "      <td>사이즈</td>\n",
       "      <td>좀크게나온듯</td>\n",
       "      <td>1</td>\n",
       "      <td>-1</td>\n",
       "    </tr>\n",
       "  </tbody>\n",
       "</table>\n",
       "</div>"
      ],
      "text/plain": [
       "     Index                                            RawText Source Domain  \\\n",
       "4   128484            이번에구매한데님은사이즈가잘맞네요 색상구성도괜찮고맘에든답니다 잘입겠습니다    쇼핑몰     패션   \n",
       "15  128494  바지는 너무 편하고 좋은데 좀크게나온듯 그리고 허리고리 하나가 안달려서 밑단수선하면...    쇼핑몰     패션   \n",
       "\n",
       "   MainCategory      ProductName  ReviewScore  Syllable  Word     RDate  \\\n",
       "4          남성의류  OO 남성 매** 데님 3종          100        39     3  20180315   \n",
       "15         남성의류  OO 남성 매** 데님 3종           60       118    24  20180317   \n",
       "\n",
       "    GeneralPolarity Aspect SentimentText  SentimentWord  SentimentPolarity  \n",
       "4               1.0    사이즈      사이즈가잘맞네요              1                  1  \n",
       "15              0.0    사이즈        좀크게나온듯              1                 -1  "
      ]
     },
     "execution_count": 28,
     "metadata": {},
     "output_type": "execute_result"
    }
   ],
   "source": [
    "# 착화감은 신발에만 해당되므로, 제외하고 top5 기준으로 데이터 추출\n",
    "targets = [\"디자인\", \"사이즈\", \"가격\", \"품질\", \"기능\"]\n",
    "target_df = df_garments.loc[df_garments[\"Aspect\"].isin(targets), :]\n",
    "target_df.head(2)"
   ]
  },
  {
   "cell_type": "code",
   "execution_count": 29,
   "metadata": {},
   "outputs": [
    {
     "data": {
      "text/plain": [
       "5"
      ]
     },
     "execution_count": 29,
     "metadata": {},
     "output_type": "execute_result"
    }
   ],
   "source": [
    "label_encoder = LabelEncoder()\n",
    "enc_data = label_encoder.fit_transform(target_df['Aspect'])\n",
    "num_labels = len(set(enc_data))\n",
    "num_labels"
   ]
  },
  {
   "cell_type": "code",
   "execution_count": 30,
   "metadata": {},
   "outputs": [],
   "source": [
    "X, y = target_df.loc[:, \"SentimentText\"].to_list(), enc_data"
   ]
  },
  {
   "cell_type": "code",
   "execution_count": 31,
   "metadata": {},
   "outputs": [],
   "source": [
    "X_train_S, X_test_S, y_train_S, y_test_S = train_test_split(X, y, test_size=0.2, random_state=88)"
   ]
  },
  {
   "cell_type": "code",
   "execution_count": 32,
   "metadata": {},
   "outputs": [
    {
     "data": {
      "text/plain": [
       "(52261, 13066)"
      ]
     },
     "execution_count": 32,
     "metadata": {},
     "output_type": "execute_result"
    }
   ],
   "source": [
    "len(X_train_S), len(X_test_S)"
   ]
  },
  {
   "cell_type": "code",
   "execution_count": 33,
   "metadata": {},
   "outputs": [
    {
     "data": {
      "text/plain": [
       "['디자인은 괜찮아요', '따뜻해요', '베스트 퀄리티가 좋네요', '가격도 좋고 ']"
      ]
     },
     "execution_count": 33,
     "metadata": {},
     "output_type": "execute_result"
    }
   ],
   "source": [
    "X_train_S[:4]"
   ]
  },
  {
   "cell_type": "code",
   "execution_count": 34,
   "metadata": {},
   "outputs": [
    {
     "data": {
      "text/plain": [
       "array([2, 1, 4, 0])"
      ]
     },
     "execution_count": 34,
     "metadata": {},
     "output_type": "execute_result"
    }
   ],
   "source": [
    "y_train_S[:4]"
   ]
  },
  {
   "cell_type": "markdown",
   "metadata": {},
   "source": [
    "#### Tokenization"
   ]
  },
  {
   "cell_type": "code",
   "execution_count": 35,
   "metadata": {},
   "outputs": [],
   "source": [
    "# Tokenization\n",
    "def preprocessing(rawtext,okt,stem=False,remove_stopwords=False,stopwords=[]):\n",
    "    # 1. 한글 및 공백 제외한 문자 모두 제거 \n",
    "    rawtext = re.sub('[^가-힣ㄱ-ㅎㅏ-ㅣ\\\\s]','',rawtext)\n",
    "    rawtext = re.sub(r\"[^가-힣A-Za-z)-9(),!?\\'\\`]\", \" \", rawtext)\n",
    "    # 2. Okt 객체를 활용하여 형태소 단어로 나눔 / 어간 추출 (선택)\n",
    "    word_text = okt.morphs(rawtext,stem=False)\n",
    "\n",
    "    if stem:\n",
    "        word_text = okt.morphs(rawtext,stem=True)\n",
    "        \n",
    "        if remove_stopwords:\n",
    "            # 3. 불용어 제거 (선택)\n",
    "            word_text = [token for token in word_text if not token in stopwords]          \n",
    "        return word_text\n",
    "        \n",
    "    return word_text"
   ]
  },
  {
   "cell_type": "code",
   "execution_count": 36,
   "metadata": {},
   "outputs": [],
   "source": [
    "okt = Okt()\n",
    "stopwords = ['은','는','이','가','하','아','것','들','의','있','되','수','보','주','등','한']\n",
    "# stopwords 근거 찾아보기\n",
    "# stopwords = [‘의’,‘가’,‘이’,‘은’,‘들’,‘는’,‘좀’,‘잘’,‘걍’,‘과’,‘도’,‘를’,‘으로’,‘자’,‘에’,‘와’,‘한’,‘하다’,‘다’, ‘로’]"
   ]
  },
  {
   "cell_type": "code",
   "execution_count": 37,
   "metadata": {},
   "outputs": [
    {
     "data": {
      "text/plain": [
       "[['디자인', '은', '괜찮다'], ['따뜻하다'], ['베스트', '퀄리티', '가', '좋다'], ['가격', '도', '좋다']]"
      ]
     },
     "execution_count": 37,
     "metadata": {},
     "output_type": "execute_result"
    }
   ],
   "source": [
    "# preprocessing에서 가장 정확도가 높았던 Type 2 선택\n",
    "clean_train_review_S = []\n",
    "clean_test_review_S = []\n",
    "\n",
    "for SentimentText in X_train_S:\n",
    "    clean_train_review_S.append(preprocessing(SentimentText,okt,stem=True,remove_stopwords=False,stopwords=stopwords))\n",
    "    \n",
    "for SentimentText in X_test_S:\n",
    "    clean_test_review_S.append(preprocessing(SentimentText,okt,stem=True,remove_stopwords=False,stopwords=stopwords))\n",
    "\n",
    "clean_train_review_S[:4]"
   ]
  },
  {
   "cell_type": "code",
   "execution_count": 38,
   "metadata": {},
   "outputs": [
    {
     "data": {
      "text/html": [
       "<div>\n",
       "<style scoped>\n",
       "    .dataframe tbody tr th:only-of-type {\n",
       "        vertical-align: middle;\n",
       "    }\n",
       "\n",
       "    .dataframe tbody tr th {\n",
       "        vertical-align: top;\n",
       "    }\n",
       "\n",
       "    .dataframe thead th {\n",
       "        text-align: right;\n",
       "    }\n",
       "</style>\n",
       "<table border=\"1\" class=\"dataframe\">\n",
       "  <thead>\n",
       "    <tr style=\"text-align: right;\">\n",
       "      <th></th>\n",
       "      <th>Token Count</th>\n",
       "    </tr>\n",
       "  </thead>\n",
       "  <tbody>\n",
       "    <tr>\n",
       "      <th>count</th>\n",
       "      <td>52261.000000</td>\n",
       "    </tr>\n",
       "    <tr>\n",
       "      <th>mean</th>\n",
       "      <td>5.253459</td>\n",
       "    </tr>\n",
       "    <tr>\n",
       "      <th>std</th>\n",
       "      <td>2.776958</td>\n",
       "    </tr>\n",
       "    <tr>\n",
       "      <th>min</th>\n",
       "      <td>1.000000</td>\n",
       "    </tr>\n",
       "    <tr>\n",
       "      <th>25%</th>\n",
       "      <td>3.000000</td>\n",
       "    </tr>\n",
       "    <tr>\n",
       "      <th>50%</th>\n",
       "      <td>5.000000</td>\n",
       "    </tr>\n",
       "    <tr>\n",
       "      <th>75%</th>\n",
       "      <td>7.000000</td>\n",
       "    </tr>\n",
       "    <tr>\n",
       "      <th>max</th>\n",
       "      <td>26.000000</td>\n",
       "    </tr>\n",
       "  </tbody>\n",
       "</table>\n",
       "</div>"
      ],
      "text/plain": [
       "        Token Count\n",
       "count  52261.000000\n",
       "mean       5.253459\n",
       "std        2.776958\n",
       "min        1.000000\n",
       "25%        3.000000\n",
       "50%        5.000000\n",
       "75%        7.000000\n",
       "max       26.000000"
      ]
     },
     "execution_count": 38,
     "metadata": {},
     "output_type": "execute_result"
    }
   ],
   "source": [
    "# 토큰화 후 문장별 토큰 수 탐색\n",
    "tokens_len_S = [len(tokens) for tokens in clean_train_review_S]\n",
    "df_tokens_len_S = pd.DataFrame(tokens_len_S, columns=['Token Count'])\n",
    "df_tokens_len_S.describe()"
   ]
  },
  {
   "cell_type": "code",
   "execution_count": 39,
   "metadata": {},
   "outputs": [
    {
     "data": {
      "image/png": "[encoded data removed]",
      "text/plain": [
       "<Figure size 640x480 with 1 Axes>"
      ]
     },
     "metadata": {},
     "output_type": "display_data"
    }
   ],
   "source": [
    "import matplotlib.pyplot as plt\n",
    "%matplotlib inline \n",
    "\n",
    "tokens_len_S.sort()\n",
    "plt.plot(tokens_len_S)\n",
    "plt.show()"
   ]
  },
  {
   "cell_type": "code",
   "execution_count": 40,
   "metadata": {},
   "outputs": [
    {
     "data": {
      "text/html": [
       "<div>\n",
       "<style scoped>\n",
       "    .dataframe tbody tr th:only-of-type {\n",
       "        vertical-align: middle;\n",
       "    }\n",
       "\n",
       "    .dataframe tbody tr th {\n",
       "        vertical-align: top;\n",
       "    }\n",
       "\n",
       "    .dataframe thead th {\n",
       "        text-align: right;\n",
       "    }\n",
       "</style>\n",
       "<table border=\"1\" class=\"dataframe\">\n",
       "  <thead>\n",
       "    <tr style=\"text-align: right;\">\n",
       "      <th></th>\n",
       "      <th>Token Count</th>\n",
       "    </tr>\n",
       "  </thead>\n",
       "  <tbody>\n",
       "    <tr>\n",
       "      <th>count</th>\n",
       "      <td>13066.000000</td>\n",
       "    </tr>\n",
       "    <tr>\n",
       "      <th>mean</th>\n",
       "      <td>5.206796</td>\n",
       "    </tr>\n",
       "    <tr>\n",
       "      <th>std</th>\n",
       "      <td>2.762374</td>\n",
       "    </tr>\n",
       "    <tr>\n",
       "      <th>min</th>\n",
       "      <td>1.000000</td>\n",
       "    </tr>\n",
       "    <tr>\n",
       "      <th>25%</th>\n",
       "      <td>3.000000</td>\n",
       "    </tr>\n",
       "    <tr>\n",
       "      <th>50%</th>\n",
       "      <td>5.000000</td>\n",
       "    </tr>\n",
       "    <tr>\n",
       "      <th>75%</th>\n",
       "      <td>7.000000</td>\n",
       "    </tr>\n",
       "    <tr>\n",
       "      <th>max</th>\n",
       "      <td>23.000000</td>\n",
       "    </tr>\n",
       "  </tbody>\n",
       "</table>\n",
       "</div>"
      ],
      "text/plain": [
       "        Token Count\n",
       "count  13066.000000\n",
       "mean       5.206796\n",
       "std        2.762374\n",
       "min        1.000000\n",
       "25%        3.000000\n",
       "50%        5.000000\n",
       "75%        7.000000\n",
       "max       23.000000"
      ]
     },
     "execution_count": 40,
     "metadata": {},
     "output_type": "execute_result"
    }
   ],
   "source": [
    "# 토큰화 후 문장별 토큰 수 탐색\n",
    "tokens_len_S_t = [len(tokens) for tokens in clean_test_review_S]\n",
    "df_tokens_len_S_t = pd.DataFrame(tokens_len_S_t, columns=['Token Count'])\n",
    "df_tokens_len_S_t.describe()"
   ]
  },
  {
   "cell_type": "code",
   "execution_count": 41,
   "metadata": {},
   "outputs": [
    {
     "name": "stdout",
     "output_type": "stream",
     "text": [
      "52261\n"
     ]
    }
   ],
   "source": [
    "max_sequence_length = 26\n",
    "print(sum([int(l<=max_sequence_length) for l in tokens_len_S]))"
   ]
  },
  {
   "cell_type": "code",
   "execution_count": 42,
   "metadata": {},
   "outputs": [],
   "source": [
    "# 토큰 수 컨트롤\n",
    "modified_clean_train_review_S = [tokens[:max_sequence_length] for tokens in clean_train_review_S]\n",
    "modified_clean_test_review_S = [tokens[:max_sequence_length] for tokens in clean_test_review_S]"
   ]
  },
  {
   "cell_type": "code",
   "execution_count": 43,
   "metadata": {},
   "outputs": [
    {
     "name": "stdout",
     "output_type": "stream",
     "text": [
      "[[  6  12  42   0   0   0   0   0   0   0   0   0   0   0   0   0   0   0\n",
      "    0   0   0   0   0   0   0   0]\n",
      " [ 21   0   0   0   0   0   0   0   0   0   0   0   0   0   0   0   0   0\n",
      "    0   0   0   0   0   0   0   0]\n",
      " [530 166   8   3   0   0   0   0   0   0   0   0   0   0   0   0   0   0\n",
      "    0   0   0   0   0   0   0   0]\n",
      " [  2   7   3   0   0   0   0   0   0   0   0   0   0   0   0   0   0   0\n",
      "    0   0   0   0   0   0   0   0]\n",
      " [126 280 143 122  91  22   0   0   0   0   0   0   0   0   0   0   0   0\n",
      "    0   0   0   0   0   0   0   0]]\n"
     ]
    }
   ],
   "source": [
    "# 정수 인코딩 및 시퀀스화, 패딩\n",
    "tokenizer = Tokenizer(num_words=20000)\n",
    "tokenizer.fit_on_texts(modified_clean_train_review_S)\n",
    "\n",
    "X_train_S1 = tokenizer.texts_to_sequences(modified_clean_train_review_S)\n",
    "X_train_S1 = pad_sequences(X_train_S1, maxlen=max_sequence_length, padding='post')\n",
    "\n",
    "X_test_S1 = tokenizer.texts_to_sequences(modified_clean_test_review_S)\n",
    "X_test_S1 = pad_sequences(X_test_S1, maxlen=max_sequence_length, padding ='post') \n",
    "\n",
    "print(X_train_S1[:5])"
   ]
  },
  {
   "cell_type": "markdown",
   "metadata": {},
   "source": [
    "#### Modeling"
   ]
  },
  {
   "cell_type": "code",
   "execution_count": 44,
   "metadata": {},
   "outputs": [
    {
     "name": "stdout",
     "output_type": "stream",
     "text": [
      "Model: \"sequential\"\n",
      "_________________________________________________________________\n",
      " Layer (type)                Output Shape              Param #   \n",
      "=================================================================\n",
      " embedding (Embedding)       (None, 26, 300)           6000000   \n",
      "                                                                 \n",
      " lstm (LSTM)                 (None, 50)                70200     \n",
      "                                                                 \n",
      " dense (Dense)               (None, 5)                 255       \n",
      "                                                                 \n",
      "=================================================================\n",
      "Total params: 6070455 (23.16 MB)\n",
      "Trainable params: 6070455 (23.16 MB)\n",
      "Non-trainable params: 0 (0.00 Byte)\n",
      "_________________________________________________________________\n"
     ]
    }
   ],
   "source": [
    "# 모델 훈련\n",
    "model_S = tf.keras.Sequential([\n",
    "    tf.keras.layers.Embedding(20000,300, input_length=max_sequence_length),\n",
    "    tf.keras.layers.LSTM(units=50),\n",
    "    tf.keras.layers.Dense(5, activation='softmax')\n",
    "])\n",
    "\n",
    "model_S.compile(optimizer='adam', loss='sparse_categorical_crossentropy',\n",
    "                metrics=['accuracy'])\n",
    "model_S.summary()"
   ]
  },
  {
   "cell_type": "code",
   "execution_count": 45,
   "metadata": {},
   "outputs": [
    {
     "name": "stdout",
     "output_type": "stream",
     "text": [
      "Epoch 1/3\n",
      "327/327 [==============================] - 67s 168ms/step - loss: 0.6156 - accuracy: 0.7565 - val_loss: 0.1885 - val_accuracy: 0.9419\n",
      "Epoch 2/3\n",
      "327/327 [==============================] - 49s 148ms/step - loss: 0.1444 - accuracy: 0.9563 - val_loss: 0.1594 - val_accuracy: 0.9500\n",
      "Epoch 3/3\n",
      "327/327 [==============================] - 53s 163ms/step - loss: 0.0964 - accuracy: 0.9711 - val_loss: 0.1640 - val_accuracy: 0.9481\n"
     ]
    }
   ],
   "source": [
    "# 학습\n",
    "history = model_S.fit(X_train_S1, y_train_S, epochs=3, batch_size=128, validation_split=0.2)"
   ]
  },
  {
   "cell_type": "markdown",
   "metadata": {},
   "source": [
    "- 97%가 나왔지만, SentimentText로 validation한 것이므로 높게 나올 수밖에 없음"
   ]
  },
  {
   "cell_type": "markdown",
   "metadata": {},
   "source": [
    "#### Test 1 (SentimentText to TOP5 Aspect)"
   ]
  },
  {
   "cell_type": "code",
   "execution_count": 46,
   "metadata": {},
   "outputs": [
    {
     "name": "stdout",
     "output_type": "stream",
     "text": [
      "409/409 [==============================] - 5s 8ms/step\n"
     ]
    },
    {
     "data": {
      "text/plain": [
       "array([[1.4987215e-04, 2.3204752e-04, 9.9794978e-01, 6.7683513e-04,\n",
       "        9.9141290e-04],\n",
       "       [6.3028573e-03, 1.3054834e-01, 1.6809234e-01, 8.1359163e-02,\n",
       "        6.1369735e-01],\n",
       "       [9.9768400e-01, 5.0526106e-04, 1.2512745e-04, 3.8859576e-05,\n",
       "        1.6467854e-03],\n",
       "       ...,\n",
       "       [5.6691916e-04, 1.4535355e-03, 2.9080845e-03, 3.2490928e-04,\n",
       "        9.9474651e-01],\n",
       "       [8.5071352e-04, 9.9609804e-01, 8.4532617e-04, 6.7758077e-04,\n",
       "        1.5283410e-03],\n",
       "       [7.8724674e-04, 9.9500376e-01, 8.8174135e-04, 1.1037393e-03,\n",
       "        2.2235140e-03]], dtype=float32)"
      ]
     },
     "execution_count": 46,
     "metadata": {},
     "output_type": "execute_result"
    }
   ],
   "source": [
    "# 테스트 데이터 값 예측\n",
    "prediction_S1 = model_S.predict(X_test_S1)\n",
    "prediction_S1"
   ]
  },
  {
   "cell_type": "code",
   "execution_count": 47,
   "metadata": {},
   "outputs": [
    {
     "name": "stdout",
     "output_type": "stream",
     "text": [
      "테스트 정확도: 95.02%\n"
     ]
    }
   ],
   "source": [
    "# 테스트 성능\n",
    "# 1. prediction 배열에서 큰 값의 인덱스를 구함\n",
    "predicted_labels_S1 = np.argmax(prediction_S1, axis=1)\n",
    "\n",
    "# 2. 실제 라벨과 예측된 라벨을 사용하여 정확도 계산\n",
    "accuracy_S1 = accuracy_score(y_test_S, predicted_labels_S1)\n",
    "\n",
    "# 3. 결과 출력\n",
    "print(f\"테스트 정확도: {accuracy_S1 * 100:.2f}%\")"
   ]
  },
  {
   "cell_type": "markdown",
   "metadata": {},
   "source": [
    "#### Test 2 ( RawText to TOP5 Aspect)"
   ]
  },
  {
   "cell_type": "code",
   "execution_count": 48,
   "metadata": {},
   "outputs": [],
   "source": [
    "X_R, y_R = target_df.loc[:, \"RawText\"].to_list(), enc_data\n",
    "X_train_R, X_test_R, y_train_R, y_test_R = train_test_split(X_R, y_R, test_size=0.2, random_state=88)"
   ]
  },
  {
   "cell_type": "code",
   "execution_count": 49,
   "metadata": {},
   "outputs": [
    {
     "data": {
      "text/plain": [
       "(52261, 13066)"
      ]
     },
     "execution_count": 49,
     "metadata": {},
     "output_type": "execute_result"
    }
   ],
   "source": [
    "len(X_train_R), len(X_test_R)"
   ]
  },
  {
   "cell_type": "code",
   "execution_count": 50,
   "metadata": {},
   "outputs": [
    {
     "data": {
      "text/plain": [
       "(['디자인은 괜찮아요 옷도 따뜻하구요 근데 무릎이 너무 나오네요 바지 길이도 짧구요',\n",
       "  '착용감 편안하고 따뜻해요 그래서 2벌 주문했는데~~. 비싸게 사서 오늘 기분 별로예요 ㅇㅇ홈쇼핑에서 똑같은 제품을 39,000에 판매하네요 앱주문시34,200원 같은 제품인데 비싸게 산거 같아서~~..',\n",
       "  '다른 사이즈도 구입하고 싶었는데, 매진되서 살수 없어 아쉽네요. 기대이상으로 품질이 좋습니다. 특히 베스트 퀄리티가 좋네요',\n",
       "  '가격도 좋고 사이즈도 좋아요 하지만 느낌이 두꺼운것 같아요'],\n",
       " array([2, 1, 4, 0]))"
      ]
     },
     "execution_count": 50,
     "metadata": {},
     "output_type": "execute_result"
    }
   ],
   "source": [
    "X_train_R[:4], y_train_R[:4]"
   ]
  },
  {
   "cell_type": "code",
   "execution_count": 51,
   "metadata": {},
   "outputs": [
    {
     "data": {
      "text/plain": [
       "(['색상마다  다르게 디자인된 점이 좋아요  특히 검정색의 카라부분에 덧된 망사 장식이 정장에도 어울리게 엣지있어요',\n",
       "  '바지에 대한 만족감은 있습니다만 한겨울은 입기 그렇고..또 2장은 괜찮은데 바지 한장은 기장이 좀 짧은듯 하네요 초봄에나 입자 싶어 걍 뒀습니다 왜 꼭 한두개 정도는 내꺼 아닌듯한 느낌이 들까요 ㅎㅎ',\n",
       "  '가성비도 좋고 촉감도 좋고 구김도 적습니다',\n",
       "  '기모도 부드럽고 스타일도 예쁩니다. 색상도 튀지않아 남편이 좋아합니다.'],\n",
       " array([2, 1, 0, 2]))"
      ]
     },
     "execution_count": 51,
     "metadata": {},
     "output_type": "execute_result"
    }
   ],
   "source": [
    "X_test_R[:4], y_test_R[:4]"
   ]
  },
  {
   "cell_type": "code",
   "execution_count": 52,
   "metadata": {},
   "outputs": [
    {
     "data": {
      "text/plain": [
       "[['디자인',\n",
       "  '은',\n",
       "  '괜찮다',\n",
       "  '옷',\n",
       "  '도',\n",
       "  '따뜻하다',\n",
       "  '근데',\n",
       "  '무릎',\n",
       "  '이',\n",
       "  '너무',\n",
       "  '나오다',\n",
       "  '바지',\n",
       "  '길이',\n",
       "  '도',\n",
       "  '짧다'],\n",
       " ['착용',\n",
       "  '감',\n",
       "  '편안하다',\n",
       "  '따뜻하다',\n",
       "  '그래서',\n",
       "  '벌',\n",
       "  '주문',\n",
       "  '하다',\n",
       "  '비싸다',\n",
       "  '사서',\n",
       "  '오늘',\n",
       "  '기분',\n",
       "  '별로',\n",
       "  '예요',\n",
       "  '홈쇼핑',\n",
       "  '에서',\n",
       "  '똑같다',\n",
       "  '제품',\n",
       "  '을',\n",
       "  '에',\n",
       "  '판매',\n",
       "  '하다',\n",
       "  '앱',\n",
       "  '주문',\n",
       "  '시원',\n",
       "  '같다',\n",
       "  '제품',\n",
       "  '인데',\n",
       "  '비싸다',\n",
       "  '사다',\n",
       "  '같다'],\n",
       " ['다른',\n",
       "  '사이즈',\n",
       "  '도',\n",
       "  '구입',\n",
       "  '하고',\n",
       "  '싶다',\n",
       "  '매진',\n",
       "  '되다',\n",
       "  '살수',\n",
       "  '없다',\n",
       "  '아쉽다',\n",
       "  '기',\n",
       "  '대',\n",
       "  '이상',\n",
       "  '으로',\n",
       "  '품질',\n",
       "  '이',\n",
       "  '좋다',\n",
       "  '특히',\n",
       "  '베스트',\n",
       "  '퀄리티',\n",
       "  '가',\n",
       "  '좋다'],\n",
       " ['가격', '도', '좋다', '사이즈', '도', '좋다', '하지만', '느낌', '이', '두껍다', '같다']]"
      ]
     },
     "execution_count": 52,
     "metadata": {},
     "output_type": "execute_result"
    }
   ],
   "source": [
    "# preprocessing\n",
    "clean_train_review_R = []\n",
    "clean_test_review_R = []\n",
    "\n",
    "for RawText in X_train_R:\n",
    "    clean_train_review_R.append(preprocessing(RawText,okt,stem=True,remove_stopwords=False,stopwords=stopwords))\n",
    "    \n",
    "for RawText in X_test_R:\n",
    "    clean_test_review_R.append(preprocessing(RawText,okt,stem=True,remove_stopwords=False,stopwords=stopwords))\n",
    "\n",
    "clean_train_review_R[:4]"
   ]
  },
  {
   "cell_type": "code",
   "execution_count": 53,
   "metadata": {},
   "outputs": [
    {
     "data": {
      "text/html": [
       "<div>\n",
       "<style scoped>\n",
       "    .dataframe tbody tr th:only-of-type {\n",
       "        vertical-align: middle;\n",
       "    }\n",
       "\n",
       "    .dataframe tbody tr th {\n",
       "        vertical-align: top;\n",
       "    }\n",
       "\n",
       "    .dataframe thead th {\n",
       "        text-align: right;\n",
       "    }\n",
       "</style>\n",
       "<table border=\"1\" class=\"dataframe\">\n",
       "  <thead>\n",
       "    <tr style=\"text-align: right;\">\n",
       "      <th></th>\n",
       "      <th>Token Count</th>\n",
       "    </tr>\n",
       "  </thead>\n",
       "  <tbody>\n",
       "    <tr>\n",
       "      <th>count</th>\n",
       "      <td>13066.000000</td>\n",
       "    </tr>\n",
       "    <tr>\n",
       "      <th>mean</th>\n",
       "      <td>27.589928</td>\n",
       "    </tr>\n",
       "    <tr>\n",
       "      <th>std</th>\n",
       "      <td>17.346814</td>\n",
       "    </tr>\n",
       "    <tr>\n",
       "      <th>min</th>\n",
       "      <td>3.000000</td>\n",
       "    </tr>\n",
       "    <tr>\n",
       "      <th>25%</th>\n",
       "      <td>16.000000</td>\n",
       "    </tr>\n",
       "    <tr>\n",
       "      <th>50%</th>\n",
       "      <td>23.000000</td>\n",
       "    </tr>\n",
       "    <tr>\n",
       "      <th>75%</th>\n",
       "      <td>34.000000</td>\n",
       "    </tr>\n",
       "    <tr>\n",
       "      <th>max</th>\n",
       "      <td>159.000000</td>\n",
       "    </tr>\n",
       "  </tbody>\n",
       "</table>\n",
       "</div>"
      ],
      "text/plain": [
       "        Token Count\n",
       "count  13066.000000\n",
       "mean      27.589928\n",
       "std       17.346814\n",
       "min        3.000000\n",
       "25%       16.000000\n",
       "50%       23.000000\n",
       "75%       34.000000\n",
       "max      159.000000"
      ]
     },
     "execution_count": 53,
     "metadata": {},
     "output_type": "execute_result"
    }
   ],
   "source": [
    "# 토큰화 후 문장별 토큰 수 탐색\n",
    "tokens_len_R = [len(tokens) for tokens in clean_test_review_R]\n",
    "df_tokens_len_R = pd.DataFrame(tokens_len_R, columns=['Token Count'])\n",
    "df_tokens_len_R.describe()"
   ]
  },
  {
   "cell_type": "code",
   "execution_count": 54,
   "metadata": {},
   "outputs": [
    {
     "name": "stdout",
     "output_type": "stream",
     "text": [
      "7865\n"
     ]
    }
   ],
   "source": [
    "max_sequence_length = 26\n",
    "print(sum([int(l<=max_sequence_length) for l in tokens_len_R]))"
   ]
  },
  {
   "cell_type": "markdown",
   "metadata": {},
   "source": [
    "- 13066개 리뷰데이터 중 7865개(60.19%)만 전체 내용을 반영할 수 있고, 5201개(39.81%) 리뷰는 내용이 잘렸다."
   ]
  },
  {
   "cell_type": "code",
   "execution_count": 55,
   "metadata": {},
   "outputs": [],
   "source": [
    "# 토큰 수 컨트롤\n",
    "modified_clean_train_review_R = [tokens[:max_sequence_length] for tokens in clean_train_review_R]\n",
    "modified_clean_test_review_R = [tokens[:max_sequence_length] for tokens in clean_test_review_R]"
   ]
  },
  {
   "cell_type": "code",
   "execution_count": 56,
   "metadata": {},
   "outputs": [
    {
     "name": "stdout",
     "output_type": "stream",
     "text": [
      "[[  10   11   48   35    4   34  154  449    1   13   59   25   81    4\n",
      "   159    0    0    0    0    0    0    0    0    0    0    0]\n",
      " [  96  100  160   34  432  233   40    2  307  460  371  333  112  234\n",
      "   255   99  768   87   24    5  625    2 2035   40 1060   12]\n",
      " [ 107    9    4   64   68  185 1330   62 1531   51  130  157  216  425\n",
      "    42   32    1    3  339  551  330    6    3    0    0    0]\n",
      " [   8    4    3    9    4    3  206  105    1  151   12    0    0    0\n",
      "     0    0    0    0    0    0    0    0    0    0    0    0]\n",
      " [ 496 1752   20  418    5  896   41   85   98    3   14  154  489  792\n",
      "    17   82    1   17  129  243  210  197  155   17   50    8]]\n"
     ]
    }
   ],
   "source": [
    "# 정수 인코딩 및 시퀀스화, 패딩\n",
    "tokenizer = Tokenizer(num_words=20000)\n",
    "tokenizer.fit_on_texts(modified_clean_train_review_R)\n",
    "\n",
    "X_train_R = tokenizer.texts_to_sequences(modified_clean_train_review_R)\n",
    "X_train_R = pad_sequences(X_train_R, maxlen=max_sequence_length, padding='post')\n",
    "\n",
    "X_test_R = tokenizer.texts_to_sequences(modified_clean_test_review_R)\n",
    "X_test_R = pad_sequences(X_test_R, maxlen=max_sequence_length, padding ='post') \n",
    "\n",
    "print(X_train_R[:5])"
   ]
  },
  {
   "cell_type": "code",
   "execution_count": 57,
   "metadata": {},
   "outputs": [
    {
     "name": "stdout",
     "output_type": "stream",
     "text": [
      "409/409 [==============================] - 4s 10ms/step\n"
     ]
    },
    {
     "data": {
      "text/plain": [
       "array([[0.04495611, 0.27636743, 0.09416293, 0.06468878, 0.51982474],\n",
       "       [0.18389954, 0.27758092, 0.09474029, 0.3051218 , 0.13865751],\n",
       "       [0.00130371, 0.00314531, 0.00420784, 0.9878099 , 0.00353331],\n",
       "       [0.00528722, 0.1819429 , 0.19935095, 0.13238794, 0.481031  ],\n",
       "       [0.26687834, 0.00872561, 0.01301321, 0.00222457, 0.7091583 ]],\n",
       "      dtype=float32)"
      ]
     },
     "execution_count": 57,
     "metadata": {},
     "output_type": "execute_result"
    }
   ],
   "source": [
    "# 테스트 데이터 값 예측\n",
    "prediction_R = model_S.predict(X_test_R)\n",
    "prediction_R[:5]"
   ]
  },
  {
   "cell_type": "code",
   "execution_count": 58,
   "metadata": {},
   "outputs": [
    {
     "name": "stdout",
     "output_type": "stream",
     "text": [
      "테스트 정확도: 25.64%\n"
     ]
    }
   ],
   "source": [
    "# 테스트 성능\n",
    "# 1. prediction 배열에서 큰 값의 인덱스를 구함\n",
    "predicted_labels_R = np.argmax(prediction_R, axis=1)\n",
    "\n",
    "# 2. 실제 라벨과 예측된 라벨을 사용하여 정확도 계산\n",
    "accuracy_R = accuracy_score(y_test_R, predicted_labels_R)\n",
    "\n",
    "# 3. 결과 출력\n",
    "print(f\"테스트 정확도: {accuracy_R * 100:.2f}%\")"
   ]
  },
  {
   "cell_type": "markdown",
   "metadata": {},
   "source": [
    "### Remodeling"
   ]
  },
  {
   "cell_type": "markdown",
   "metadata": {},
   "source": [
    "- 모델의 Input_length를 42개로 조정함"
   ]
  },
  {
   "cell_type": "code",
   "execution_count": 59,
   "metadata": {},
   "outputs": [
    {
     "data": {
      "text/html": [
       "<div>\n",
       "<style scoped>\n",
       "    .dataframe tbody tr th:only-of-type {\n",
       "        vertical-align: middle;\n",
       "    }\n",
       "\n",
       "    .dataframe tbody tr th {\n",
       "        vertical-align: top;\n",
       "    }\n",
       "\n",
       "    .dataframe thead th {\n",
       "        text-align: right;\n",
       "    }\n",
       "</style>\n",
       "<table border=\"1\" class=\"dataframe\">\n",
       "  <thead>\n",
       "    <tr style=\"text-align: right;\">\n",
       "      <th></th>\n",
       "      <th>Index</th>\n",
       "      <th>RawText</th>\n",
       "      <th>Source</th>\n",
       "      <th>Domain</th>\n",
       "      <th>MainCategory</th>\n",
       "      <th>ProductName</th>\n",
       "      <th>ReviewScore</th>\n",
       "      <th>Syllable</th>\n",
       "      <th>Word</th>\n",
       "      <th>RDate</th>\n",
       "      <th>GeneralPolarity</th>\n",
       "      <th>Aspect</th>\n",
       "      <th>SentimentText</th>\n",
       "      <th>SentimentWord</th>\n",
       "      <th>SentimentPolarity</th>\n",
       "    </tr>\n",
       "  </thead>\n",
       "  <tbody>\n",
       "    <tr>\n",
       "      <th>4</th>\n",
       "      <td>128484</td>\n",
       "      <td>이번에구매한데님은사이즈가잘맞네요 색상구성도괜찮고맘에든답니다 잘입겠습니다</td>\n",
       "      <td>쇼핑몰</td>\n",
       "      <td>패션</td>\n",
       "      <td>남성의류</td>\n",
       "      <td>OO 남성 매** 데님 3종</td>\n",
       "      <td>100</td>\n",
       "      <td>39</td>\n",
       "      <td>3</td>\n",
       "      <td>20180315</td>\n",
       "      <td>1.0</td>\n",
       "      <td>사이즈</td>\n",
       "      <td>사이즈가잘맞네요</td>\n",
       "      <td>1</td>\n",
       "      <td>1</td>\n",
       "    </tr>\n",
       "    <tr>\n",
       "      <th>15</th>\n",
       "      <td>128494</td>\n",
       "      <td>바지는 너무 편하고 좋은데 좀크게나온듯 그리고 허리고리 하나가 안달려서 밑단수선하면...</td>\n",
       "      <td>쇼핑몰</td>\n",
       "      <td>패션</td>\n",
       "      <td>남성의류</td>\n",
       "      <td>OO 남성 매** 데님 3종</td>\n",
       "      <td>60</td>\n",
       "      <td>118</td>\n",
       "      <td>24</td>\n",
       "      <td>20180317</td>\n",
       "      <td>0.0</td>\n",
       "      <td>사이즈</td>\n",
       "      <td>좀크게나온듯</td>\n",
       "      <td>1</td>\n",
       "      <td>-1</td>\n",
       "    </tr>\n",
       "    <tr>\n",
       "      <th>19</th>\n",
       "      <td>128496</td>\n",
       "      <td>신랑 바지가 없어서 사줬는데 엄청 입기 편하다고 좋아하네요 똑같은 라인으로 여성용 ...</td>\n",
       "      <td>쇼핑몰</td>\n",
       "      <td>패션</td>\n",
       "      <td>남성의류</td>\n",
       "      <td>OO 남성 매** 데님 3종</td>\n",
       "      <td>100</td>\n",
       "      <td>82</td>\n",
       "      <td>17</td>\n",
       "      <td>20180315</td>\n",
       "      <td>1.0</td>\n",
       "      <td>가격</td>\n",
       "      <td>저렴한가격에</td>\n",
       "      <td>1</td>\n",
       "      <td>1</td>\n",
       "    </tr>\n",
       "    <tr>\n",
       "      <th>22</th>\n",
       "      <td>128497</td>\n",
       "      <td>핏이 너무너무 좋아요 디자인도 색상도 너무 좋아요 가격대비 품질 짱이네요</td>\n",
       "      <td>쇼핑몰</td>\n",
       "      <td>패션</td>\n",
       "      <td>남성의류</td>\n",
       "      <td>OO 남성 매** 데님 3종</td>\n",
       "      <td>100</td>\n",
       "      <td>40</td>\n",
       "      <td>10</td>\n",
       "      <td>20180310</td>\n",
       "      <td>1.0</td>\n",
       "      <td>디자인</td>\n",
       "      <td>디자인도 색상도 너무 좋아요</td>\n",
       "      <td>4</td>\n",
       "      <td>1</td>\n",
       "    </tr>\n",
       "  </tbody>\n",
       "</table>\n",
       "</div>"
      ],
      "text/plain": [
       "     Index                                            RawText Source Domain  \\\n",
       "4   128484            이번에구매한데님은사이즈가잘맞네요 색상구성도괜찮고맘에든답니다 잘입겠습니다    쇼핑몰     패션   \n",
       "15  128494  바지는 너무 편하고 좋은데 좀크게나온듯 그리고 허리고리 하나가 안달려서 밑단수선하면...    쇼핑몰     패션   \n",
       "19  128496  신랑 바지가 없어서 사줬는데 엄청 입기 편하다고 좋아하네요 똑같은 라인으로 여성용 ...    쇼핑몰     패션   \n",
       "22  128497           핏이 너무너무 좋아요 디자인도 색상도 너무 좋아요 가격대비 품질 짱이네요    쇼핑몰     패션   \n",
       "\n",
       "   MainCategory      ProductName  ReviewScore  Syllable  Word     RDate  \\\n",
       "4          남성의류  OO 남성 매** 데님 3종          100        39     3  20180315   \n",
       "15         남성의류  OO 남성 매** 데님 3종           60       118    24  20180317   \n",
       "19         남성의류  OO 남성 매** 데님 3종          100        82    17  20180315   \n",
       "22         남성의류  OO 남성 매** 데님 3종          100        40    10  20180310   \n",
       "\n",
       "    GeneralPolarity Aspect     SentimentText  SentimentWord  SentimentPolarity  \n",
       "4               1.0    사이즈          사이즈가잘맞네요              1                  1  \n",
       "15              0.0    사이즈            좀크게나온듯              1                 -1  \n",
       "19              1.0     가격            저렴한가격에              1                  1  \n",
       "22              1.0    디자인   디자인도 색상도 너무 좋아요              4                  1  "
      ]
     },
     "execution_count": 59,
     "metadata": {},
     "output_type": "execute_result"
    }
   ],
   "source": [
    "target_df[:4]"
   ]
  },
  {
   "cell_type": "code",
   "execution_count": 60,
   "metadata": {},
   "outputs": [],
   "source": [
    "X_S, y_S = target_df.loc[:, \"SentimentText\"].to_list(), enc_data"
   ]
  },
  {
   "cell_type": "code",
   "execution_count": 61,
   "metadata": {},
   "outputs": [],
   "source": [
    "X_train_S, X_test_S, y_train_S, y_test_S = train_test_split(X_S, y_S, test_size=0.2, random_state=88)"
   ]
  },
  {
   "cell_type": "code",
   "execution_count": 62,
   "metadata": {},
   "outputs": [
    {
     "data": {
      "text/plain": [
       "[['디자인', '은', '괜찮다'], ['따뜻하다'], ['베스트', '퀄리티', '가', '좋다'], ['가격', '도', '좋다']]"
      ]
     },
     "execution_count": 62,
     "metadata": {},
     "output_type": "execute_result"
    }
   ],
   "source": [
    "# preprocessing\n",
    "clean_train_review_S2 = []\n",
    "clean_test_review_S2 = []\n",
    "\n",
    "for SentimentText in X_train_S:\n",
    "    clean_train_review_S2.append(preprocessing(SentimentText,okt,stem=True,remove_stopwords=False,stopwords=stopwords))\n",
    "    \n",
    "for SentimentText in X_test_S:\n",
    "    clean_test_review_S2.append(preprocessing(SentimentText,okt,stem=True,remove_stopwords=False,stopwords=stopwords))\n",
    "\n",
    "clean_train_review_S2[:4]"
   ]
  },
  {
   "cell_type": "code",
   "execution_count": 63,
   "metadata": {},
   "outputs": [
    {
     "data": {
      "text/html": [
       "<div>\n",
       "<style scoped>\n",
       "    .dataframe tbody tr th:only-of-type {\n",
       "        vertical-align: middle;\n",
       "    }\n",
       "\n",
       "    .dataframe tbody tr th {\n",
       "        vertical-align: top;\n",
       "    }\n",
       "\n",
       "    .dataframe thead th {\n",
       "        text-align: right;\n",
       "    }\n",
       "</style>\n",
       "<table border=\"1\" class=\"dataframe\">\n",
       "  <thead>\n",
       "    <tr style=\"text-align: right;\">\n",
       "      <th></th>\n",
       "      <th>Token Count</th>\n",
       "    </tr>\n",
       "  </thead>\n",
       "  <tbody>\n",
       "    <tr>\n",
       "      <th>count</th>\n",
       "      <td>52261.000000</td>\n",
       "    </tr>\n",
       "    <tr>\n",
       "      <th>mean</th>\n",
       "      <td>5.253459</td>\n",
       "    </tr>\n",
       "    <tr>\n",
       "      <th>std</th>\n",
       "      <td>2.776958</td>\n",
       "    </tr>\n",
       "    <tr>\n",
       "      <th>min</th>\n",
       "      <td>1.000000</td>\n",
       "    </tr>\n",
       "    <tr>\n",
       "      <th>25%</th>\n",
       "      <td>3.000000</td>\n",
       "    </tr>\n",
       "    <tr>\n",
       "      <th>50%</th>\n",
       "      <td>5.000000</td>\n",
       "    </tr>\n",
       "    <tr>\n",
       "      <th>75%</th>\n",
       "      <td>7.000000</td>\n",
       "    </tr>\n",
       "    <tr>\n",
       "      <th>max</th>\n",
       "      <td>26.000000</td>\n",
       "    </tr>\n",
       "  </tbody>\n",
       "</table>\n",
       "</div>"
      ],
      "text/plain": [
       "        Token Count\n",
       "count  52261.000000\n",
       "mean       5.253459\n",
       "std        2.776958\n",
       "min        1.000000\n",
       "25%        3.000000\n",
       "50%        5.000000\n",
       "75%        7.000000\n",
       "max       26.000000"
      ]
     },
     "execution_count": 63,
     "metadata": {},
     "output_type": "execute_result"
    }
   ],
   "source": [
    "# 토큰화 후 문장별 토큰 수 탐색\n",
    "tokens_len_S2 = [len(tokens) for tokens in clean_train_review_S2]\n",
    "df_tokens_len_S2 = pd.DataFrame(tokens_len_S2, columns=['Token Count'])\n",
    "df_tokens_len_S2.describe()"
   ]
  },
  {
   "cell_type": "code",
   "execution_count": 64,
   "metadata": {},
   "outputs": [
    {
     "data": {
      "text/html": [
       "<div>\n",
       "<style scoped>\n",
       "    .dataframe tbody tr th:only-of-type {\n",
       "        vertical-align: middle;\n",
       "    }\n",
       "\n",
       "    .dataframe tbody tr th {\n",
       "        vertical-align: top;\n",
       "    }\n",
       "\n",
       "    .dataframe thead th {\n",
       "        text-align: right;\n",
       "    }\n",
       "</style>\n",
       "<table border=\"1\" class=\"dataframe\">\n",
       "  <thead>\n",
       "    <tr style=\"text-align: right;\">\n",
       "      <th></th>\n",
       "      <th>Token Count</th>\n",
       "    </tr>\n",
       "  </thead>\n",
       "  <tbody>\n",
       "    <tr>\n",
       "      <th>count</th>\n",
       "      <td>13066.000000</td>\n",
       "    </tr>\n",
       "    <tr>\n",
       "      <th>mean</th>\n",
       "      <td>5.206796</td>\n",
       "    </tr>\n",
       "    <tr>\n",
       "      <th>std</th>\n",
       "      <td>2.762374</td>\n",
       "    </tr>\n",
       "    <tr>\n",
       "      <th>min</th>\n",
       "      <td>1.000000</td>\n",
       "    </tr>\n",
       "    <tr>\n",
       "      <th>25%</th>\n",
       "      <td>3.000000</td>\n",
       "    </tr>\n",
       "    <tr>\n",
       "      <th>50%</th>\n",
       "      <td>5.000000</td>\n",
       "    </tr>\n",
       "    <tr>\n",
       "      <th>75%</th>\n",
       "      <td>7.000000</td>\n",
       "    </tr>\n",
       "    <tr>\n",
       "      <th>max</th>\n",
       "      <td>23.000000</td>\n",
       "    </tr>\n",
       "  </tbody>\n",
       "</table>\n",
       "</div>"
      ],
      "text/plain": [
       "        Token Count\n",
       "count  13066.000000\n",
       "mean       5.206796\n",
       "std        2.762374\n",
       "min        1.000000\n",
       "25%        3.000000\n",
       "50%        5.000000\n",
       "75%        7.000000\n",
       "max       23.000000"
      ]
     },
     "execution_count": 64,
     "metadata": {},
     "output_type": "execute_result"
    }
   ],
   "source": [
    "# 토큰화 후 문장별 토큰 수 탐색\n",
    "tokens_len_S2 = [len(tokens) for tokens in clean_test_review_S2]\n",
    "df_tokens_len_S2 = pd.DataFrame(tokens_len_S2, columns=['Token Count'])\n",
    "df_tokens_len_S2.describe()"
   ]
  },
  {
   "cell_type": "code",
   "execution_count": 65,
   "metadata": {},
   "outputs": [],
   "source": [
    "max_sequence_length = 42\n",
    "\n",
    "# 토큰 수 컨트롤\n",
    "modified_clean_train_review_S2 = [tokens[:max_sequence_length] for tokens in clean_train_review_S2]\n",
    "modified_clean_test_review_S2 = [tokens[:max_sequence_length] for tokens in clean_test_review_S2]"
   ]
  },
  {
   "cell_type": "code",
   "execution_count": 66,
   "metadata": {},
   "outputs": [
    {
     "name": "stdout",
     "output_type": "stream",
     "text": [
      "[[  6  12  42   0   0   0   0   0   0   0   0   0   0   0   0   0   0   0\n",
      "    0   0   0   0   0   0   0   0   0   0   0   0   0   0   0   0   0   0\n",
      "    0   0   0   0   0   0]\n",
      " [ 21   0   0   0   0   0   0   0   0   0   0   0   0   0   0   0   0   0\n",
      "    0   0   0   0   0   0   0   0   0   0   0   0   0   0   0   0   0   0\n",
      "    0   0   0   0   0   0]\n",
      " [530 166   8   3   0   0   0   0   0   0   0   0   0   0   0   0   0   0\n",
      "    0   0   0   0   0   0   0   0   0   0   0   0   0   0   0   0   0   0\n",
      "    0   0   0   0   0   0]\n",
      " [  2   7   3   0   0   0   0   0   0   0   0   0   0   0   0   0   0   0\n",
      "    0   0   0   0   0   0   0   0   0   0   0   0   0   0   0   0   0   0\n",
      "    0   0   0   0   0   0]\n",
      " [126 280 143 122  91  22   0   0   0   0   0   0   0   0   0   0   0   0\n",
      "    0   0   0   0   0   0   0   0   0   0   0   0   0   0   0   0   0   0\n",
      "    0   0   0   0   0   0]]\n"
     ]
    }
   ],
   "source": [
    "# 정수 인코딩 및 시퀀스화, 패딩\n",
    "tokenizer = Tokenizer(num_words=20000)\n",
    "tokenizer.fit_on_texts(modified_clean_train_review_S2)\n",
    "\n",
    "X_train_S2 = tokenizer.texts_to_sequences(modified_clean_train_review_S2)\n",
    "X_train_S2 = pad_sequences(X_train_S2, maxlen=max_sequence_length, padding='post')\n",
    "\n",
    "X_test_S2 = tokenizer.texts_to_sequences(modified_clean_test_review_S2)\n",
    "X_test_S2 = pad_sequences(X_test_S2, maxlen=max_sequence_length, padding ='post') \n",
    "\n",
    "print(X_train_S2[:5])"
   ]
  },
  {
   "cell_type": "code",
   "execution_count": 67,
   "metadata": {},
   "outputs": [
    {
     "name": "stdout",
     "output_type": "stream",
     "text": [
      "Model: \"sequential_1\"\n",
      "_________________________________________________________________\n",
      " Layer (type)                Output Shape              Param #   \n",
      "=================================================================\n",
      " embedding_1 (Embedding)     (None, 42, 300)           6000000   \n",
      "                                                                 \n",
      " lstm_1 (LSTM)               (None, 50)                70200     \n",
      "                                                                 \n",
      " dense_1 (Dense)             (None, 5)                 255       \n",
      "                                                                 \n",
      "=================================================================\n",
      "Total params: 6070455 (23.16 MB)\n",
      "Trainable params: 6070455 (23.16 MB)\n",
      "Non-trainable params: 0 (0.00 Byte)\n",
      "_________________________________________________________________\n"
     ]
    }
   ],
   "source": [
    "# 모델 훈련\n",
    "model_S2 = tf.keras.Sequential([\n",
    "    tf.keras.layers.Embedding(20000,300, input_length=max_sequence_length),\n",
    "    tf.keras.layers.LSTM(units=50),\n",
    "    tf.keras.layers.Dense(5, activation='softmax')\n",
    "])\n",
    "\n",
    "model_S2.compile(optimizer='adam', loss='sparse_categorical_crossentropy',\n",
    "                metrics=['accuracy'])\n",
    "model_S2.summary()"
   ]
  },
  {
   "cell_type": "code",
   "execution_count": 68,
   "metadata": {},
   "outputs": [
    {
     "name": "stdout",
     "output_type": "stream",
     "text": [
      "Epoch 1/3\n",
      "327/327 [==============================] - 56s 158ms/step - loss: 1.5989 - accuracy: 0.2469 - val_loss: 1.5973 - val_accuracy: 0.2479\n",
      "Epoch 2/3\n",
      "327/327 [==============================] - 59s 180ms/step - loss: 1.5127 - accuracy: 0.2943 - val_loss: 1.5955 - val_accuracy: 0.2483\n",
      "Epoch 3/3\n",
      "327/327 [==============================] - 56s 171ms/step - loss: 1.5882 - accuracy: 0.2522 - val_loss: 1.5952 - val_accuracy: 0.2483\n"
     ]
    }
   ],
   "source": [
    "# 학습\n",
    "history = model_S2.fit(X_train_S2, y_train_S, epochs=3, batch_size=128, validation_split=0.2)"
   ]
  },
  {
   "cell_type": "markdown",
   "metadata": {},
   "source": [
    "#### Test 1 (SentimentText to TOP5 Aspect)"
   ]
  },
  {
   "cell_type": "code",
   "execution_count": 69,
   "metadata": {},
   "outputs": [
    {
     "name": "stdout",
     "output_type": "stream",
     "text": [
      "409/409 [==============================] - 6s 13ms/step\n"
     ]
    },
    {
     "data": {
      "text/plain": [
       "array([[0.20388147, 0.15591383, 0.24800141, 0.21544407, 0.17675921],\n",
       "       [0.20387892, 0.15591562, 0.24800241, 0.21544519, 0.1767579 ],\n",
       "       [0.20388229, 0.15591314, 0.24800111, 0.21544383, 0.17675953],\n",
       "       ...,\n",
       "       [0.20388071, 0.15591441, 0.24800171, 0.21544436, 0.17675887],\n",
       "       [0.20387883, 0.15591575, 0.24800241, 0.21544518, 0.17675787],\n",
       "       [0.20388211, 0.15591326, 0.24800123, 0.21544397, 0.17675942]],\n",
       "      dtype=float32)"
      ]
     },
     "execution_count": 69,
     "metadata": {},
     "output_type": "execute_result"
    }
   ],
   "source": [
    "# 테스트 데이터 값 예측\n",
    "prediction_S2 = model_S2.predict(X_test_S2)\n",
    "prediction_S2"
   ]
  },
  {
   "cell_type": "code",
   "execution_count": 70,
   "metadata": {},
   "outputs": [
    {
     "name": "stdout",
     "output_type": "stream",
     "text": [
      "테스트 정확도: 24.81%\n"
     ]
    }
   ],
   "source": [
    "# 테스트 성능\n",
    "# 1. prediction 배열에서 큰 값의 인덱스를 구함\n",
    "predicted_labels_S2 = np.argmax(prediction_S2, axis=1)\n",
    "\n",
    "# 2. 실제 라벨과 예측된 라벨을 사용하여 정확도 계산\n",
    "accuracy_S2 = accuracy_score(y_test_S, predicted_labels_S2)\n",
    "\n",
    "# 3. 결과 출력\n",
    "print(f\"테스트 정확도: {accuracy_S2 * 100:.2f}%\")"
   ]
  },
  {
   "cell_type": "markdown",
   "metadata": {},
   "source": [
    "#### Test 2 (RawText to TOP5 Aspect)"
   ]
  },
  {
   "cell_type": "code",
   "execution_count": 71,
   "metadata": {},
   "outputs": [
    {
     "data": {
      "text/plain": [
       "[['디자인',\n",
       "  '은',\n",
       "  '괜찮다',\n",
       "  '옷',\n",
       "  '도',\n",
       "  '따뜻하다',\n",
       "  '근데',\n",
       "  '무릎',\n",
       "  '이',\n",
       "  '너무',\n",
       "  '나오다',\n",
       "  '바지',\n",
       "  '길이',\n",
       "  '도',\n",
       "  '짧다'],\n",
       " ['착용',\n",
       "  '감',\n",
       "  '편안하다',\n",
       "  '따뜻하다',\n",
       "  '그래서',\n",
       "  '벌',\n",
       "  '주문',\n",
       "  '하다',\n",
       "  '비싸다',\n",
       "  '사서',\n",
       "  '오늘',\n",
       "  '기분',\n",
       "  '별로',\n",
       "  '예요',\n",
       "  '홈쇼핑',\n",
       "  '에서',\n",
       "  '똑같다',\n",
       "  '제품',\n",
       "  '을',\n",
       "  '에',\n",
       "  '판매',\n",
       "  '하다',\n",
       "  '앱',\n",
       "  '주문',\n",
       "  '시원',\n",
       "  '같다',\n",
       "  '제품',\n",
       "  '인데',\n",
       "  '비싸다',\n",
       "  '사다',\n",
       "  '같다'],\n",
       " ['다른',\n",
       "  '사이즈',\n",
       "  '도',\n",
       "  '구입',\n",
       "  '하고',\n",
       "  '싶다',\n",
       "  '매진',\n",
       "  '되다',\n",
       "  '살수',\n",
       "  '없다',\n",
       "  '아쉽다',\n",
       "  '기',\n",
       "  '대',\n",
       "  '이상',\n",
       "  '으로',\n",
       "  '품질',\n",
       "  '이',\n",
       "  '좋다',\n",
       "  '특히',\n",
       "  '베스트',\n",
       "  '퀄리티',\n",
       "  '가',\n",
       "  '좋다'],\n",
       " ['가격', '도', '좋다', '사이즈', '도', '좋다', '하지만', '느낌', '이', '두껍다', '같다']]"
      ]
     },
     "execution_count": 71,
     "metadata": {},
     "output_type": "execute_result"
    }
   ],
   "source": [
    "clean_train_review_R[:4]"
   ]
  },
  {
   "cell_type": "code",
   "execution_count": 72,
   "metadata": {},
   "outputs": [],
   "source": [
    "max_sequence_length = 42\n",
    "\n",
    "# 토큰 수 컨트롤\n",
    "modified_clean_train_review_R2 = [tokens[:max_sequence_length] for tokens in clean_train_review_R]\n",
    "modified_clean_test_review_R2 = [tokens[:max_sequence_length] for tokens in clean_test_review_R]"
   ]
  },
  {
   "cell_type": "code",
   "execution_count": 73,
   "metadata": {},
   "outputs": [
    {
     "name": "stdout",
     "output_type": "stream",
     "text": [
      "[[  11   10   48   36    4   38  167  438    1   15   61   25   84    4\n",
      "   156    0    0    0    0    0    0    0    0    0    0    0    0    0\n",
      "     0    0    0    0    0    0    0    0    0    0    0    0    0    0]\n",
      " [  96  104  176   38  426  236   39    2  313  449  386  295  118  228\n",
      "   246   91  778   88   22    5  494    2 2010   39 1126   12   88   89\n",
      "   313   44   12    0    0    0    0    0    0    0    0    0    0    0]\n",
      " [ 106    9    4   69   66  147 1451   54 1600   45  120  169  220  452\n",
      "    41   35    1    3  364  562  349    6    3    0    0    0    0    0\n",
      "     0    0    0    0    0    0    0    0    0    0    0    0    0    0]\n",
      " [   8    4    3    9    4    3  211  103    1  154   12    0    0    0\n",
      "     0    0    0    0    0    0    0    0    0    0    0    0    0    0\n",
      "     0    0    0    0    0    0    0    0    0    0    0    0    0    0]\n",
      " [ 502 1756   20  425    5  895   43   92  102    3   17  167  473  725\n",
      "    16   79    1   16  124  240  204  199  150   16   50    8 1226  290\n",
      "     7    0    0    0    0    0    0    0    0    0    0    0    0    0]]\n"
     ]
    }
   ],
   "source": [
    "# 정수 인코딩 및 시퀀스화, 패딩\n",
    "tokenizer = Tokenizer(num_words=20000)\n",
    "tokenizer.fit_on_texts(modified_clean_train_review_R2)\n",
    "\n",
    "X_train_R2 = tokenizer.texts_to_sequences(modified_clean_train_review_R2)\n",
    "X_train_R2 = pad_sequences(X_train_R2, maxlen=max_sequence_length, padding='post')\n",
    "\n",
    "X_test_R2 = tokenizer.texts_to_sequences(modified_clean_test_review_R2)\n",
    "X_test_R2 = pad_sequences(X_test_R2, maxlen=max_sequence_length, padding ='post') \n",
    "\n",
    "print(X_train_R2[:5])"
   ]
  },
  {
   "cell_type": "code",
   "execution_count": 74,
   "metadata": {},
   "outputs": [
    {
     "name": "stdout",
     "output_type": "stream",
     "text": [
      "  1/409 [..............................] - ETA: 25s"
     ]
    },
    {
     "name": "stdout",
     "output_type": "stream",
     "text": [
      "409/409 [==============================] - 6s 14ms/step\n"
     ]
    },
    {
     "data": {
      "text/plain": [
       "array([[0.20387037, 0.15593909, 0.24799526, 0.21543948, 0.17675582],\n",
       "       [0.21981959, 0.15617362, 0.232326  , 0.21240959, 0.17927127],\n",
       "       [0.20388238, 0.15591314, 0.24800105, 0.21544358, 0.17675976],\n",
       "       ...,\n",
       "       [0.2038642 , 0.15594228, 0.24799983, 0.21543942, 0.17675427],\n",
       "       [0.19841346, 0.16855387, 0.230918  , 0.21972492, 0.18238977],\n",
       "       [0.20388258, 0.15591303, 0.248001  , 0.21544354, 0.17675985]],\n",
       "      dtype=float32)"
      ]
     },
     "execution_count": 74,
     "metadata": {},
     "output_type": "execute_result"
    }
   ],
   "source": [
    "# 테스트 데이터 값 예측\n",
    "prediction_R2 = model_S2.predict(X_test_R2)\n",
    "prediction_R2"
   ]
  },
  {
   "cell_type": "code",
   "execution_count": 75,
   "metadata": {},
   "outputs": [
    {
     "name": "stdout",
     "output_type": "stream",
     "text": [
      "테스트 정확도: 24.41%\n"
     ]
    }
   ],
   "source": [
    "# 테스트 성능\n",
    "# 1. prediction 배열에서 큰 값의 인덱스를 구함\n",
    "predicted_labels_R2 = np.argmax(prediction_R2, axis=1)\n",
    "\n",
    "# 2. 실제 라벨과 예측된 라벨을 사용하여 정확도 계산\n",
    "accuracy_R2 = accuracy_score(y_test_R, predicted_labels_R2)\n",
    "\n",
    "# 3. 결과 출력\n",
    "print(f\"테스트 정확도: {accuracy_R2 * 100:.2f}%\")"
   ]
  }
 ],
 "metadata": {
  "kernelspec": {
   "display_name": "ds_study",
   "language": "python",
   "name": "python3"
  },
  "language_info": {
   "codemirror_mode": {
    "name": "ipython",
    "version": 3
   },
   "file_extension": ".py",
   "mimetype": "text/x-python",
   "name": "python",
   "nbconvert_exporter": "python",
   "pygments_lexer": "ipython3",
   "version": "3.8.16"
  },
  "orig_nbformat": 4
 },
 "nbformat": 4,
 "nbformat_minor": 2
}
