{
  "cells": [
    {
      "cell_type": "code",
      "execution_count": 1,
      "metadata": {
        "id": "qqgE6QW0Zdsf"
      },
      "outputs": [],
      "source": [
        "import os\n",
        "import tensorflow as tf\n",
        "import numpy as np\n",
        "import pandas as pd"
      ]
    },
    {
      "cell_type": "code",
      "execution_count": 2,
      "metadata": {},
      "outputs": [],
      "source": [
        "BASE_FOLDER = \"compass 폴더의 위치를 지정해주세요\"\n",
        "target_data_path = os.path.join(BASE_FOLDER, \"data/onehot_garments_pred.csv\")"
      ]
    },
    {
      "cell_type": "code",
      "execution_count": 3,
      "metadata": {
        "colab": {
          "base_uri": "https://localhost:8080/",
          "height": 206
        },
        "id": "J-Pj-qUVUWSy",
        "outputId": "0adbfdbd-1641-4be9-da0e-6cbb8c3126d2"
      },
      "outputs": [
        {
          "data": {
            "text/html": [
              "<div>\n",
              "<style scoped>\n",
              "    .dataframe tbody tr th:only-of-type {\n",
              "        vertical-align: middle;\n",
              "    }\n",
              "\n",
              "    .dataframe tbody tr th {\n",
              "        vertical-align: top;\n",
              "    }\n",
              "\n",
              "    .dataframe thead th {\n",
              "        text-align: right;\n",
              "    }\n",
              "</style>\n",
              "<table border=\"1\" class=\"dataframe\">\n",
              "  <thead>\n",
              "    <tr style=\"text-align: right;\">\n",
              "      <th></th>\n",
              "      <th>RawText</th>\n",
              "      <th>LabelList</th>\n",
              "      <th>PredLogits</th>\n",
              "    </tr>\n",
              "  </thead>\n",
              "  <tbody>\n",
              "    <tr>\n",
              "      <th>0</th>\n",
              "      <td>신발  편하고  예뻐요ᆢ 가성비 좋고 아무리 펀칭 되어 있어도 지금 신기엔 조...</td>\n",
              "      <td>[1 0 1 0 0]</td>\n",
              "      <td>[ 2.2611153 -2.0802803  2.0205135 -2.4404478 -...</td>\n",
              "    </tr>\n",
              "    <tr>\n",
              "      <th>1</th>\n",
              "      <td>착용감이 너무 편하고 좋아요 단추가 하나 떨어져서 오긴 했는데 그냥 고쳐서 입기...</td>\n",
              "      <td>[0 0 0 1 0]</td>\n",
              "      <td>[-1.7596719  -0.87059915 -0.91030425 -1.624762...</td>\n",
              "    </tr>\n",
              "    <tr>\n",
              "      <th>2</th>\n",
              "      <td>그냥  착한가격이라 그냥 입기로 했지만  타사보다 사이즈가  좀크게 나왔어요</td>\n",
              "      <td>[0 1 1 0 0]</td>\n",
              "      <td>[ 3.1217144  -3.3057523  -2.920321    0.377035...</td>\n",
              "    </tr>\n",
              "    <tr>\n",
              "      <th>3</th>\n",
              "      <td>딸다리가 길아 기모바지를 사주어도 다~ 내가 입게되어 속상했는데 기장도 길고 밍크...</td>\n",
              "      <td>[0 0 0 0 1]</td>\n",
              "      <td>[-2.8631616  4.830046  -1.258243  -1.2631577 -...</td>\n",
              "    </tr>\n",
              "    <tr>\n",
              "      <th>4</th>\n",
              "      <td>직립금으로 좀 할인해서 구매했는데요. 블랙이 있으면 좋았겠지만 없어서 다크레드로 ...</td>\n",
              "      <td>[0 0 0 1 0]</td>\n",
              "      <td>[ 4.275024   -2.9984868  -1.2868881  -2.426854...</td>\n",
              "    </tr>\n",
              "  </tbody>\n",
              "</table>\n",
              "</div>"
            ],
            "text/plain": [
              "                                             RawText    LabelList  \\\n",
              "0     신발  편하고  예뻐요ᆢ 가성비 좋고 아무리 펀칭 되어 있어도 지금 신기엔 조...  [1 0 1 0 0]   \n",
              "1    착용감이 너무 편하고 좋아요 단추가 하나 떨어져서 오긴 했는데 그냥 고쳐서 입기...  [0 0 0 1 0]   \n",
              "2         그냥  착한가격이라 그냥 입기로 했지만  타사보다 사이즈가  좀크게 나왔어요  [0 1 1 0 0]   \n",
              "3   딸다리가 길아 기모바지를 사주어도 다~ 내가 입게되어 속상했는데 기장도 길고 밍크...  [0 0 0 0 1]   \n",
              "4   직립금으로 좀 할인해서 구매했는데요. 블랙이 있으면 좋았겠지만 없어서 다크레드로 ...  [0 0 0 1 0]   \n",
              "\n",
              "                                          PredLogits  \n",
              "0  [ 2.2611153 -2.0802803  2.0205135 -2.4404478 -...  \n",
              "1  [-1.7596719  -0.87059915 -0.91030425 -1.624762...  \n",
              "2  [ 3.1217144  -3.3057523  -2.920321    0.377035...  \n",
              "3  [-2.8631616  4.830046  -1.258243  -1.2631577 -...  \n",
              "4  [ 4.275024   -2.9984868  -1.2868881  -2.426854...  "
            ]
          },
          "execution_count": 3,
          "metadata": {},
          "output_type": "execute_result"
        }
      ],
      "source": [
        "result_df = pd.read_csv(target_data_path)\n",
        "result_df.head()"
      ]
    },
    {
      "cell_type": "code",
      "execution_count": 4,
      "metadata": {
        "id": "y24ExsT1Ue5x"
      },
      "outputs": [],
      "source": [
        "def rollback_strfied_numpy(x):\n",
        "    result = []\n",
        "    for v in x[1:-1].strip().split(\" \"):\n",
        "        if not v:\n",
        "            continue\n",
        "        result.append(float(v))\n",
        "    return np.array(result)\n",
        "\n",
        "result_df[\"LabelList\"] = result_df[\"LabelList\"].apply(rollback_strfied_numpy)\n",
        "result_df[\"PredLogits\"] = result_df[\"PredLogits\"].apply(rollback_strfied_numpy)"
      ]
    },
    {
      "cell_type": "code",
      "execution_count": 5,
      "metadata": {
        "colab": {
          "base_uri": "https://localhost:8080/",
          "height": 206
        },
        "id": "w802wRsSUyp0",
        "outputId": "8b7c1420-02c7-4be6-835c-fd562a4c715b"
      },
      "outputs": [
        {
          "data": {
            "text/html": [
              "<div>\n",
              "<style scoped>\n",
              "    .dataframe tbody tr th:only-of-type {\n",
              "        vertical-align: middle;\n",
              "    }\n",
              "\n",
              "    .dataframe tbody tr th {\n",
              "        vertical-align: top;\n",
              "    }\n",
              "\n",
              "    .dataframe thead th {\n",
              "        text-align: right;\n",
              "    }\n",
              "</style>\n",
              "<table border=\"1\" class=\"dataframe\">\n",
              "  <thead>\n",
              "    <tr style=\"text-align: right;\">\n",
              "      <th></th>\n",
              "      <th>RawText</th>\n",
              "      <th>LabelList</th>\n",
              "      <th>PredLogits</th>\n",
              "    </tr>\n",
              "  </thead>\n",
              "  <tbody>\n",
              "    <tr>\n",
              "      <th>0</th>\n",
              "      <td>신발  편하고  예뻐요ᆢ 가성비 좋고 아무리 펀칭 되어 있어도 지금 신기엔 조...</td>\n",
              "      <td>[1.0, 0.0, 1.0, 0.0, 0.0]</td>\n",
              "      <td>[2.2611153, -2.0802803, 2.0205135, -2.4404478,...</td>\n",
              "    </tr>\n",
              "    <tr>\n",
              "      <th>1</th>\n",
              "      <td>착용감이 너무 편하고 좋아요 단추가 하나 떨어져서 오긴 했는데 그냥 고쳐서 입기...</td>\n",
              "      <td>[0.0, 0.0, 0.0, 1.0, 0.0]</td>\n",
              "      <td>[-1.7596719, -0.87059915, -0.91030425, -1.6247...</td>\n",
              "    </tr>\n",
              "    <tr>\n",
              "      <th>2</th>\n",
              "      <td>그냥  착한가격이라 그냥 입기로 했지만  타사보다 사이즈가  좀크게 나왔어요</td>\n",
              "      <td>[0.0, 1.0, 1.0, 0.0, 0.0]</td>\n",
              "      <td>[3.1217144, -3.3057523, -2.920321, 0.37703547,...</td>\n",
              "    </tr>\n",
              "    <tr>\n",
              "      <th>3</th>\n",
              "      <td>딸다리가 길아 기모바지를 사주어도 다~ 내가 입게되어 속상했는데 기장도 길고 밍크...</td>\n",
              "      <td>[0.0, 0.0, 0.0, 0.0, 1.0]</td>\n",
              "      <td>[-2.8631616, 4.830046, -1.258243, -1.2631577, ...</td>\n",
              "    </tr>\n",
              "    <tr>\n",
              "      <th>4</th>\n",
              "      <td>직립금으로 좀 할인해서 구매했는데요. 블랙이 있으면 좋았겠지만 없어서 다크레드로 ...</td>\n",
              "      <td>[0.0, 0.0, 0.0, 1.0, 0.0]</td>\n",
              "      <td>[4.275024, -2.9984868, -1.2868881, -2.4268546,...</td>\n",
              "    </tr>\n",
              "  </tbody>\n",
              "</table>\n",
              "</div>"
            ],
            "text/plain": [
              "                                             RawText  \\\n",
              "0     신발  편하고  예뻐요ᆢ 가성비 좋고 아무리 펀칭 되어 있어도 지금 신기엔 조...   \n",
              "1    착용감이 너무 편하고 좋아요 단추가 하나 떨어져서 오긴 했는데 그냥 고쳐서 입기...   \n",
              "2         그냥  착한가격이라 그냥 입기로 했지만  타사보다 사이즈가  좀크게 나왔어요   \n",
              "3   딸다리가 길아 기모바지를 사주어도 다~ 내가 입게되어 속상했는데 기장도 길고 밍크...   \n",
              "4   직립금으로 좀 할인해서 구매했는데요. 블랙이 있으면 좋았겠지만 없어서 다크레드로 ...   \n",
              "\n",
              "                   LabelList  \\\n",
              "0  [1.0, 0.0, 1.0, 0.0, 0.0]   \n",
              "1  [0.0, 0.0, 0.0, 1.0, 0.0]   \n",
              "2  [0.0, 1.0, 1.0, 0.0, 0.0]   \n",
              "3  [0.0, 0.0, 0.0, 0.0, 1.0]   \n",
              "4  [0.0, 0.0, 0.0, 1.0, 0.0]   \n",
              "\n",
              "                                          PredLogits  \n",
              "0  [2.2611153, -2.0802803, 2.0205135, -2.4404478,...  \n",
              "1  [-1.7596719, -0.87059915, -0.91030425, -1.6247...  \n",
              "2  [3.1217144, -3.3057523, -2.920321, 0.37703547,...  \n",
              "3  [-2.8631616, 4.830046, -1.258243, -1.2631577, ...  \n",
              "4  [4.275024, -2.9984868, -1.2868881, -2.4268546,...  "
            ]
          },
          "execution_count": 5,
          "metadata": {},
          "output_type": "execute_result"
        }
      ],
      "source": [
        "result_df.head()"
      ]
    },
    {
      "cell_type": "code",
      "execution_count": 6,
      "metadata": {
        "colab": {
          "base_uri": "https://localhost:8080/"
        },
        "id": "5oZ5v83PB_qQ",
        "outputId": "f84c742c-f91f-4a72-af46-129f53ed1ee6"
      },
      "outputs": [
        {
          "data": {
            "text/plain": [
              "0    [1, 0, 1, 0, 0]\n",
              "1    [0, 0, 0, 0, 1]\n",
              "2    [1, 0, 0, 1, 0]\n",
              "3    [0, 1, 0, 0, 0]\n",
              "4    [1, 0, 0, 0, 1]\n",
              "dtype: object"
            ]
          },
          "execution_count": 6,
          "metadata": {},
          "output_type": "execute_result"
        }
      ],
      "source": [
        "def logits_to_onehot_aspects(logits, threshold):\n",
        "    sig_probabilities = tf.keras.activations.sigmoid(logits).numpy()\n",
        "    return list(np.where(sig_probabilities > threshold, 1, 0))\n",
        "\n",
        "aspect_bools = logits_to_onehot_aspects(result_df[\"PredLogits\"].to_list(), 0.5)\n",
        "pred_series = pd.Series(aspect_bools)\n",
        "pred_series.head()"
      ]
    },
    {
      "cell_type": "code",
      "execution_count": 7,
      "metadata": {
        "colab": {
          "base_uri": "https://localhost:8080/",
          "height": 206
        },
        "id": "qh9akFlmZXZQ",
        "outputId": "d2dffbc6-d211-47fb-c77c-e8b7bb51b8df"
      },
      "outputs": [
        {
          "data": {
            "text/html": [
              "<div>\n",
              "<style scoped>\n",
              "    .dataframe tbody tr th:only-of-type {\n",
              "        vertical-align: middle;\n",
              "    }\n",
              "\n",
              "    .dataframe tbody tr th {\n",
              "        vertical-align: top;\n",
              "    }\n",
              "\n",
              "    .dataframe thead th {\n",
              "        text-align: right;\n",
              "    }\n",
              "</style>\n",
              "<table border=\"1\" class=\"dataframe\">\n",
              "  <thead>\n",
              "    <tr style=\"text-align: right;\">\n",
              "      <th></th>\n",
              "      <th>RawText</th>\n",
              "      <th>LabelList</th>\n",
              "      <th>PredLogits</th>\n",
              "      <th>PredList</th>\n",
              "    </tr>\n",
              "  </thead>\n",
              "  <tbody>\n",
              "    <tr>\n",
              "      <th>0</th>\n",
              "      <td>신발  편하고  예뻐요ᆢ 가성비 좋고 아무리 펀칭 되어 있어도 지금 신기엔 조...</td>\n",
              "      <td>[1.0, 0.0, 1.0, 0.0, 0.0]</td>\n",
              "      <td>[2.2611153, -2.0802803, 2.0205135, -2.4404478,...</td>\n",
              "      <td>[1, 0, 1, 0, 0]</td>\n",
              "    </tr>\n",
              "    <tr>\n",
              "      <th>1</th>\n",
              "      <td>착용감이 너무 편하고 좋아요 단추가 하나 떨어져서 오긴 했는데 그냥 고쳐서 입기...</td>\n",
              "      <td>[0.0, 0.0, 0.0, 1.0, 0.0]</td>\n",
              "      <td>[-1.7596719, -0.87059915, -0.91030425, -1.6247...</td>\n",
              "      <td>[0, 0, 0, 0, 1]</td>\n",
              "    </tr>\n",
              "    <tr>\n",
              "      <th>2</th>\n",
              "      <td>그냥  착한가격이라 그냥 입기로 했지만  타사보다 사이즈가  좀크게 나왔어요</td>\n",
              "      <td>[0.0, 1.0, 1.0, 0.0, 0.0]</td>\n",
              "      <td>[3.1217144, -3.3057523, -2.920321, 0.37703547,...</td>\n",
              "      <td>[1, 0, 0, 1, 0]</td>\n",
              "    </tr>\n",
              "    <tr>\n",
              "      <th>3</th>\n",
              "      <td>딸다리가 길아 기모바지를 사주어도 다~ 내가 입게되어 속상했는데 기장도 길고 밍크...</td>\n",
              "      <td>[0.0, 0.0, 0.0, 0.0, 1.0]</td>\n",
              "      <td>[-2.8631616, 4.830046, -1.258243, -1.2631577, ...</td>\n",
              "      <td>[0, 1, 0, 0, 0]</td>\n",
              "    </tr>\n",
              "    <tr>\n",
              "      <th>4</th>\n",
              "      <td>직립금으로 좀 할인해서 구매했는데요. 블랙이 있으면 좋았겠지만 없어서 다크레드로 ...</td>\n",
              "      <td>[0.0, 0.0, 0.0, 1.0, 0.0]</td>\n",
              "      <td>[4.275024, -2.9984868, -1.2868881, -2.4268546,...</td>\n",
              "      <td>[1, 0, 0, 0, 1]</td>\n",
              "    </tr>\n",
              "  </tbody>\n",
              "</table>\n",
              "</div>"
            ],
            "text/plain": [
              "                                             RawText  \\\n",
              "0     신발  편하고  예뻐요ᆢ 가성비 좋고 아무리 펀칭 되어 있어도 지금 신기엔 조...   \n",
              "1    착용감이 너무 편하고 좋아요 단추가 하나 떨어져서 오긴 했는데 그냥 고쳐서 입기...   \n",
              "2         그냥  착한가격이라 그냥 입기로 했지만  타사보다 사이즈가  좀크게 나왔어요   \n",
              "3   딸다리가 길아 기모바지를 사주어도 다~ 내가 입게되어 속상했는데 기장도 길고 밍크...   \n",
              "4   직립금으로 좀 할인해서 구매했는데요. 블랙이 있으면 좋았겠지만 없어서 다크레드로 ...   \n",
              "\n",
              "                   LabelList  \\\n",
              "0  [1.0, 0.0, 1.0, 0.0, 0.0]   \n",
              "1  [0.0, 0.0, 0.0, 1.0, 0.0]   \n",
              "2  [0.0, 1.0, 1.0, 0.0, 0.0]   \n",
              "3  [0.0, 0.0, 0.0, 0.0, 1.0]   \n",
              "4  [0.0, 0.0, 0.0, 1.0, 0.0]   \n",
              "\n",
              "                                          PredLogits         PredList  \n",
              "0  [2.2611153, -2.0802803, 2.0205135, -2.4404478,...  [1, 0, 1, 0, 0]  \n",
              "1  [-1.7596719, -0.87059915, -0.91030425, -1.6247...  [0, 0, 0, 0, 1]  \n",
              "2  [3.1217144, -3.3057523, -2.920321, 0.37703547,...  [1, 0, 0, 1, 0]  \n",
              "3  [-2.8631616, 4.830046, -1.258243, -1.2631577, ...  [0, 1, 0, 0, 0]  \n",
              "4  [4.275024, -2.9984868, -1.2868881, -2.4268546,...  [1, 0, 0, 0, 1]  "
            ]
          },
          "execution_count": 7,
          "metadata": {},
          "output_type": "execute_result"
        }
      ],
      "source": [
        "result_df[\"PredList\"] = pred_series\n",
        "result_df.head()"
      ]
    },
    {
      "cell_type": "code",
      "execution_count": 8,
      "metadata": {
        "colab": {
          "base_uri": "https://localhost:8080/"
        },
        "id": "OCxSKVmELeTS",
        "outputId": "61fb882c-3bc6-4ec7-b45b-816a0075cb43"
      },
      "outputs": [
        {
          "data": {
            "text/plain": [
              "0        [True, True, True, True, True]\n",
              "1      [True, True, True, False, False]\n",
              "2    [False, False, False, False, True]\n",
              "3      [True, False, True, True, False]\n",
              "4     [False, True, True, False, False]\n",
              "dtype: object"
            ]
          },
          "execution_count": 8,
          "metadata": {},
          "output_type": "execute_result"
        }
      ],
      "source": [
        "test_series = result_df.apply(lambda x: x[\"LabelList\"] == x[\"PredList\"], axis=1)\n",
        "test_series.head()"
      ]
    },
    {
      "cell_type": "code",
      "execution_count": 9,
      "metadata": {
        "colab": {
          "base_uri": "https://localhost:8080/"
        },
        "id": "1mb6wBuOLn-o",
        "outputId": "077363fc-a933-4856-b165-ebd7ac3e4337"
      },
      "outputs": [
        {
          "data": {
            "text/plain": [
              "0.041086663673102826"
            ]
          },
          "execution_count": 9,
          "metadata": {},
          "output_type": "execute_result"
        }
      ],
      "source": [
        "# 완전일치\n",
        "def check_full_accord(x):\n",
        "    for each in x:\n",
        "        if not each:\n",
        "            return 0\n",
        "    return 1\n",
        "\n",
        "test_series.apply(check_full_accord).mean()"
      ]
    },
    {
      "cell_type": "code",
      "execution_count": 10,
      "metadata": {
        "colab": {
          "base_uri": "https://localhost:8080/"
        },
        "id": "P_BMn59CM6gq",
        "outputId": "0e975721-9b1e-473e-a9be-ae4da06168c4"
      },
      "outputs": [
        {
          "data": {
            "text/plain": [
              "0.5035866636731028"
            ]
          },
          "execution_count": 10,
          "metadata": {},
          "output_type": "execute_result"
        }
      ],
      "source": [
        "# 부분일치\n",
        "def check_partial_accord(x):\n",
        "    result = 0\n",
        "    for each in x:\n",
        "        if each:\n",
        "            result += 1\n",
        "    return result / 5\n",
        "\n",
        "test_series.apply(check_partial_accord).mean()"
      ]
    }
  ],
  "metadata": {
    "accelerator": "TPU",
    "colab": {
      "provenance": []
    },
    "kernelspec": {
      "display_name": "Python 3",
      "name": "python3"
    },
    "language_info": {
      "codemirror_mode": {
        "name": "ipython",
        "version": 3
      },
      "file_extension": ".py",
      "mimetype": "text/x-python",
      "name": "python",
      "nbconvert_exporter": "python",
      "pygments_lexer": "ipython3",
      "version": "3.11.3"
    }
  },
  "nbformat": 4,
  "nbformat_minor": 0
}
