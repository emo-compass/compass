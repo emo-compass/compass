{
 "cells": [
  {
   "cell_type": "markdown",
   "metadata": {},
   "source": [
    "# LSTM 2"
   ]
  },
  {
   "cell_type": "markdown",
   "metadata": {},
   "source": [
    "- Aspect를 속성카테고리로 변환하여 분류하는 모델\n",
    "- SentimentText를 X로, Aspect를 y로 학습시킨 모델(Input_length=27)\n",
    "- 모델 학습 accuracy: 0.9494 - val_accuracy: 0.9295\n",
    "- SentimentText, RawText로 테스트: 정확도 92.80%, \n",
    "<br>  (원인:)\n",
    "- SentimentText 학습모델의 Input_length를 42로 늘려서 Remodeling\n",
    "- 모델 학습 accuracy: \n",
    "- 테스트 : 정확도 SentimentText: 43.87%, RawText: 23.38%"
   ]
  },
  {
   "cell_type": "markdown",
   "metadata": {},
   "source": [
    "## Set"
   ]
  },
  {
   "cell_type": "code",
   "execution_count": 2,
   "metadata": {},
   "outputs": [],
   "source": [
    "import re\n",
    "import pandas as pd\n",
    "import numpy as np\n",
    "import seaborn as sns\n",
    "import matplotlib.pyplot as plt\n",
    "import koreanize_matplotlib\n",
    "import platform\n",
    "import warnings\n",
    "warnings.filterwarnings('ignore')\n",
    "import tensorflow as tf\n",
    "\n",
    "from konlpy.tag import Okt\n",
    "from tensorflow.keras.preprocessing.text import Tokenizer\n",
    "from tensorflow.keras.preprocessing.sequence import pad_sequences\n",
    "from sklearn.metrics import accuracy_score, precision_score, recall_score, f1_score\n",
    "\n",
    "from sklearn.model_selection import train_test_split\n",
    "from sklearn.preprocessing import LabelEncoder"
   ]
  },
  {
   "cell_type": "markdown",
   "metadata": {},
   "source": [
    "## Load Data"
   ]
  },
  {
   "cell_type": "markdown",
   "metadata": {},
   "source": [
    "### garments"
   ]
  },
  {
   "cell_type": "code",
   "execution_count": 3,
   "metadata": {},
   "outputs": [
    {
     "data": {
      "text/html": [
       "<div>\n",
       "<style scoped>\n",
       "    .dataframe tbody tr th:only-of-type {\n",
       "        vertical-align: middle;\n",
       "    }\n",
       "\n",
       "    .dataframe tbody tr th {\n",
       "        vertical-align: top;\n",
       "    }\n",
       "\n",
       "    .dataframe thead th {\n",
       "        text-align: right;\n",
       "    }\n",
       "</style>\n",
       "<table border=\"1\" class=\"dataframe\">\n",
       "  <thead>\n",
       "    <tr style=\"text-align: right;\">\n",
       "      <th></th>\n",
       "      <th>Index</th>\n",
       "      <th>RawText</th>\n",
       "      <th>Source</th>\n",
       "      <th>Domain</th>\n",
       "      <th>MainCategory</th>\n",
       "      <th>ProductName</th>\n",
       "      <th>ReviewScore</th>\n",
       "      <th>Syllable</th>\n",
       "      <th>Word</th>\n",
       "      <th>RDate</th>\n",
       "      <th>GeneralPolarity</th>\n",
       "      <th>Aspect</th>\n",
       "      <th>SentimentText</th>\n",
       "      <th>SentimentWord</th>\n",
       "      <th>SentimentPolarity</th>\n",
       "    </tr>\n",
       "  </thead>\n",
       "  <tbody>\n",
       "    <tr>\n",
       "      <th>0</th>\n",
       "      <td>128481</td>\n",
       "      <td>아들에게 선물했는데 불편하고 활동하기 안좋다고 잘 안입고 다니네요</td>\n",
       "      <td>쇼핑몰</td>\n",
       "      <td>패션</td>\n",
       "      <td>남성의류</td>\n",
       "      <td>OO 남성 매** 데님 3종</td>\n",
       "      <td>100</td>\n",
       "      <td>37</td>\n",
       "      <td>8</td>\n",
       "      <td>20180626</td>\n",
       "      <td>-1.0</td>\n",
       "      <td>착용감</td>\n",
       "      <td>불편하고</td>\n",
       "      <td>1</td>\n",
       "      <td>-1</td>\n",
       "    </tr>\n",
       "    <tr>\n",
       "      <th>1</th>\n",
       "      <td>128481</td>\n",
       "      <td>아들에게 선물했는데 불편하고 활동하기 안좋다고 잘 안입고 다니네요</td>\n",
       "      <td>쇼핑몰</td>\n",
       "      <td>패션</td>\n",
       "      <td>남성의류</td>\n",
       "      <td>OO 남성 매** 데님 3종</td>\n",
       "      <td>100</td>\n",
       "      <td>37</td>\n",
       "      <td>8</td>\n",
       "      <td>20180626</td>\n",
       "      <td>-1.0</td>\n",
       "      <td>착용감</td>\n",
       "      <td>활동하기 안좋다고 잘 안입고 다니네요</td>\n",
       "      <td>5</td>\n",
       "      <td>-1</td>\n",
       "    </tr>\n",
       "    <tr>\n",
       "      <th>2</th>\n",
       "      <td>128483</td>\n",
       "      <td>울아들이입어보고너무불편하다고상품이별로래요. 불편해서자주입을것같지는 않데요.</td>\n",
       "      <td>쇼핑몰</td>\n",
       "      <td>패션</td>\n",
       "      <td>남성의류</td>\n",
       "      <td>OO 남성 매** 데님 3종</td>\n",
       "      <td>100</td>\n",
       "      <td>41</td>\n",
       "      <td>3</td>\n",
       "      <td>20180321</td>\n",
       "      <td>-1.0</td>\n",
       "      <td>착용감</td>\n",
       "      <td>너무불편하다고상품이별로래요.</td>\n",
       "      <td>1</td>\n",
       "      <td>-1</td>\n",
       "    </tr>\n",
       "    <tr>\n",
       "      <th>3</th>\n",
       "      <td>128483</td>\n",
       "      <td>울아들이입어보고너무불편하다고상품이별로래요. 불편해서자주입을것같지는 않데요.</td>\n",
       "      <td>쇼핑몰</td>\n",
       "      <td>패션</td>\n",
       "      <td>남성의류</td>\n",
       "      <td>OO 남성 매** 데님 3종</td>\n",
       "      <td>100</td>\n",
       "      <td>41</td>\n",
       "      <td>3</td>\n",
       "      <td>20180321</td>\n",
       "      <td>-1.0</td>\n",
       "      <td>착용감</td>\n",
       "      <td>불편해서자주입을것같지는 않데요.</td>\n",
       "      <td>2</td>\n",
       "      <td>-1</td>\n",
       "    </tr>\n",
       "    <tr>\n",
       "      <th>4</th>\n",
       "      <td>128484</td>\n",
       "      <td>이번에구매한데님은사이즈가잘맞네요 색상구성도괜찮고맘에든답니다 잘입겠습니다</td>\n",
       "      <td>쇼핑몰</td>\n",
       "      <td>패션</td>\n",
       "      <td>남성의류</td>\n",
       "      <td>OO 남성 매** 데님 3종</td>\n",
       "      <td>100</td>\n",
       "      <td>39</td>\n",
       "      <td>3</td>\n",
       "      <td>20180315</td>\n",
       "      <td>1.0</td>\n",
       "      <td>사이즈</td>\n",
       "      <td>사이즈가잘맞네요</td>\n",
       "      <td>1</td>\n",
       "      <td>1</td>\n",
       "    </tr>\n",
       "  </tbody>\n",
       "</table>\n",
       "</div>"
      ],
      "text/plain": [
       "    Index                                    RawText Source Domain  \\\n",
       "0  128481      아들에게 선물했는데 불편하고 활동하기 안좋다고 잘 안입고 다니네요     쇼핑몰     패션   \n",
       "1  128481      아들에게 선물했는데 불편하고 활동하기 안좋다고 잘 안입고 다니네요     쇼핑몰     패션   \n",
       "2  128483  울아들이입어보고너무불편하다고상품이별로래요. 불편해서자주입을것같지는 않데요.    쇼핑몰     패션   \n",
       "3  128483  울아들이입어보고너무불편하다고상품이별로래요. 불편해서자주입을것같지는 않데요.    쇼핑몰     패션   \n",
       "4  128484    이번에구매한데님은사이즈가잘맞네요 색상구성도괜찮고맘에든답니다 잘입겠습니다    쇼핑몰     패션   \n",
       "\n",
       "  MainCategory      ProductName  ReviewScore  Syllable  Word     RDate  \\\n",
       "0         남성의류  OO 남성 매** 데님 3종          100        37     8  20180626   \n",
       "1         남성의류  OO 남성 매** 데님 3종          100        37     8  20180626   \n",
       "2         남성의류  OO 남성 매** 데님 3종          100        41     3  20180321   \n",
       "3         남성의류  OO 남성 매** 데님 3종          100        41     3  20180321   \n",
       "4         남성의류  OO 남성 매** 데님 3종          100        39     3  20180315   \n",
       "\n",
       "   GeneralPolarity Aspect         SentimentText  SentimentWord  \\\n",
       "0             -1.0    착용감                  불편하고              1   \n",
       "1             -1.0    착용감  활동하기 안좋다고 잘 안입고 다니네요              5   \n",
       "2             -1.0    착용감       너무불편하다고상품이별로래요.              1   \n",
       "3             -1.0    착용감     불편해서자주입을것같지는 않데요.              2   \n",
       "4              1.0    사이즈              사이즈가잘맞네요              1   \n",
       "\n",
       "   SentimentPolarity  \n",
       "0                 -1  \n",
       "1                 -1  \n",
       "2                 -1  \n",
       "3                 -1  \n",
       "4                  1  "
      ]
     },
     "execution_count": 3,
     "metadata": {},
     "output_type": "execute_result"
    }
   ],
   "source": [
    "path = \"../../data/raw/\"\n",
    "df_garments = pd.read_csv(path+\"garments.csv\", sep = ',', encoding = 'utf-8', header = 0)\n",
    "df_garments.head()"
   ]
  },
  {
   "cell_type": "code",
   "execution_count": 4,
   "metadata": {},
   "outputs": [
    {
     "name": "stdout",
     "output_type": "stream",
     "text": [
      "<class 'pandas.core.frame.DataFrame'>\n",
      "RangeIndex: 152143 entries, 0 to 152142\n",
      "Data columns (total 15 columns):\n",
      " #   Column             Non-Null Count   Dtype  \n",
      "---  ------             --------------   -----  \n",
      " 0   Index              152143 non-null  int64  \n",
      " 1   RawText            152143 non-null  object \n",
      " 2   Source             152143 non-null  object \n",
      " 3   Domain             152143 non-null  object \n",
      " 4   MainCategory       152143 non-null  object \n",
      " 5   ProductName        152125 non-null  object \n",
      " 6   ReviewScore        152143 non-null  int64  \n",
      " 7   Syllable           152143 non-null  int64  \n",
      " 8   Word               152143 non-null  int64  \n",
      " 9   RDate              152143 non-null  int64  \n",
      " 10  GeneralPolarity    149774 non-null  float64\n",
      " 11  Aspect             152143 non-null  object \n",
      " 12  SentimentText      152143 non-null  object \n",
      " 13  SentimentWord      152143 non-null  int64  \n",
      " 14  SentimentPolarity  152143 non-null  int64  \n",
      "dtypes: float64(1), int64(7), object(7)\n",
      "memory usage: 17.4+ MB\n"
     ]
    }
   ],
   "source": [
    "df_garments.info()"
   ]
  },
  {
   "cell_type": "code",
   "execution_count": 5,
   "metadata": {},
   "outputs": [
    {
     "data": {
      "text/plain": [
       "27"
      ]
     },
     "execution_count": 5,
     "metadata": {},
     "output_type": "execute_result"
    }
   ],
   "source": [
    "df_garments['Aspect'].nunique()"
   ]
  },
  {
   "cell_type": "code",
   "execution_count": 6,
   "metadata": {},
   "outputs": [
    {
     "data": {
      "text/plain": [
       "array(['착용감', '사이즈', '색상', '핏', '신축성', '마감', '가격', '디자인', '품질', '제품구성',\n",
       "       '두께', '기능', '무게', '길이', '소재', '활용성', '촉감', '냄새', '사용성/편의성', '내구성',\n",
       "       '기능성', '사이즈/폭/길이/두께', '수납', '치수/사이즈', '착화감', '사용성', '굽'],\n",
       "      dtype=object)"
      ]
     },
     "execution_count": 6,
     "metadata": {},
     "output_type": "execute_result"
    }
   ],
   "source": [
    "df_garments['Aspect'].unique()"
   ]
  },
  {
   "cell_type": "code",
   "execution_count": 7,
   "metadata": {},
   "outputs": [
    {
     "data": {
      "text/plain": [
       "디자인            16353\n",
       "사이즈            14163\n",
       "가격             13616\n",
       "품질             11799\n",
       "착화감            10667\n",
       "기능             10492\n",
       "소재             10312\n",
       "색상              8965\n",
       "착용감             8154\n",
       "치수/사이즈          5985\n",
       "무게              5664\n",
       "핏               5621\n",
       "길이              4305\n",
       "신축성             4228\n",
       "두께              3924\n",
       "활용성             3368\n",
       "촉감              2499\n",
       "제품구성            1811\n",
       "기능성             1810\n",
       "사이즈/폭/길이/두께     1712\n",
       "사용성             1545\n",
       "마감              1517\n",
       "사용성/편의성         1154\n",
       "내구성             1016\n",
       "굽                674\n",
       "냄새               524\n",
       "수납               265\n",
       "Name: Aspect, dtype: int64"
      ]
     },
     "execution_count": 7,
     "metadata": {},
     "output_type": "execute_result"
    }
   ],
   "source": [
    "df_garments['Aspect'].value_counts()"
   ]
  },
  {
   "cell_type": "markdown",
   "metadata": {},
   "source": [
    "## 속성카테고리 학습 (SentimentText to Category)"
   ]
  },
  {
   "cell_type": "markdown",
   "metadata": {},
   "source": [
    "### 패션 garments"
   ]
  },
  {
   "cell_type": "markdown",
   "metadata": {},
   "source": [
    "Category 추가"
   ]
  },
  {
   "cell_type": "code",
   "execution_count": 11,
   "metadata": {},
   "outputs": [
    {
     "name": "stdout",
     "output_type": "stream",
     "text": [
      "<class 'pandas.core.frame.DataFrame'>\n",
      "Int64Index: 149756 entries, 0 to 152142\n",
      "Data columns (total 15 columns):\n",
      " #   Column             Non-Null Count   Dtype  \n",
      "---  ------             --------------   -----  \n",
      " 0   Index              149756 non-null  int64  \n",
      " 1   RawText            149756 non-null  object \n",
      " 2   Source             149756 non-null  object \n",
      " 3   Domain             149756 non-null  object \n",
      " 4   MainCategory       149756 non-null  object \n",
      " 5   ProductName        149756 non-null  object \n",
      " 6   ReviewScore        149756 non-null  int64  \n",
      " 7   Syllable           149756 non-null  int64  \n",
      " 8   Word               149756 non-null  int64  \n",
      " 9   RDate              149756 non-null  int64  \n",
      " 10  GeneralPolarity    149756 non-null  float64\n",
      " 11  Aspect             149756 non-null  object \n",
      " 12  SentimentText      149756 non-null  object \n",
      " 13  SentimentWord      149756 non-null  int64  \n",
      " 14  SentimentPolarity  149756 non-null  int64  \n",
      "dtypes: float64(1), int64(7), object(7)\n",
      "memory usage: 18.3+ MB\n"
     ]
    }
   ],
   "source": [
    "df_garments = df_garments.dropna()\n",
    "df_garments.info()"
   ]
  },
  {
   "cell_type": "code",
   "execution_count": 12,
   "metadata": {},
   "outputs": [
    {
     "data": {
      "text/plain": [
       "사용성    48446\n",
       "사이즈    35605\n",
       "품질     27219\n",
       "디자인    25036\n",
       "가격     13450\n",
       "Name: Aspect, dtype: int64"
      ]
     },
     "execution_count": 12,
     "metadata": {},
     "output_type": "execute_result"
    }
   ],
   "source": [
    "def compress_category(x):\n",
    "    categories = {\n",
    "        \"사이즈\": [\"사이즈\", \"핏\", \"두께\", \"길이\", \"사이즈/폭/길이/두께\", \"치수/사이즈\", \"굽\"],\n",
    "        \"디자인\": [\"색상\", \"디자인\"],\n",
    "        \"품질\": [\"마감\", \"품질\", \"소재\", \"촉감\", \"냄새\", \"내구성\"],\n",
    "        \"사용성\": [\"사용성/편의성\", \"사용성\", \"수납\", \"활용성\", \"제품구성\", \"무게\", \"신축성\", \"기능\", \"기능성\", \"착화감\", \"착용감\"],\n",
    "        \"가격\": [\"가격\"]\n",
    "    }\n",
    "\n",
    "    for category, detail in categories.items():\n",
    "        if x in detail:\n",
    "            return category\n",
    "\n",
    "compressed_categories = df_garments[\"Aspect\"].map(compress_category)\n",
    "compressed_categories.value_counts()"
   ]
  },
  {
   "cell_type": "code",
   "execution_count": 13,
   "metadata": {},
   "outputs": [
    {
     "data": {
      "text/plain": [
       "149756"
      ]
     },
     "execution_count": 13,
     "metadata": {},
     "output_type": "execute_result"
    }
   ],
   "source": [
    "len(compressed_categories)"
   ]
  },
  {
   "cell_type": "code",
   "execution_count": 15,
   "metadata": {},
   "outputs": [
    {
     "data": {
      "text/html": [
       "<div>\n",
       "<style scoped>\n",
       "    .dataframe tbody tr th:only-of-type {\n",
       "        vertical-align: middle;\n",
       "    }\n",
       "\n",
       "    .dataframe tbody tr th {\n",
       "        vertical-align: top;\n",
       "    }\n",
       "\n",
       "    .dataframe thead th {\n",
       "        text-align: right;\n",
       "    }\n",
       "</style>\n",
       "<table border=\"1\" class=\"dataframe\">\n",
       "  <thead>\n",
       "    <tr style=\"text-align: right;\">\n",
       "      <th></th>\n",
       "      <th>Index</th>\n",
       "      <th>RawText</th>\n",
       "      <th>Source</th>\n",
       "      <th>Domain</th>\n",
       "      <th>MainCategory</th>\n",
       "      <th>ProductName</th>\n",
       "      <th>ReviewScore</th>\n",
       "      <th>Syllable</th>\n",
       "      <th>Word</th>\n",
       "      <th>RDate</th>\n",
       "      <th>GeneralPolarity</th>\n",
       "      <th>Aspect</th>\n",
       "      <th>SentimentText</th>\n",
       "      <th>SentimentWord</th>\n",
       "      <th>SentimentPolarity</th>\n",
       "      <th>Category</th>\n",
       "    </tr>\n",
       "  </thead>\n",
       "  <tbody>\n",
       "    <tr>\n",
       "      <th>0</th>\n",
       "      <td>128481</td>\n",
       "      <td>아들에게 선물했는데 불편하고 활동하기 안좋다고 잘 안입고 다니네요</td>\n",
       "      <td>쇼핑몰</td>\n",
       "      <td>패션</td>\n",
       "      <td>남성의류</td>\n",
       "      <td>OO 남성 매** 데님 3종</td>\n",
       "      <td>100</td>\n",
       "      <td>37</td>\n",
       "      <td>8</td>\n",
       "      <td>20180626</td>\n",
       "      <td>-1.0</td>\n",
       "      <td>착용감</td>\n",
       "      <td>불편하고</td>\n",
       "      <td>1</td>\n",
       "      <td>-1</td>\n",
       "      <td>사용성</td>\n",
       "    </tr>\n",
       "    <tr>\n",
       "      <th>1</th>\n",
       "      <td>128481</td>\n",
       "      <td>아들에게 선물했는데 불편하고 활동하기 안좋다고 잘 안입고 다니네요</td>\n",
       "      <td>쇼핑몰</td>\n",
       "      <td>패션</td>\n",
       "      <td>남성의류</td>\n",
       "      <td>OO 남성 매** 데님 3종</td>\n",
       "      <td>100</td>\n",
       "      <td>37</td>\n",
       "      <td>8</td>\n",
       "      <td>20180626</td>\n",
       "      <td>-1.0</td>\n",
       "      <td>착용감</td>\n",
       "      <td>활동하기 안좋다고 잘 안입고 다니네요</td>\n",
       "      <td>5</td>\n",
       "      <td>-1</td>\n",
       "      <td>사용성</td>\n",
       "    </tr>\n",
       "    <tr>\n",
       "      <th>2</th>\n",
       "      <td>128483</td>\n",
       "      <td>울아들이입어보고너무불편하다고상품이별로래요. 불편해서자주입을것같지는 않데요.</td>\n",
       "      <td>쇼핑몰</td>\n",
       "      <td>패션</td>\n",
       "      <td>남성의류</td>\n",
       "      <td>OO 남성 매** 데님 3종</td>\n",
       "      <td>100</td>\n",
       "      <td>41</td>\n",
       "      <td>3</td>\n",
       "      <td>20180321</td>\n",
       "      <td>-1.0</td>\n",
       "      <td>착용감</td>\n",
       "      <td>너무불편하다고상품이별로래요.</td>\n",
       "      <td>1</td>\n",
       "      <td>-1</td>\n",
       "      <td>사용성</td>\n",
       "    </tr>\n",
       "    <tr>\n",
       "      <th>3</th>\n",
       "      <td>128483</td>\n",
       "      <td>울아들이입어보고너무불편하다고상품이별로래요. 불편해서자주입을것같지는 않데요.</td>\n",
       "      <td>쇼핑몰</td>\n",
       "      <td>패션</td>\n",
       "      <td>남성의류</td>\n",
       "      <td>OO 남성 매** 데님 3종</td>\n",
       "      <td>100</td>\n",
       "      <td>41</td>\n",
       "      <td>3</td>\n",
       "      <td>20180321</td>\n",
       "      <td>-1.0</td>\n",
       "      <td>착용감</td>\n",
       "      <td>불편해서자주입을것같지는 않데요.</td>\n",
       "      <td>2</td>\n",
       "      <td>-1</td>\n",
       "      <td>사용성</td>\n",
       "    </tr>\n",
       "  </tbody>\n",
       "</table>\n",
       "</div>"
      ],
      "text/plain": [
       "    Index                                    RawText Source Domain  \\\n",
       "0  128481      아들에게 선물했는데 불편하고 활동하기 안좋다고 잘 안입고 다니네요     쇼핑몰     패션   \n",
       "1  128481      아들에게 선물했는데 불편하고 활동하기 안좋다고 잘 안입고 다니네요     쇼핑몰     패션   \n",
       "2  128483  울아들이입어보고너무불편하다고상품이별로래요. 불편해서자주입을것같지는 않데요.    쇼핑몰     패션   \n",
       "3  128483  울아들이입어보고너무불편하다고상품이별로래요. 불편해서자주입을것같지는 않데요.    쇼핑몰     패션   \n",
       "\n",
       "  MainCategory      ProductName  ReviewScore  Syllable  Word     RDate  \\\n",
       "0         남성의류  OO 남성 매** 데님 3종          100        37     8  20180626   \n",
       "1         남성의류  OO 남성 매** 데님 3종          100        37     8  20180626   \n",
       "2         남성의류  OO 남성 매** 데님 3종          100        41     3  20180321   \n",
       "3         남성의류  OO 남성 매** 데님 3종          100        41     3  20180321   \n",
       "\n",
       "   GeneralPolarity Aspect         SentimentText  SentimentWord  \\\n",
       "0             -1.0    착용감                  불편하고              1   \n",
       "1             -1.0    착용감  활동하기 안좋다고 잘 안입고 다니네요              5   \n",
       "2             -1.0    착용감       너무불편하다고상품이별로래요.              1   \n",
       "3             -1.0    착용감     불편해서자주입을것같지는 않데요.              2   \n",
       "\n",
       "   SentimentPolarity Category  \n",
       "0                 -1      사용성  \n",
       "1                 -1      사용성  \n",
       "2                 -1      사용성  \n",
       "3                 -1      사용성  "
      ]
     },
     "execution_count": 15,
     "metadata": {},
     "output_type": "execute_result"
    }
   ],
   "source": [
    "df_garments[\"Category\"] = compressed_categories\n",
    "df_garments[:4]"
   ]
  },
  {
   "cell_type": "code",
   "execution_count": 16,
   "metadata": {},
   "outputs": [
    {
     "data": {
      "text/plain": [
       "사용성    48446\n",
       "사이즈    35605\n",
       "품질     27219\n",
       "디자인    25036\n",
       "가격     13450\n",
       "Name: Category, dtype: int64"
      ]
     },
     "execution_count": 16,
     "metadata": {},
     "output_type": "execute_result"
    }
   ],
   "source": [
    "df_garments['Category'].value_counts()"
   ]
  },
  {
   "cell_type": "code",
   "execution_count": 17,
   "metadata": {},
   "outputs": [],
   "source": [
    "target_df = df_garments"
   ]
  },
  {
   "cell_type": "code",
   "execution_count": 18,
   "metadata": {},
   "outputs": [
    {
     "data": {
      "text/plain": [
       "5"
      ]
     },
     "execution_count": 18,
     "metadata": {},
     "output_type": "execute_result"
    }
   ],
   "source": [
    "label_encoder = LabelEncoder()\n",
    "enc_data = label_encoder.fit_transform(target_df['Category'])\n",
    "num_labels = len(set(enc_data))\n",
    "num_labels"
   ]
  },
  {
   "cell_type": "code",
   "execution_count": 19,
   "metadata": {},
   "outputs": [],
   "source": [
    "X, y = target_df.loc[:, \"SentimentText\"].to_list(), enc_data"
   ]
  },
  {
   "cell_type": "code",
   "execution_count": 20,
   "metadata": {},
   "outputs": [],
   "source": [
    "X_train_SC, X_test_SC, y_train_SC, y_test_SC = train_test_split(X, y, test_size=0.2, random_state=88)"
   ]
  },
  {
   "cell_type": "code",
   "execution_count": 21,
   "metadata": {},
   "outputs": [
    {
     "data": {
      "text/plain": [
       "(['디자인도 안이쁘더라구요~', '편하게 따로 또 같이 입기좋아요 ', '디자인까지 다 마음에 듭니다', '넘 이쁘구 '], 119804)"
      ]
     },
     "execution_count": 21,
     "metadata": {},
     "output_type": "execute_result"
    }
   ],
   "source": [
    "X_train_SC[:4], len(X_train_SC)"
   ]
  },
  {
   "cell_type": "code",
   "execution_count": 22,
   "metadata": {},
   "outputs": [
    {
     "data": {
      "text/plain": [
       "(array([1, 2, 1, 1]), 119804)"
      ]
     },
     "execution_count": 22,
     "metadata": {},
     "output_type": "execute_result"
    }
   ],
   "source": [
    "y_train_SC[:4], len(y_train_SC)"
   ]
  },
  {
   "cell_type": "markdown",
   "metadata": {},
   "source": [
    "Tokenization"
   ]
  },
  {
   "cell_type": "code",
   "execution_count": 24,
   "metadata": {},
   "outputs": [],
   "source": [
    "# Tokenization\n",
    "def preprocessing(rawtext,okt,stem=False,remove_stopwords=False,stopwords=[]):\n",
    "    # 1. 한글 및 공백 제외한 문자 모두 제거 \n",
    "    rawtext = re.sub('[^가-힣ㄱ-ㅎㅏ-ㅣ\\\\s]','',rawtext)\n",
    "    rawtext = re.sub(r\"[^가-힣A-Za-z)-9(),!?\\'\\`]\", \" \", rawtext)\n",
    "    # 2. Okt 객체를 활용하여 형태소 단어로 나눔 / 어간 추출 (선택)\n",
    "    word_text = okt.morphs(rawtext,stem=False)\n",
    "\n",
    "    if stem:\n",
    "        word_text = okt.morphs(rawtext,stem=True)\n",
    "        \n",
    "        if remove_stopwords:\n",
    "            # 3. 불용어 제거 (선택)\n",
    "            word_text = [token for token in word_text if not token in stopwords]          \n",
    "        return word_text\n",
    "        \n",
    "    return word_text"
   ]
  },
  {
   "cell_type": "code",
   "execution_count": 25,
   "metadata": {},
   "outputs": [],
   "source": [
    "okt = Okt()\n",
    "stopwords = ['은','는','이','가','하','아','것','들','의','있','되','수','보','주','등','한']"
   ]
  },
  {
   "cell_type": "code",
   "execution_count": 27,
   "metadata": {},
   "outputs": [
    {
     "data": {
      "text/plain": [
       "[['디자인', '도', '안', '이쁘다'],\n",
       " ['편하다', '따로', '또', '같이', '입다', '좋다'],\n",
       " ['디자인', '까지', '다', '마음', '에', '듭니', '다'],\n",
       " ['넘다', '이쁘다']]"
      ]
     },
     "execution_count": 27,
     "metadata": {},
     "output_type": "execute_result"
    }
   ],
   "source": [
    "# preprocessing\n",
    "clean_train_review_SC = []\n",
    "clean_test_review_SC = []\n",
    "\n",
    "for SentimentText in X_train_SC:\n",
    "    clean_train_review_SC.append(preprocessing(SentimentText,okt,stem=True,remove_stopwords=False,stopwords=stopwords))\n",
    "    \n",
    "for SentimentText in X_test_SC:\n",
    "    clean_test_review_SC.append(preprocessing(SentimentText,okt,stem=True,remove_stopwords=False,stopwords=stopwords))\n",
    "\n",
    "clean_train_review_SC[:4]"
   ]
  },
  {
   "cell_type": "code",
   "execution_count": 29,
   "metadata": {},
   "outputs": [
    {
     "data": {
      "text/html": [
       "<div>\n",
       "<style scoped>\n",
       "    .dataframe tbody tr th:only-of-type {\n",
       "        vertical-align: middle;\n",
       "    }\n",
       "\n",
       "    .dataframe tbody tr th {\n",
       "        vertical-align: top;\n",
       "    }\n",
       "\n",
       "    .dataframe thead th {\n",
       "        text-align: right;\n",
       "    }\n",
       "</style>\n",
       "<table border=\"1\" class=\"dataframe\">\n",
       "  <thead>\n",
       "    <tr style=\"text-align: right;\">\n",
       "      <th></th>\n",
       "      <th>Token Count</th>\n",
       "    </tr>\n",
       "  </thead>\n",
       "  <tbody>\n",
       "    <tr>\n",
       "      <th>count</th>\n",
       "      <td>119804.000000</td>\n",
       "    </tr>\n",
       "    <tr>\n",
       "      <th>mean</th>\n",
       "      <td>5.136389</td>\n",
       "    </tr>\n",
       "    <tr>\n",
       "      <th>std</th>\n",
       "      <td>2.872032</td>\n",
       "    </tr>\n",
       "    <tr>\n",
       "      <th>min</th>\n",
       "      <td>0.000000</td>\n",
       "    </tr>\n",
       "    <tr>\n",
       "      <th>25%</th>\n",
       "      <td>3.000000</td>\n",
       "    </tr>\n",
       "    <tr>\n",
       "      <th>50%</th>\n",
       "      <td>5.000000</td>\n",
       "    </tr>\n",
       "    <tr>\n",
       "      <th>75%</th>\n",
       "      <td>7.000000</td>\n",
       "    </tr>\n",
       "    <tr>\n",
       "      <th>max</th>\n",
       "      <td>27.000000</td>\n",
       "    </tr>\n",
       "  </tbody>\n",
       "</table>\n",
       "</div>"
      ],
      "text/plain": [
       "         Token Count\n",
       "count  119804.000000\n",
       "mean        5.136389\n",
       "std         2.872032\n",
       "min         0.000000\n",
       "25%         3.000000\n",
       "50%         5.000000\n",
       "75%         7.000000\n",
       "max        27.000000"
      ]
     },
     "execution_count": 29,
     "metadata": {},
     "output_type": "execute_result"
    }
   ],
   "source": [
    "# 토큰화 후 문장별 토큰 수 탐색\n",
    "tokens_len_SC = [len(tokens) for tokens in clean_train_review_SC]\n",
    "df_tokens_len_SC = pd.DataFrame(tokens_len_SC, columns=['Token Count'])\n",
    "df_tokens_len_SC.describe()"
   ]
  },
  {
   "cell_type": "code",
   "execution_count": 30,
   "metadata": {},
   "outputs": [
    {
     "data": {
      "image/png": "[encoded data removed]",
      "text/plain": [
       "<Figure size 640x480 with 1 Axes>"
      ]
     },
     "metadata": {},
     "output_type": "display_data"
    }
   ],
   "source": [
    "import matplotlib.pyplot as plt\n",
    "%matplotlib inline \n",
    "\n",
    "tokens_len_SC.sort()\n",
    "plt.plot(tokens_len_SC)\n",
    "plt.show()"
   ]
  },
  {
   "cell_type": "code",
   "execution_count": 31,
   "metadata": {},
   "outputs": [
    {
     "data": {
      "text/html": [
       "<div>\n",
       "<style scoped>\n",
       "    .dataframe tbody tr th:only-of-type {\n",
       "        vertical-align: middle;\n",
       "    }\n",
       "\n",
       "    .dataframe tbody tr th {\n",
       "        vertical-align: top;\n",
       "    }\n",
       "\n",
       "    .dataframe thead th {\n",
       "        text-align: right;\n",
       "    }\n",
       "</style>\n",
       "<table border=\"1\" class=\"dataframe\">\n",
       "  <thead>\n",
       "    <tr style=\"text-align: right;\">\n",
       "      <th></th>\n",
       "      <th>Token Count</th>\n",
       "    </tr>\n",
       "  </thead>\n",
       "  <tbody>\n",
       "    <tr>\n",
       "      <th>count</th>\n",
       "      <td>29952.000000</td>\n",
       "    </tr>\n",
       "    <tr>\n",
       "      <th>mean</th>\n",
       "      <td>5.130342</td>\n",
       "    </tr>\n",
       "    <tr>\n",
       "      <th>std</th>\n",
       "      <td>2.868497</td>\n",
       "    </tr>\n",
       "    <tr>\n",
       "      <th>min</th>\n",
       "      <td>1.000000</td>\n",
       "    </tr>\n",
       "    <tr>\n",
       "      <th>25%</th>\n",
       "      <td>3.000000</td>\n",
       "    </tr>\n",
       "    <tr>\n",
       "      <th>50%</th>\n",
       "      <td>5.000000</td>\n",
       "    </tr>\n",
       "    <tr>\n",
       "      <th>75%</th>\n",
       "      <td>7.000000</td>\n",
       "    </tr>\n",
       "    <tr>\n",
       "      <th>max</th>\n",
       "      <td>26.000000</td>\n",
       "    </tr>\n",
       "  </tbody>\n",
       "</table>\n",
       "</div>"
      ],
      "text/plain": [
       "        Token Count\n",
       "count  29952.000000\n",
       "mean       5.130342\n",
       "std        2.868497\n",
       "min        1.000000\n",
       "25%        3.000000\n",
       "50%        5.000000\n",
       "75%        7.000000\n",
       "max       26.000000"
      ]
     },
     "execution_count": 31,
     "metadata": {},
     "output_type": "execute_result"
    }
   ],
   "source": [
    "# 토큰화 후 문장별 토큰 수 탐색\n",
    "tokens_len_SC_t = [len(tokens) for tokens in clean_test_review_SC]\n",
    "df_tokens_len_SC_t = pd.DataFrame(tokens_len_SC_t, columns=['Token Count'])\n",
    "df_tokens_len_SC_t.describe()"
   ]
  },
  {
   "cell_type": "code",
   "execution_count": 32,
   "metadata": {},
   "outputs": [
    {
     "name": "stdout",
     "output_type": "stream",
     "text": [
      "119804\n"
     ]
    }
   ],
   "source": [
    "max_sequence_length = 27\n",
    "print(sum([int(l<=max_sequence_length) for l in tokens_len_SC]))"
   ]
  },
  {
   "cell_type": "code",
   "execution_count": 33,
   "metadata": {},
   "outputs": [],
   "source": [
    "# 토큰 수 컨트롤\n",
    "modified_clean_train_review_SC = [tokens[:max_sequence_length] for tokens in clean_train_review_SC]\n",
    "modified_clean_test_review_SC = [tokens[:max_sequence_length] for tokens in clean_test_review_SC]"
   ]
  },
  {
   "cell_type": "code",
   "execution_count": 34,
   "metadata": {},
   "outputs": [
    {
     "name": "stdout",
     "output_type": "stream",
     "text": [
      "[[  10    3   54   24    0    0    0    0    0    0    0    0    0    0\n",
      "     0    0    0    0    0    0    0    0    0    0    0    0    0]\n",
      " [   7  812  500  358    9    2    0    0    0    0    0    0    0    0\n",
      "     0    0    0    0    0    0    0    0    0    0    0    0    0]\n",
      " [  10  134   28   93    5  146   28    0    0    0    0    0    0    0\n",
      "     0    0    0    0    0    0    0    0    0    0    0    0    0]\n",
      " [  41   24    0    0    0    0    0    0    0    0    0    0    0    0\n",
      "     0    0    0    0    0    0    0    0    0    0    0    0    0]\n",
      " [   8    3  161  163    5   73    4   31 6179   39    0    0    0    0\n",
      "     0    0    0    0    0    0    0    0    0    0    0    0    0]]\n"
     ]
    }
   ],
   "source": [
    "# 정수 인코딩 및 시퀀스화, 패딩\n",
    "tokenizer = Tokenizer(num_words=20000)\n",
    "tokenizer.fit_on_texts(modified_clean_train_review_SC)\n",
    "\n",
    "X_train_SC = tokenizer.texts_to_sequences(modified_clean_train_review_SC)\n",
    "X_train_SC = pad_sequences(X_train_SC, maxlen=max_sequence_length, padding='post')\n",
    "\n",
    "X_test_SC = tokenizer.texts_to_sequences(modified_clean_test_review_SC)\n",
    "X_test_SC = pad_sequences(X_test_SC, maxlen=max_sequence_length, padding ='post') \n",
    "\n",
    "print(X_train_SC[:5])"
   ]
  },
  {
   "cell_type": "code",
   "execution_count": 35,
   "metadata": {},
   "outputs": [
    {
     "name": "stdout",
     "output_type": "stream",
     "text": [
      "Model: \"sequential\"\n",
      "_________________________________________________________________\n",
      " Layer (type)                Output Shape              Param #   \n",
      "=================================================================\n",
      " embedding (Embedding)       (None, 27, 300)           6000000   \n",
      "                                                                 \n",
      " lstm (LSTM)                 (None, 50)                70200     \n",
      "                                                                 \n",
      " dense (Dense)               (None, 5)                 255       \n",
      "                                                                 \n",
      "=================================================================\n",
      "Total params: 6070455 (23.16 MB)\n",
      "Trainable params: 6070455 (23.16 MB)\n",
      "Non-trainable params: 0 (0.00 Byte)\n",
      "_________________________________________________________________\n"
     ]
    }
   ],
   "source": [
    "# 모델 훈련\n",
    "model_SC = tf.keras.Sequential([\n",
    "    tf.keras.layers.Embedding(20000,300, input_length=max_sequence_length),\n",
    "    tf.keras.layers.LSTM(units=50),\n",
    "    tf.keras.layers.Dense(5, activation='softmax')\n",
    "])\n",
    "\n",
    "model_SC.compile(optimizer='adam', loss='sparse_categorical_crossentropy',\n",
    "                metrics=['accuracy'])\n",
    "model_SC.summary()"
   ]
  },
  {
   "cell_type": "code",
   "execution_count": 36,
   "metadata": {},
   "outputs": [
    {
     "name": "stdout",
     "output_type": "stream",
     "text": [
      "Epoch 1/3\n",
      "749/749 [==============================] - 116s 149ms/step - loss: 0.4699 - accuracy: 0.8287 - val_loss: 0.2452 - val_accuracy: 0.9235\n",
      "Epoch 2/3\n",
      "749/749 [==============================] - 122s 163ms/step - loss: 0.1942 - accuracy: 0.9387 - val_loss: 0.2248 - val_accuracy: 0.9287\n",
      "Epoch 3/3\n",
      "749/749 [==============================] - 116s 155ms/step - loss: 0.1561 - accuracy: 0.9494 - val_loss: 0.2239 - val_accuracy: 0.9295\n"
     ]
    }
   ],
   "source": [
    "# 학습\n",
    "history = model_SC.fit(X_train_SC, y_train_SC, epochs=3, batch_size=128, validation_split=0.2)"
   ]
  },
  {
   "cell_type": "markdown",
   "metadata": {},
   "source": [
    "#### Test 1 (SentimentText to Category)"
   ]
  },
  {
   "cell_type": "code",
   "execution_count": 37,
   "metadata": {},
   "outputs": [
    {
     "name": "stdout",
     "output_type": "stream",
     "text": [
      "936/936 [==============================] - 8s 8ms/step\n"
     ]
    },
    {
     "data": {
      "text/plain": [
       "array([[2.2501870e-05, 1.8725049e-03, 1.0831865e-03, 9.9642134e-01,\n",
       "        6.0056773e-04],\n",
       "       [8.6377515e-04, 8.5805543e-04, 1.9701661e-03, 1.1587671e-03,\n",
       "        9.9514920e-01],\n",
       "       [9.9633324e-01, 4.7752575e-04, 9.8856736e-04, 1.8457389e-04,\n",
       "        2.0160112e-03],\n",
       "       [1.6678580e-04, 3.2944730e-04, 9.9691856e-01, 1.5243996e-03,\n",
       "        1.0609324e-03],\n",
       "       [1.0230244e-03, 2.9084477e-01, 6.7520583e-01, 2.8613826e-02,\n",
       "        4.3125148e-03]], dtype=float32)"
      ]
     },
     "execution_count": 37,
     "metadata": {},
     "output_type": "execute_result"
    }
   ],
   "source": [
    "# 테스트 데이터 값 예측\n",
    "prediction_SC = model_SC.predict(X_test_SC)\n",
    "prediction_SC[:5]"
   ]
  },
  {
   "cell_type": "code",
   "execution_count": 38,
   "metadata": {},
   "outputs": [
    {
     "name": "stdout",
     "output_type": "stream",
     "text": [
      "테스트 정확도: 92.80%\n"
     ]
    }
   ],
   "source": [
    "# 테스트 성능\n",
    "# 1. prediction 배열에서 큰 값의 인덱스를 구함\n",
    "predicted_labels_SC = np.argmax(prediction_SC, axis=1)\n",
    "\n",
    "# 2. 실제 라벨과 예측된 라벨을 사용하여 정확도 계산\n",
    "accuracy_SC = accuracy_score(y_test_SC, predicted_labels_SC)\n",
    "\n",
    "# 3. 결과 출력\n",
    "print(f\"테스트 정확도: {accuracy_SC * 100:.2f}%\")"
   ]
  },
  {
   "cell_type": "markdown",
   "metadata": {},
   "source": [
    "#### Test 2 (RawText to Category)"
   ]
  },
  {
   "cell_type": "code",
   "execution_count": 39,
   "metadata": {},
   "outputs": [],
   "source": [
    "X_RC, y = target_df.loc[:, \"RawText\"].to_list(), enc_data\n",
    "X_train_RC, X_test_RC, y_train_RC, y_test_RC = train_test_split(X_RC, y, test_size=0.2, random_state=88)"
   ]
  },
  {
   "cell_type": "code",
   "execution_count": 40,
   "metadata": {},
   "outputs": [
    {
     "data": {
      "text/plain": [
       "(119804, 29952)"
      ]
     },
     "execution_count": 40,
     "metadata": {},
     "output_type": "execute_result"
    }
   ],
   "source": [
    "len(X_train_RC), len(X_test_RC)"
   ]
  },
  {
   "cell_type": "code",
   "execution_count": 41,
   "metadata": {},
   "outputs": [
    {
     "data": {
      "text/plain": [
       "(['애아빠가 입었는데, 넘 불편해보이고 디자인도 안이쁘더라구요~ 길이도 길고 군대간 아들것도 사놓을랬는데 안되겠어요..',\n",
       "  '편하게 따로 또 같이 입기좋아요  추울때도 끼워입을수 있고 보풀 좀 납니다',\n",
       "  '사이즈나 재질 디자인까지 다 마음에 듭니다',\n",
       "  '대입  딸이랑 함께 신을려구  2개 구매했어요 넘 이쁘구 편하네요 딸도 이쁘다고  좋아합니다',\n",
       "  '셋트구성도 좋고 제질도 넘 괜찮아서 넘 좋은것같아요 가격도 다른거에 비하면 저렴하게 풀셋트로 이거 한셋트면 여행준비 완료 기분좋은 여행 할 생각에 기분까지 벌써 여행한 느낌이네요 가성비 짱 제품 짱 디자인 제질  구성 모두모두 만족합니다 앞으로 좋은곳으로 이 깨리어로 여행 많이 다녀야겠네요 앞으로 잼나게 여행다니며 살아야겠네요^^~~'],\n",
       " array([1, 2, 1, 1, 0]))"
      ]
     },
     "execution_count": 41,
     "metadata": {},
     "output_type": "execute_result"
    }
   ],
   "source": [
    "X_train_RC[:5], y_train_RC[:5]"
   ]
  },
  {
   "cell_type": "code",
   "execution_count": 42,
   "metadata": {},
   "outputs": [
    {
     "data": {
      "text/plain": [
       "(['싸지만 결코 떨어지지않는 퀄리티!! 사이즈도 좋고 부드럽고 좋아요~^^ 무배에 이 가격이면 개득템~ㅋ 선물용으로 재구매 해야겠어요^^',\n",
       "  '구김이 없다고 들었던거 같은데 구김이 좀 많네요, 구김이 심해 반품하려고 했지만 기간이 지나버려 그냥 입기로 했습니다~',\n",
       "  '적립금이 이렇게 큰 경우는 처음이었어요. 카드할인으로 할인받고 게다가 적립금까지 하다보니 60만원대에 살수 있었네요. 아직은 더워서 바로 입을수는 없지만 이제 추석 지나고 바람 불어오기 시작하면 바로 입을수 있을것 같아요. 사이즈는 일반적인 사이즈 이고, 색감도 네이비가 젊어보이고 좋은것 같아요. 주말껴서 배송이 조금 늦긴 했지만 그렇다고 그리 늦은것 아닌것 같아요. 잘 입을게요.',\n",
       "  '우선 편하게 잘맞아서 좋구요 데일리로 잘신고 있어요 발복이 넓은 편인데도  편하네요',\n",
       "  '가격대비  넘넘 퀄러티 좋구요~ 바지 신축성 짱이예요 .5종 모두  예뻐요 ~감사해요 ~^^'],\n",
       " array([3, 4, 0, 2, 2]))"
      ]
     },
     "execution_count": 42,
     "metadata": {},
     "output_type": "execute_result"
    }
   ],
   "source": [
    "X_test_RC[:5], y_test_RC[:5]"
   ]
  },
  {
   "cell_type": "code",
   "execution_count": 43,
   "metadata": {},
   "outputs": [
    {
     "data": {
      "text/plain": [
       "[['애',\n",
       "  '아빠',\n",
       "  '가',\n",
       "  '입다',\n",
       "  '넘다',\n",
       "  '불편',\n",
       "  '해보다',\n",
       "  '디자인',\n",
       "  '도',\n",
       "  '안',\n",
       "  '이쁘다',\n",
       "  '길이',\n",
       "  '도',\n",
       "  '길다',\n",
       "  '군대',\n",
       "  '간',\n",
       "  '아들',\n",
       "  '것',\n",
       "  '도',\n",
       "  '사다',\n",
       "  '랬',\n",
       "  '늘다',\n",
       "  '안되다'],\n",
       " ['편하다',\n",
       "  '따로',\n",
       "  '또',\n",
       "  '같이',\n",
       "  '입다',\n",
       "  '좋다',\n",
       "  '추다',\n",
       "  '때',\n",
       "  '도',\n",
       "  '끼우다',\n",
       "  '이다',\n",
       "  '있다',\n",
       "  '보풀',\n",
       "  '좀',\n",
       "  '나다'],\n",
       " ['사이즈', '나', '재질', '디자인', '까지', '다', '마음', '에', '듭니', '다'],\n",
       " ['대입',\n",
       "  '딸',\n",
       "  '이랑',\n",
       "  '함께',\n",
       "  '신다',\n",
       "  '구',\n",
       "  '개',\n",
       "  '구매',\n",
       "  '하다',\n",
       "  '넘다',\n",
       "  '이쁘다',\n",
       "  '편하다',\n",
       "  '딸도',\n",
       "  '이쁘다',\n",
       "  '좋아하다'],\n",
       " ['셋트구성',\n",
       "  '도',\n",
       "  '좋다',\n",
       "  '제',\n",
       "  '질도',\n",
       "  '넘다',\n",
       "  '괜찮다',\n",
       "  '넘다',\n",
       "  '좋다',\n",
       "  '것',\n",
       "  '같다',\n",
       "  '가격',\n",
       "  '도',\n",
       "  '다른',\n",
       "  '거',\n",
       "  '에',\n",
       "  '비',\n",
       "  '하다',\n",
       "  '저렴하다',\n",
       "  '풀셋트',\n",
       "  '로',\n",
       "  '이',\n",
       "  '거',\n",
       "  '한셋트',\n",
       "  '면',\n",
       "  '여행',\n",
       "  '준비',\n",
       "  '완료',\n",
       "  '기분',\n",
       "  '좋다',\n",
       "  '여행',\n",
       "  '하다',\n",
       "  '생각',\n",
       "  '에',\n",
       "  '기분',\n",
       "  '까지',\n",
       "  '벌써',\n",
       "  '여행',\n",
       "  '한',\n",
       "  '느끼다',\n",
       "  '가성',\n",
       "  '비',\n",
       "  '짱',\n",
       "  '제품',\n",
       "  '짱',\n",
       "  '디자인',\n",
       "  '제',\n",
       "  '질',\n",
       "  '구성',\n",
       "  '모두',\n",
       "  '모두',\n",
       "  '만족하다',\n",
       "  '앞',\n",
       "  '으로',\n",
       "  '좋다',\n",
       "  '곳',\n",
       "  '으로',\n",
       "  '이',\n",
       "  '깨다',\n",
       "  '어로',\n",
       "  '여행',\n",
       "  '많이',\n",
       "  '다니다',\n",
       "  '앞',\n",
       "  '으로',\n",
       "  '재다',\n",
       "  '여행',\n",
       "  '다니다',\n",
       "  '살다']]"
      ]
     },
     "execution_count": 43,
     "metadata": {},
     "output_type": "execute_result"
    }
   ],
   "source": [
    "# preprocessing\n",
    "clean_train_review_RC = []\n",
    "clean_test_review_RC = []\n",
    "\n",
    "for RawText in X_train_RC:\n",
    "    clean_train_review_RC.append(preprocessing(RawText,okt,stem=True,remove_stopwords=False,stopwords=stopwords))\n",
    "    \n",
    "for RawText in X_test_RC:\n",
    "    clean_test_review_RC.append(preprocessing(RawText,okt,stem=True,remove_stopwords=False,stopwords=stopwords))\n",
    "\n",
    "clean_train_review_RC[:5]"
   ]
  },
  {
   "cell_type": "code",
   "execution_count": 44,
   "metadata": {},
   "outputs": [
    {
     "data": {
      "text/html": [
       "<div>\n",
       "<style scoped>\n",
       "    .dataframe tbody tr th:only-of-type {\n",
       "        vertical-align: middle;\n",
       "    }\n",
       "\n",
       "    .dataframe tbody tr th {\n",
       "        vertical-align: top;\n",
       "    }\n",
       "\n",
       "    .dataframe thead th {\n",
       "        text-align: right;\n",
       "    }\n",
       "</style>\n",
       "<table border=\"1\" class=\"dataframe\">\n",
       "  <thead>\n",
       "    <tr style=\"text-align: right;\">\n",
       "      <th></th>\n",
       "      <th>Token Count</th>\n",
       "    </tr>\n",
       "  </thead>\n",
       "  <tbody>\n",
       "    <tr>\n",
       "      <th>count</th>\n",
       "      <td>29952.000000</td>\n",
       "    </tr>\n",
       "    <tr>\n",
       "      <th>mean</th>\n",
       "      <td>27.627137</td>\n",
       "    </tr>\n",
       "    <tr>\n",
       "      <th>std</th>\n",
       "      <td>17.371473</td>\n",
       "    </tr>\n",
       "    <tr>\n",
       "      <th>min</th>\n",
       "      <td>3.000000</td>\n",
       "    </tr>\n",
       "    <tr>\n",
       "      <th>25%</th>\n",
       "      <td>16.000000</td>\n",
       "    </tr>\n",
       "    <tr>\n",
       "      <th>50%</th>\n",
       "      <td>23.000000</td>\n",
       "    </tr>\n",
       "    <tr>\n",
       "      <th>75%</th>\n",
       "      <td>34.000000</td>\n",
       "    </tr>\n",
       "    <tr>\n",
       "      <th>max</th>\n",
       "      <td>159.000000</td>\n",
       "    </tr>\n",
       "  </tbody>\n",
       "</table>\n",
       "</div>"
      ],
      "text/plain": [
       "        Token Count\n",
       "count  29952.000000\n",
       "mean      27.627137\n",
       "std       17.371473\n",
       "min        3.000000\n",
       "25%       16.000000\n",
       "50%       23.000000\n",
       "75%       34.000000\n",
       "max      159.000000"
      ]
     },
     "execution_count": 44,
     "metadata": {},
     "output_type": "execute_result"
    }
   ],
   "source": [
    "# 토큰화 후 문장별 토큰 수 탐색\n",
    "tokens_len_RC = [len(tokens) for tokens in clean_test_review_RC]\n",
    "df_tokens_len_RC = pd.DataFrame(tokens_len_RC, columns=['Token Count'])\n",
    "df_tokens_len_RC.describe()"
   ]
  },
  {
   "cell_type": "code",
   "execution_count": 46,
   "metadata": {},
   "outputs": [
    {
     "name": "stdout",
     "output_type": "stream",
     "text": [
      "18880\n"
     ]
    }
   ],
   "source": [
    "max_sequence_length = 27\n",
    "print(sum([int(l<=max_sequence_length) for l in tokens_len_RC]))"
   ]
  },
  {
   "cell_type": "code",
   "execution_count": 47,
   "metadata": {},
   "outputs": [],
   "source": [
    "# 토큰 수 컨트롤\n",
    "modified_clean_train_review_RC = [tokens[:max_sequence_length] for tokens in clean_train_review_RC]\n",
    "modified_clean_test_review_RC = [tokens[:max_sequence_length] for tokens in clean_test_review_RC]"
   ]
  },
  {
   "cell_type": "code",
   "execution_count": 48,
   "metadata": {},
   "outputs": [
    {
     "name": "stdout",
     "output_type": "stream",
     "text": [
      "[[ 840  671    6    7   46  762  263   14    4   45   29   60    4  230\n",
      "  5437 1112  213   71    4   49 4568  269  274    0    0    0    0]\n",
      " [   8  914  327  312    7    3  259   51    4 1121   17   15  337   23\n",
      "   212    0    0    0    0    0    0    0    0    0    0    0    0]\n",
      " [  10  141  101   14  155   36   98    5  195   36    0    0    0    0\n",
      "     0    0    0    0    0    0    0    0    0    0    0    0    0]\n",
      " [6623  414  280  777   41  174  147   33    2   46   29    8 1966   29\n",
      "   162    0    0    0    0    0    0    0    0    0    0    0    0]\n",
      " [5438    4    3  113  545   46   54   46    3   71   13   11    4  111\n",
      "   164    5   93    2   43 6140   31    1  164 3376  167  559 1497]]\n"
     ]
    }
   ],
   "source": [
    "# 정수 인코딩 및 시퀀스화, 패딩\n",
    "tokenizer = Tokenizer(num_words=20000)\n",
    "tokenizer.fit_on_texts(modified_clean_train_review_RC)\n",
    "\n",
    "X_train_RC = tokenizer.texts_to_sequences(modified_clean_train_review_RC)\n",
    "X_train_RC = pad_sequences(X_train_RC, maxlen=max_sequence_length, padding='post')\n",
    "\n",
    "X_test_RC = tokenizer.texts_to_sequences(modified_clean_test_review_RC)\n",
    "X_test_RC = pad_sequences(X_test_RC, maxlen=max_sequence_length, padding ='post') \n",
    "\n",
    "print(X_train_RC[:5])"
   ]
  },
  {
   "cell_type": "code",
   "execution_count": 49,
   "metadata": {},
   "outputs": [
    {
     "name": "stdout",
     "output_type": "stream",
     "text": [
      "936/936 [==============================] - 10s 11ms/step\n"
     ]
    },
    {
     "data": {
      "text/plain": [
       "array([[4.4108140e-03, 3.2411626e-01, 6.1635125e-01, 2.0617370e-02,\n",
       "        3.4504373e-02],\n",
       "       [3.3323377e-04, 2.5609590e-02, 2.0375739e-01, 7.6103079e-01,\n",
       "        9.2689497e-03],\n",
       "       [5.1219411e-02, 5.7297504e-01, 4.6050306e-02, 5.9854791e-02,\n",
       "        2.6990044e-01],\n",
       "       [9.9270272e-01, 4.7249882e-04, 2.1876886e-03, 2.6669010e-04,\n",
       "        4.3703769e-03],\n",
       "       [1.1785333e-03, 9.9397320e-01, 7.7282137e-04, 2.0028502e-03,\n",
       "        2.0726603e-03]], dtype=float32)"
      ]
     },
     "execution_count": 49,
     "metadata": {},
     "output_type": "execute_result"
    }
   ],
   "source": [
    "# 테스트 데이터 값 예측\n",
    "prediction_RC = model_SC.predict(X_test_RC)\n",
    "prediction_RC[:5]"
   ]
  },
  {
   "cell_type": "code",
   "execution_count": 50,
   "metadata": {},
   "outputs": [
    {
     "name": "stdout",
     "output_type": "stream",
     "text": [
      "테스트 정확도: 22.68%\n"
     ]
    }
   ],
   "source": [
    "# 테스트 성능\n",
    "# 1. prediction 배열에서 큰 값의 인덱스를 구함\n",
    "predicted_labels_RC = np.argmax(prediction_RC, axis=1)\n",
    "\n",
    "# 2. 실제 라벨과 예측된 라벨을 사용하여 정확도 계산\n",
    "accuracy_RC = accuracy_score(y_test_RC, predicted_labels_RC)\n",
    "\n",
    "# 3. 결과 출력\n",
    "print(f\"테스트 정확도: {accuracy_RC * 100:.2f}%\")"
   ]
  }
 ],
 "metadata": {
  "kernelspec": {
   "display_name": "ds_study",
   "language": "python",
   "name": "python3"
  },
  "language_info": {
   "codemirror_mode": {
    "name": "ipython",
    "version": 3
   },
   "file_extension": ".py",
   "mimetype": "text/x-python",
   "name": "python",
   "nbconvert_exporter": "python",
   "pygments_lexer": "ipython3",
   "version": "3.8.16"
  },
  "orig_nbformat": 4
 },
 "nbformat": 4,
 "nbformat_minor": 2
}
